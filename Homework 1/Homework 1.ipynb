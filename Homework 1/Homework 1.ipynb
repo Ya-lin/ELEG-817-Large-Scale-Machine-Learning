{
 "cells": [
  {
   "cell_type": "markdown",
   "id": "a717af15-4c5b-4444-94e2-c3234bb3045f",
   "metadata": {},
   "source": [
    "# Problem 1\n",
    "The overal goal is to generate data based on the description in Bach's \"Bolasso: Model\n",
    "Consistent Lasso Estimation through Bootstrap\" section 4.1. Steps: (preparation steps)"
   ]
  },
  {
   "cell_type": "markdown",
   "id": "fa4adb68-a3b8-4cee-8a1f-a57ccee83aca",
   "metadata": {},
   "source": [
    "**1)**"
   ]
  },
  {
   "cell_type": "code",
   "execution_count": 1,
   "id": "06acd3b3-ca97-4e88-814c-2e73289817f0",
   "metadata": {},
   "outputs": [],
   "source": [
    "import numpy as np"
   ]
  },
  {
   "cell_type": "code",
   "execution_count": 2,
   "id": "8f546a44-30c5-4558-a41b-9f2eacfea683",
   "metadata": {},
   "outputs": [
    {
     "name": "stdout",
     "output_type": "stream",
     "text": [
      "(32, 32)\n",
      "[[ 1.317574    0.59085127  2.10458871 ...  0.25745607  1.03670655\n",
      "   0.54424439]\n",
      " [-1.06630833  0.88816369  1.60678407 ...  2.02993102  0.64101724\n",
      "  -0.32751264]\n",
      " [ 1.20506109  0.90989133 -0.25743089 ...  0.77506998  0.02386235\n",
      "   0.72078805]\n",
      " ...\n",
      " [-0.17405302 -0.78746915  0.84410147 ... -0.91399827  0.40139713\n",
      "   0.6716994 ]\n",
      " [-0.30789857  0.23713092  0.845967   ... -0.67500762  0.32797722\n",
      "  -0.76480184]\n",
      " [-0.98494956  0.17075681  1.24749474 ... -0.38564428 -0.90306674\n",
      "  -0.70559834]]\n"
     ]
    }
   ],
   "source": [
    "p=32\n",
    "G_ = np.random.normal(0,1,size=(p,p))\n",
    "print(G_.shape)\n",
    "print(G_)"
   ]
  },
  {
   "cell_type": "markdown",
   "id": "dac4edbd-60f7-477d-a94f-93f8b55e5a6c",
   "metadata": {},
   "source": [
    "**2)**"
   ]
  },
  {
   "cell_type": "code",
   "execution_count": 3,
   "id": "f5b3ef47-1c99-4cda-b48d-1695b55439a9",
   "metadata": {},
   "outputs": [
    {
     "name": "stdout",
     "output_type": "stream",
     "text": [
      "(32,)\n",
      "(32, 1)\n",
      "The resulting matrix [[ 0.24106846  0.10810445  0.38506373 ...  0.04710516  0.18967986\n",
      "   0.09957707]\n",
      " [-0.19130162  0.15934149  0.28826597 ...  0.36418087  0.11500205\n",
      "  -0.05875758]\n",
      " [ 0.22171775  0.16740982 -0.0473644  ...  0.1426042   0.00439041\n",
      "   0.13261693]\n",
      " ...\n",
      " [-0.03291701 -0.14892661  0.15963694 ... -0.17285586  0.07591245\n",
      "   0.12703217]\n",
      " [-0.05929228  0.0456645   0.16290856 ... -0.12998677  0.06315884\n",
      "  -0.14727852]\n",
      " [-0.20300938  0.03519493  0.25712295 ... -0.0794857  -0.18613239\n",
      "  -0.14543189]]\n"
     ]
    }
   ],
   "source": [
    "norm = np.sqrt((G_ * G_).sum(axis=1))\n",
    "print(norm.shape)\n",
    "norm = norm.reshape(-1,1)\n",
    "print(norm.shape)\n",
    "G = G_ / norm\n",
    "print(\"The resulting matrix\",G)"
   ]
  },
  {
   "cell_type": "code",
   "execution_count": 4,
   "id": "6698468b-4e7d-4218-bcdf-cf080f40f2d3",
   "metadata": {},
   "outputs": [
    {
     "name": "stdout",
     "output_type": "stream",
     "text": [
      "0.9999999999999999\n",
      "1.0\n",
      "1.0\n",
      "0.9999999999999999\n",
      "1.0\n"
     ]
    }
   ],
   "source": [
    "# test whether normaliz rows correctly\n",
    "for i in range(5):\n",
    "    print(np.linalg.norm(G[i,:]))"
   ]
  },
  {
   "cell_type": "markdown",
   "id": "914cc2bb-37bd-4605-b63a-bb599870a51e",
   "metadata": {},
   "source": [
    "**3)**"
   ]
  },
  {
   "cell_type": "code",
   "execution_count": 5,
   "id": "cb4e0f3d-f6a8-48fe-a697-c55e611e1f2c",
   "metadata": {},
   "outputs": [
    {
     "name": "stdout",
     "output_type": "stream",
     "text": [
      "[[ 1.          0.00659518 -0.05211651 ... -0.19455685  0.01766195\n",
      "  -0.06630699]\n",
      " [ 0.00659518  1.          0.20726314 ...  0.245412    0.11361356\n",
      "   0.12446353]\n",
      " [-0.05211651  0.20726314  1.         ... -0.05095771 -0.11601249\n",
      "  -0.25301272]\n",
      " ...\n",
      " [-0.19455685  0.245412   -0.05095771 ...  1.          0.23951893\n",
      "  -0.20591996]\n",
      " [ 0.01766195  0.11361356 -0.11601249 ...  0.23951893  1.\n",
      "   0.20053562]\n",
      " [-0.06630699  0.12446353 -0.25301272 ... -0.20591996  0.20053562\n",
      "   1.        ]]\n"
     ]
    }
   ],
   "source": [
    "Q = G@G.T\n",
    "print(Q)"
   ]
  },
  {
   "cell_type": "code",
   "execution_count": 6,
   "id": "f2ed84ce-80b9-407f-87b3-5ddb100652b0",
   "metadata": {},
   "outputs": [
    {
     "name": "stdout",
     "output_type": "stream",
     "text": [
      "(1000, 32)\n",
      "[[ 0.69884089 -1.0467652  -0.69241198 ... -0.38119767  0.04022869\n",
      "  -0.27521879]\n",
      " [-0.10665759  0.20410446  0.15944763 ...  0.85461653  1.52762118\n",
      "  -0.17067882]\n",
      " [ 0.90195311 -0.24173042  0.04585044 ...  0.09596876 -1.87946513\n",
      "  -0.44584244]\n",
      " ...\n",
      " [-1.00644027 -0.97859814  0.11904337 ...  0.44882443 -1.21073113\n",
      "  -2.18674376]\n",
      " [ 1.66048028  0.39442881  0.63198446 ... -0.28738958  0.26376942\n",
      "  -0.17386778]\n",
      " [ 0.15233397  1.1446329   1.79883204 ...  1.28814261 -0.39423597\n",
      "   0.57920052]]\n"
     ]
    }
   ],
   "source": [
    "n = 1000\n",
    "mean = [0]*p\n",
    "cov = Q\n",
    "X = np.random.multivariate_normal(mean, cov, size=n)\n",
    "print(X.shape)\n",
    "print(X)"
   ]
  },
  {
   "cell_type": "markdown",
   "id": "ff7fdf02-e28e-4574-b46f-6d366393c768",
   "metadata": {},
   "source": [
    "The $i$-th row of $X$ is $x_i$."
   ]
  },
  {
   "cell_type": "code",
   "execution_count": 7,
   "id": "9adf4514-7f04-465b-bf61-e50f4ea69cf5",
   "metadata": {},
   "outputs": [
    {
     "name": "stdout",
     "output_type": "stream",
     "text": [
      "[-0.00146143  0.03435313  0.00181739  0.00777931 -0.00602747 -0.01796272\n",
      " -0.02925144  0.0502802  -0.03848959  0.05075309  0.03085739 -0.01048102\n",
      " -0.01089249  0.00365016 -0.02703911  0.01880115  0.00759477 -0.02953493\n",
      "  0.04403772 -0.00566941  0.00098309 -0.00857981  0.08591786  0.03698159\n",
      "  0.00208707 -0.0365756  -0.04297626 -0.01634121 -0.05445983  0.01283962\n",
      " -0.0755059  -0.03993977]\n"
     ]
    }
   ],
   "source": [
    "# empirical mean\n",
    "mean_ = X.mean(axis=0)\n",
    "print(mean_)"
   ]
  },
  {
   "cell_type": "code",
   "execution_count": 8,
   "id": "30e27379-d031-4fb2-af5c-31c2389a79cc",
   "metadata": {},
   "outputs": [
    {
     "name": "stdout",
     "output_type": "stream",
     "text": [
      "(32, 32)\n",
      "[[ 1.09424294  0.06906738 -0.05653153 ... -0.20312821  0.05949123\n",
      "  -0.08026794]\n",
      " [ 0.06906738  1.10759351  0.31574808 ...  0.25844918  0.16297742\n",
      "   0.09054537]\n",
      " [-0.05653153  0.31574808  1.02769182 ... -0.02148621 -0.14669513\n",
      "  -0.22930508]\n",
      " ...\n",
      " [-0.20312821  0.25844918 -0.02148621 ...  1.0085321   0.23904683\n",
      "  -0.1658778 ]\n",
      " [ 0.05949123  0.16297742 -0.14669513 ...  0.23904683  0.97424322\n",
      "   0.24383756]\n",
      " [-0.08026794  0.09054537 -0.22930508 ... -0.1658778   0.24383756\n",
      "   0.92289346]]\n"
     ]
    }
   ],
   "source": [
    "# empirical covariance\n",
    "Q_ = np.cov(X.T)\n",
    "print(Q_.shape)\n",
    "print(Q_)"
   ]
  },
  {
   "cell_type": "code",
   "execution_count": 9,
   "id": "6ca84f00-c135-45b9-bf0b-c3edad260d25",
   "metadata": {},
   "outputs": [
    {
     "name": "stdout",
     "output_type": "stream",
     "text": [
      "[[-0.09424294 -0.0624722   0.00441501 ...  0.00857136 -0.04182927\n",
      "   0.01396094]\n",
      " [-0.0624722  -0.10759351 -0.10848494 ... -0.01303718 -0.04936386\n",
      "   0.03391816]\n",
      " [ 0.00441501 -0.10848494 -0.02769182 ... -0.0294715   0.03068264\n",
      "  -0.02370765]\n",
      " ...\n",
      " [ 0.00857136 -0.01303718 -0.0294715  ... -0.0085321   0.00047211\n",
      "  -0.04004216]\n",
      " [-0.04182927 -0.04936386  0.03068264 ...  0.00047211  0.02575678\n",
      "  -0.04330193]\n",
      " [ 0.01396094  0.03391816 -0.02370765 ... -0.04004216 -0.04330193\n",
      "   0.07710654]]\n"
     ]
    }
   ],
   "source": [
    "print(Q-Q_)"
   ]
  },
  {
   "cell_type": "markdown",
   "id": "e5ff38aa-f4f5-43d4-bea3-305df0127cb0",
   "metadata": {},
   "source": [
    "**4)**"
   ]
  },
  {
   "cell_type": "markdown",
   "id": "343a24b4-f4c8-4616-906d-4a749d03e2dd",
   "metadata": {},
   "source": [
    "The distribution to sample $w$ is not specified. Here we simply use the standard Gaussian."
   ]
  },
  {
   "cell_type": "code",
   "execution_count": 10,
   "id": "cf2ad673-8ee1-4c20-9ade-334746e55f86",
   "metadata": {},
   "outputs": [
    {
     "name": "stdout",
     "output_type": "stream",
     "text": [
      "(32, 1)\n",
      "[[ 0.01247206]\n",
      " [ 0.92214057]\n",
      " [ 0.20220743]\n",
      " [ 1.19890883]\n",
      " [ 0.19254455]\n",
      " [ 1.36957039]\n",
      " [-1.42113136]\n",
      " [ 1.42105986]\n",
      " [-0.08766071]\n",
      " [-0.05060282]\n",
      " [ 0.62223469]\n",
      " [-1.02291848]\n",
      " [ 0.10388541]\n",
      " [ 0.18889479]\n",
      " [-0.37824238]\n",
      " [ 0.52767801]\n",
      " [ 0.37394397]\n",
      " [-1.21003845]\n",
      " [ 0.85839253]\n",
      " [-0.05084554]\n",
      " [-1.48931576]\n",
      " [-1.52170578]\n",
      " [-1.34911711]\n",
      " [ 0.22251837]\n",
      " [-0.785671  ]\n",
      " [-0.25354773]\n",
      " [ 1.53518766]\n",
      " [-0.71944606]\n",
      " [ 0.72187858]\n",
      " [-1.20768179]\n",
      " [ 1.46339073]\n",
      " [ 0.57952466]]\n"
     ]
    }
   ],
   "source": [
    "# fixed true model parameters\n",
    "w = np.random.normal(0,1,size=(p,1))\n",
    "print(w.shape)\n",
    "print(w)"
   ]
  },
  {
   "cell_type": "markdown",
   "id": "57108e08-03bc-4f85-ab38-f8fb8e937409",
   "metadata": {},
   "source": [
    "In the model $Y=w^TX+\\epsilon$, $\\epsilon\\sim\\mathcal(0,\\sigma^2)$. But $\\sigma$ is unknown. Based on 6), we specify $\\sigma=0.1\\sqrt{w^TQw}$."
   ]
  },
  {
   "cell_type": "code",
   "execution_count": 11,
   "id": "b5aac3eb-7db8-4d4c-82ff-e1c06251a3c7",
   "metadata": {},
   "outputs": [
    {
     "name": "stdout",
     "output_type": "stream",
     "text": [
      "[[0.50580601]]\n"
     ]
    }
   ],
   "source": [
    "sigma = 0.1*np.sqrt(w.T@Q@w)\n",
    "print(sigma)"
   ]
  },
  {
   "cell_type": "code",
   "execution_count": 12,
   "id": "aee04c07-a4dc-4053-8311-ea52b0f369c4",
   "metadata": {},
   "outputs": [
    {
     "name": "stdout",
     "output_type": "stream",
     "text": [
      "(1000, 1)\n",
      "[[ 1.00678918]\n",
      " [ 0.28213814]\n",
      " [ 0.16324504]\n",
      " [-0.64543705]\n",
      " [-0.88511308]\n",
      " [-0.65289221]\n",
      " [ 0.48745232]\n",
      " [ 0.33553049]\n",
      " [-0.22740575]\n",
      " [-0.26055183]]\n"
     ]
    }
   ],
   "source": [
    "# noise epsilon\n",
    "epsilon = np.random.normal(0, sigma, size=(n,1))\n",
    "print(epsilon.shape)\n",
    "print(epsilon[0:10])"
   ]
  },
  {
   "cell_type": "code",
   "execution_count": 13,
   "id": "43bcaab1-5827-41e3-b6cb-b2151ac4de5e",
   "metadata": {},
   "outputs": [
    {
     "name": "stdout",
     "output_type": "stream",
     "text": [
      "(1000, 1)\n",
      "[[-2.7756664 ]\n",
      " [-3.32811648]\n",
      " [-7.83663617]\n",
      " [ 9.84915777]\n",
      " [ 2.35201267]\n",
      " [-4.83269509]\n",
      " [-1.79806319]\n",
      " [-3.02680019]\n",
      " [-1.1181159 ]\n",
      " [-2.39171248]]\n"
     ]
    }
   ],
   "source": [
    "Y = X@w + epsilon\n",
    "print(Y.shape)\n",
    "print(Y[0:10])"
   ]
  },
  {
   "cell_type": "markdown",
   "id": "003a5b67-0bfb-4dd7-84f0-2d79e9a3b148",
   "metadata": {},
   "source": [
    "### Deliverables:"
   ]
  },
  {
   "cell_type": "markdown",
   "id": "6ccacc6c-43c7-467e-b6ed-30c94d9b3566",
   "metadata": {},
   "source": [
    "**1)** Human Human readable code to correctly generate a sample and identify the class-1 prototype [4 points]."
   ]
  },
  {
   "cell_type": "code",
   "execution_count": null,
   "id": "27743b2e-bb9e-4022-8880-e1fff7f878ac",
   "metadata": {},
   "outputs": [],
   "source": []
  },
  {
   "cell_type": "markdown",
   "id": "9a7a2b02-c142-4b16-8c2c-f6c8f2faa860",
   "metadata": {},
   "source": [
    "**2)** Based on the generation process for $G$ state the value of the diagonal entries of $Q$. [2 points]"
   ]
  },
  {
   "cell_type": "code",
   "execution_count": 14,
   "id": "788547b4-6d25-4e4f-87a4-a8a058d92855",
   "metadata": {},
   "outputs": [
    {
     "name": "stdout",
     "output_type": "stream",
     "text": [
      "The 1-th diagonal entry of Q is 0.9999999999999998 \n",
      "The 2-th diagonal entry of Q is 1.0 \n",
      "The 3-th diagonal entry of Q is 1.0000000000000002 \n",
      "The 4-th diagonal entry of Q is 1.0000000000000002 \n",
      "The 5-th diagonal entry of Q is 0.9999999999999998 \n",
      "The 6-th diagonal entry of Q is 1.0 \n",
      "The 7-th diagonal entry of Q is 0.9999999999999997 \n",
      "The 8-th diagonal entry of Q is 1.0000000000000002 \n",
      "The 9-th diagonal entry of Q is 1.0 \n",
      "The 10-th diagonal entry of Q is 1.0 \n",
      "The 11-th diagonal entry of Q is 1.0000000000000004 \n",
      "The 12-th diagonal entry of Q is 1.0000000000000002 \n",
      "The 13-th diagonal entry of Q is 1.0 \n",
      "The 14-th diagonal entry of Q is 0.9999999999999998 \n",
      "The 15-th diagonal entry of Q is 1.0 \n",
      "The 16-th diagonal entry of Q is 1.0 \n",
      "The 17-th diagonal entry of Q is 1.0 \n",
      "The 18-th diagonal entry of Q is 1.0000000000000002 \n",
      "The 19-th diagonal entry of Q is 0.9999999999999999 \n",
      "The 20-th diagonal entry of Q is 1.0 \n",
      "The 21-th diagonal entry of Q is 1.0000000000000002 \n",
      "The 22-th diagonal entry of Q is 1.0 \n",
      "The 23-th diagonal entry of Q is 0.9999999999999999 \n",
      "The 24-th diagonal entry of Q is 0.9999999999999999 \n",
      "The 25-th diagonal entry of Q is 1.0000000000000002 \n",
      "The 26-th diagonal entry of Q is 1.0 \n",
      "The 27-th diagonal entry of Q is 0.9999999999999999 \n",
      "The 28-th diagonal entry of Q is 1.0 \n",
      "The 29-th diagonal entry of Q is 1.0000000000000002 \n",
      "The 30-th diagonal entry of Q is 1.0 \n",
      "The 31-th diagonal entry of Q is 1.0000000000000002 \n",
      "The 32-th diagonal entry of Q is 1.0000000000000002 \n"
     ]
    }
   ],
   "source": [
    "for i in range(p):\n",
    "    print(f\"The {i+1}-th diagonal entry of Q is {Q[i,i]} \")"
   ]
  },
  {
   "cell_type": "markdown",
   "id": "8c2b57f6-46aa-4d2e-abcb-61ab6afa722b",
   "metadata": {},
   "source": [
    "**3)** Calculate and report the $l_2$ norm of the empirical mean vector, and compute the normalized\n",
    "Frobenius norm between the true covariance matrix and the sample’s covariance matrix $$\\frac{\\|Q-\\hat{Q}\\|_F}{\\|Q\\|_F}$$"
   ]
  },
  {
   "cell_type": "markdown",
   "id": "1cadb3b5-eca8-47f2-a9c1-f747dd6df0c2",
   "metadata": {},
   "source": [
    "The $l_2$ norm of the empirical mean"
   ]
  },
  {
   "cell_type": "code",
   "execution_count": 15,
   "id": "515aac08-7ab2-4845-8e69-97ad70515dc9",
   "metadata": {},
   "outputs": [
    {
     "name": "stdout",
     "output_type": "stream",
     "text": [
      "0.19218085760826725\n"
     ]
    }
   ],
   "source": [
    "print(np.linalg.norm(mean_))"
   ]
  },
  {
   "cell_type": "markdown",
   "id": "bae6359c-0f66-4017-8864-1ceaa8d34b24",
   "metadata": {},
   "source": [
    "The normalized Frobenius norm"
   ]
  },
  {
   "cell_type": "code",
   "execution_count": 16,
   "id": "2dcb21f3-73ff-45e6-8e90-07bcd27d1601",
   "metadata": {},
   "outputs": [
    {
     "name": "stdout",
     "output_type": "stream",
     "text": [
      "0.13904151952341268\n"
     ]
    }
   ],
   "source": [
    "print(np.linalg.norm(Q-Q_, 'fro')/np.linalg.norm(Q, 'fro'))"
   ]
  },
  {
   "cell_type": "markdown",
   "id": "5843ecdc-2ccf-49d2-9bd1-7bf0c3d3c2c8",
   "metadata": {},
   "source": [
    "**4)** Based on the generation process for $Q$ and $w$, are the features in the subset of relevant features $supp(w)$ correlated to the irrelevant features? Please explain. How would $Q$ have to be structured to ensure the two feature sets (relevant and irrelevant) were uncorrelated? (Hint: write a condition on a subset of the entries of $Q$) [5 points]"
   ]
  },
  {
   "cell_type": "code",
   "execution_count": null,
   "id": "d1078465-bd8c-4afc-98a9-7cc3b872c49a",
   "metadata": {},
   "outputs": [],
   "source": []
  }
 ],
 "metadata": {
  "kernelspec": {
   "display_name": "Python 3 (ipykernel)",
   "language": "python",
   "name": "python3"
  },
  "language_info": {
   "codemirror_mode": {
    "name": "ipython",
    "version": 3
   },
   "file_extension": ".py",
   "mimetype": "text/x-python",
   "name": "python",
   "nbconvert_exporter": "python",
   "pygments_lexer": "ipython3",
   "version": "3.9.12"
  }
 },
 "nbformat": 4,
 "nbformat_minor": 5
}
