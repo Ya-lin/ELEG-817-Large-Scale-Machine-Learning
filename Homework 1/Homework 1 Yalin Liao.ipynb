{
 "cells": [
  {
   "cell_type": "markdown",
   "id": "4aaa94de-6c54-4c3d-9a3b-94848bb65734",
   "metadata": {},
   "source": [
    "# Homework 1 Yalin Liao"
   ]
  },
  {
   "cell_type": "markdown",
   "id": "a717af15-4c5b-4444-94e2-c3234bb3045f",
   "metadata": {},
   "source": [
    "# Problem 1\n",
    "The overal goal is to generate data based on the description in Bach's \"Bolasso: Model\n",
    "Consistent Lasso Estimation through Bootstrap\" section 4.1. Steps: (preparation steps)"
   ]
  },
  {
   "cell_type": "markdown",
   "id": "fa4adb68-a3b8-4cee-8a1f-a57ccee83aca",
   "metadata": {},
   "source": [
    "**1)**"
   ]
  },
  {
   "cell_type": "code",
   "execution_count": 1,
   "id": "06acd3b3-ca97-4e88-814c-2e73289817f0",
   "metadata": {},
   "outputs": [],
   "source": [
    "import numpy as np\n",
    "np.random.seed(0)"
   ]
  },
  {
   "cell_type": "code",
   "execution_count": 2,
   "id": "8f546a44-30c5-4558-a41b-9f2eacfea683",
   "metadata": {},
   "outputs": [
    {
     "name": "stdout",
     "output_type": "stream",
     "text": [
      "(32, 32)\n",
      "[[ 1.76405235  0.40015721  0.97873798 ...  1.46935877  0.15494743\n",
      "   0.37816252]\n",
      " [-0.88778575 -1.98079647 -0.34791215 ... -0.35955316 -0.81314628\n",
      "  -1.7262826 ]\n",
      " [ 0.17742614 -0.40178094 -1.63019835 ...  0.97663904  0.3563664\n",
      "   0.70657317]\n",
      " ...\n",
      " [ 0.36448125  1.47132196  1.59277075 ... -0.80475374  2.34664703\n",
      "  -1.27916111]\n",
      " [-0.36555109  0.93809254  0.29673317 ... -0.30309825  0.44103291\n",
      "   0.17879287]\n",
      " [-0.7994224   0.24078751  0.28912051 ...  0.70104134 -0.41747735\n",
      "  -1.09749665]]\n"
     ]
    }
   ],
   "source": [
    "p=32\n",
    "G_ = np.random.normal(0,1,size=(p,p))\n",
    "print(G_.shape)\n",
    "print(G_)"
   ]
  },
  {
   "cell_type": "markdown",
   "id": "dac4edbd-60f7-477d-a94f-93f8b55e5a6c",
   "metadata": {},
   "source": [
    "**2)**"
   ]
  },
  {
   "cell_type": "code",
   "execution_count": 3,
   "id": "f5b3ef47-1c99-4cda-b48d-1695b55439a9",
   "metadata": {},
   "outputs": [
    {
     "name": "stdout",
     "output_type": "stream",
     "text": [
      "(32,)\n",
      "(32, 1)\n",
      "The resulting matrix [[ 0.27495727  0.06237124  0.1525528  ...  0.22902431  0.02415117\n",
      "   0.058943  ]\n",
      " [-0.15994312 -0.35685948 -0.06267971 ... -0.06477695 -0.1464961\n",
      "  -0.31100637]\n",
      " [ 0.03440013 -0.07789898 -0.31606973 ...  0.1893549   0.06909382\n",
      "   0.13699339]\n",
      " ...\n",
      " [ 0.06028031  0.24333694  0.26342294 ... -0.13309549  0.38810398\n",
      "  -0.21155611]\n",
      " [-0.08255779  0.21186327  0.06701563 ... -0.06845315  0.09960497\n",
      "   0.04037943]\n",
      " [-0.17429627  0.05249836  0.06303629 ...  0.15284647 -0.09102165\n",
      "  -0.23928473]]\n"
     ]
    }
   ],
   "source": [
    "norm = np.sqrt((G_ * G_).sum(axis=1))\n",
    "print(norm.shape)\n",
    "norm = norm.reshape(-1,1)\n",
    "print(norm.shape)\n",
    "G = G_ / norm\n",
    "print(\"The resulting matrix\",G)"
   ]
  },
  {
   "cell_type": "code",
   "execution_count": 4,
   "id": "6698468b-4e7d-4218-bcdf-cf080f40f2d3",
   "metadata": {},
   "outputs": [
    {
     "name": "stdout",
     "output_type": "stream",
     "text": [
      "0.9999999999999999\n",
      "1.0\n",
      "1.0\n",
      "1.0\n",
      "1.0\n"
     ]
    }
   ],
   "source": [
    "# test whether normaliz rows correctly\n",
    "for i in range(5):\n",
    "    print(np.linalg.norm(G[i,:]))"
   ]
  },
  {
   "cell_type": "markdown",
   "id": "914cc2bb-37bd-4605-b63a-bb599870a51e",
   "metadata": {},
   "source": [
    "**3)**"
   ]
  },
  {
   "cell_type": "code",
   "execution_count": 5,
   "id": "cb4e0f3d-f6a8-48fe-a697-c55e611e1f2c",
   "metadata": {},
   "outputs": [
    {
     "name": "stdout",
     "output_type": "stream",
     "text": [
      "[[ 1.00000000e+00 -1.55742343e-01 -2.38847326e-01 ...  1.42903927e-01\n",
      "   4.98537482e-03  8.19186933e-02]\n",
      " [-1.55742343e-01  1.00000000e+00 -1.67725065e-01 ... -1.49833064e-01\n",
      "  -2.10245761e-01 -1.05671887e-01]\n",
      " [-2.38847326e-01 -1.67725065e-01  1.00000000e+00 ... -4.19251306e-01\n",
      "  -4.40601142e-04 -2.04923566e-01]\n",
      " ...\n",
      " [ 1.42903927e-01 -1.49833064e-01 -4.19251306e-01 ...  1.00000000e+00\n",
      "   1.31860370e-01  7.89813166e-02]\n",
      " [ 4.98537482e-03 -2.10245761e-01 -4.40601142e-04 ...  1.31860370e-01\n",
      "   1.00000000e+00  1.10489748e-01]\n",
      " [ 8.19186933e-02 -1.05671887e-01 -2.04923566e-01 ...  7.89813166e-02\n",
      "   1.10489748e-01  1.00000000e+00]]\n"
     ]
    }
   ],
   "source": [
    "Q = G@G.T\n",
    "print(Q)"
   ]
  },
  {
   "cell_type": "code",
   "execution_count": 6,
   "id": "f2ed84ce-80b9-407f-87b3-5ddb100652b0",
   "metadata": {},
   "outputs": [
    {
     "name": "stdout",
     "output_type": "stream",
     "text": [
      "(1000, 32)\n",
      "[[-1.06892683 -0.3709432   1.97605874 ... -1.71322821 -1.12762967\n",
      "  -0.7862105 ]\n",
      " [ 0.17877955 -1.20114629  0.19229697 ...  0.50618445 -0.81174716\n",
      "  -0.03880036]\n",
      " [-1.71414171  1.19192674  0.75173935 ... -0.5465999  -0.56656309\n",
      "  -0.12116331]\n",
      " ...\n",
      " [ 0.33520567  1.05744767  0.2923525  ...  0.37510521 -0.34418801\n",
      "   0.22327616]\n",
      " [ 0.08233926  1.17174643  0.36143915 ...  0.82568941  1.06632058\n",
      "   0.394419  ]\n",
      " [ 1.50444587  1.31264121 -0.63451871 ...  0.40277819 -0.25639464\n",
      "   1.19595985]]\n"
     ]
    }
   ],
   "source": [
    "n = 1000\n",
    "mean = [0]*p\n",
    "cov = Q\n",
    "X = np.random.multivariate_normal(mean, cov, size=n)\n",
    "print(X.shape)\n",
    "print(X)"
   ]
  },
  {
   "cell_type": "markdown",
   "id": "ff7fdf02-e28e-4574-b46f-6d366393c768",
   "metadata": {},
   "source": [
    "The $i$-th row of $X$ is $x_i$."
   ]
  },
  {
   "cell_type": "code",
   "execution_count": 7,
   "id": "9adf4514-7f04-465b-bf61-e50f4ea69cf5",
   "metadata": {},
   "outputs": [
    {
     "name": "stdout",
     "output_type": "stream",
     "text": [
      "[ 0.01971809  0.0136108  -0.00265989  0.02449584  0.03360005  0.02407988\n",
      " -0.02731664  0.02029721 -0.02407266  0.00544342 -0.02347969  0.00511705\n",
      " -0.03018018  0.03980385 -0.01456687 -0.0365506  -0.03835097  0.00478812\n",
      " -0.00449377 -0.03548759 -0.01346445 -0.00456607  0.01961206 -0.04507968\n",
      "  0.00585111 -0.0013046  -0.01963728 -0.04244565 -0.03486596  0.01273795\n",
      "  0.00243403 -0.00779144]\n"
     ]
    }
   ],
   "source": [
    "# empirical mean\n",
    "mean_ = X.mean(axis=0)\n",
    "print(mean_)"
   ]
  },
  {
   "cell_type": "code",
   "execution_count": 8,
   "id": "30e27379-d031-4fb2-af5c-31c2389a79cc",
   "metadata": {},
   "outputs": [
    {
     "name": "stdout",
     "output_type": "stream",
     "text": [
      "(32, 32)\n",
      "[[ 0.97897517 -0.12496324 -0.2752325  ...  0.19370824  0.00221818\n",
      "   0.10973667]\n",
      " [-0.12496324  0.99933955 -0.20667661 ... -0.16621468 -0.21682752\n",
      "  -0.02593616]\n",
      " [-0.2752325  -0.20667661  1.07482998 ... -0.43566686  0.03928203\n",
      "  -0.2071442 ]\n",
      " ...\n",
      " [ 0.19370824 -0.16621468 -0.43566686 ...  1.00512704  0.16248054\n",
      "   0.05927308]\n",
      " [ 0.00221818 -0.21682752  0.03928203 ...  0.16248054  0.95290288\n",
      "   0.05020172]\n",
      " [ 0.10973667 -0.02593616 -0.2071442  ...  0.05927308  0.05020172\n",
      "   1.01951395]]\n"
     ]
    }
   ],
   "source": [
    "# empirical covariance\n",
    "Q_ = np.cov(X.T)\n",
    "print(Q_.shape)\n",
    "print(Q_)"
   ]
  },
  {
   "cell_type": "code",
   "execution_count": 9,
   "id": "6ca84f00-c135-45b9-bf0b-c3edad260d25",
   "metadata": {},
   "outputs": [
    {
     "name": "stdout",
     "output_type": "stream",
     "text": [
      "[[ 0.02102483 -0.0307791   0.03638518 ... -0.05080432  0.00276719\n",
      "  -0.02781798]\n",
      " [-0.0307791   0.00066045  0.03895155 ...  0.01638161  0.00658176\n",
      "  -0.07973573]\n",
      " [ 0.03638518  0.03895155 -0.07482998 ...  0.01641555 -0.03972264\n",
      "   0.00222063]\n",
      " ...\n",
      " [-0.05080432  0.01638161  0.01641555 ... -0.00512704 -0.03062018\n",
      "   0.01970823]\n",
      " [ 0.00276719  0.00658176 -0.03972264 ... -0.03062018  0.04709712\n",
      "   0.06028803]\n",
      " [-0.02781798 -0.07973573  0.00222063 ...  0.01970823  0.06028803\n",
      "  -0.01951395]]\n"
     ]
    }
   ],
   "source": [
    "print(Q-Q_)"
   ]
  },
  {
   "cell_type": "markdown",
   "id": "e5ff38aa-f4f5-43d4-bea3-305df0127cb0",
   "metadata": {},
   "source": [
    "**4)**"
   ]
  },
  {
   "cell_type": "markdown",
   "id": "343a24b4-f4c8-4616-906d-4a749d03e2dd",
   "metadata": {},
   "source": [
    "Now consider $Y = w^⊤X + \\epsilon$, where $w$ is a random vector (that is fixed across the sample) and\n",
    "$\\epsilon\\sim\\mathcal{N}(0, \\sigma^2)$."
   ]
  },
  {
   "cell_type": "markdown",
   "id": "4d9abb9b-9ca3-4c66-958f-128fe6ce4c57",
   "metadata": {},
   "source": [
    "Note $w$ is defined in 5) and $\\sigma$ is given in step 6)."
   ]
  },
  {
   "cell_type": "markdown",
   "id": "b02b7f32-e907-4c0d-bd48-4f3862909b0e",
   "metadata": {},
   "source": [
    "**5)** $r=8, P(s_i=1)=P(s_i=-1)=0.5$"
   ]
  },
  {
   "cell_type": "code",
   "execution_count": 10,
   "id": "f8ba2801-5a1c-4b91-8d5c-6f5fe8102da2",
   "metadata": {},
   "outputs": [
    {
     "name": "stdout",
     "output_type": "stream",
     "text": [
      "(32, 1)\n"
     ]
    }
   ],
   "source": [
    "w = np.zeros((p,1))\n",
    "print(w.shape)"
   ]
  },
  {
   "cell_type": "code",
   "execution_count": 11,
   "id": "68f79575-acba-463f-bc71-fe25519f62c1",
   "metadata": {},
   "outputs": [],
   "source": [
    "# change to the first r weight to nonzeros\n",
    "r = 8\n",
    "for i in range(r):\n",
    "    w_ = np.random.uniform(1/3,1)\n",
    "    # print(w_)\n",
    "    s = 2*np.random.binomial(1,0.5)-1\n",
    "    # print(s)\n",
    "    w[i] = s*w_"
   ]
  },
  {
   "cell_type": "code",
   "execution_count": 12,
   "id": "01093980-3315-48eb-ad20-dcef4ce38a22",
   "metadata": {},
   "outputs": [
    {
     "name": "stdout",
     "output_type": "stream",
     "text": [
      "[[ 0.36432789]\n",
      " [-0.40241421]\n",
      " [-0.86805836]\n",
      " [ 0.9276578 ]\n",
      " [-0.59106088]\n",
      " [-0.58045346]\n",
      " [ 0.65647477]\n",
      " [ 0.33770857]\n",
      " [ 0.        ]\n",
      " [ 0.        ]\n",
      " [ 0.        ]\n",
      " [ 0.        ]\n",
      " [ 0.        ]\n",
      " [ 0.        ]\n",
      " [ 0.        ]]\n"
     ]
    }
   ],
   "source": [
    "print(w[0:15])"
   ]
  },
  {
   "cell_type": "markdown",
   "id": "bfd0e327-631c-44b0-9bd2-584e09e6ed47",
   "metadata": {},
   "source": [
    "**6)** The noise variance is dependent on $w^TQw$, specially, $\\sigma=0.1\\sqrt{w^TQw}$."
   ]
  },
  {
   "cell_type": "code",
   "execution_count": 13,
   "id": "b5aac3eb-7db8-4d4c-82ff-e1c06251a3c7",
   "metadata": {},
   "outputs": [
    {
     "name": "stdout",
     "output_type": "stream",
     "text": [
      "[[0.1886595]]\n"
     ]
    }
   ],
   "source": [
    "sigma = 0.1*np.sqrt(w.T@Q@w)\n",
    "print(sigma)"
   ]
  },
  {
   "cell_type": "code",
   "execution_count": 14,
   "id": "a36119d9-1c4e-4bb7-a922-d9b73bcbcbb9",
   "metadata": {},
   "outputs": [
    {
     "name": "stdout",
     "output_type": "stream",
     "text": [
      "(1000, 1)\n",
      "[[-0.07421385]\n",
      " [-0.05433112]\n",
      " [ 0.31944921]\n",
      " [-0.05033104]\n",
      " [-0.08068262]]\n"
     ]
    }
   ],
   "source": [
    "# generate noise epsilon\n",
    "epsilon = np.random.normal(0,sigma,size=(n,1))\n",
    "print(epsilon.shape)\n",
    "print(epsilon[0:5])"
   ]
  },
  {
   "cell_type": "markdown",
   "id": "1fd7633d-cdf3-4e94-aece-730136e69f0c",
   "metadata": {},
   "source": [
    "**7)** The end result are tuples consisting of a vector in $R^p$ and regression target in \n",
    "$R,\\{x_i,y_i\\}_{i=1}^n$."
   ]
  },
  {
   "cell_type": "code",
   "execution_count": 15,
   "id": "67e7af77-4cdc-4293-bf89-9bf03dc3a6c1",
   "metadata": {},
   "outputs": [
    {
     "name": "stdout",
     "output_type": "stream",
     "text": [
      "(1000, 1)\n",
      "[[-2.80446701]\n",
      " [-0.49903215]\n",
      " [-4.39436911]\n",
      " [-2.11197232]\n",
      " [-0.88303498]]\n"
     ]
    }
   ],
   "source": [
    "Y_ = X@w + epsilon\n",
    "print(Y_.shape)\n",
    "print(Y_[0:5])"
   ]
  },
  {
   "cell_type": "markdown",
   "id": "72d9ce45-26e1-4d30-b0fc-5869145fc3b1",
   "metadata": {},
   "source": [
    "Note that $Y$ is defined in the 8)."
   ]
  },
  {
   "cell_type": "markdown",
   "id": "3595595c-bd47-411b-856a-5ba7abdda06f",
   "metadata": {},
   "source": [
    "**8)** Consider a simple classification scheme."
   ]
  },
  {
   "cell_type": "code",
   "execution_count": 16,
   "id": "29dc0114-c723-4a3e-a689-6ed84b8aed7f",
   "metadata": {},
   "outputs": [
    {
     "name": "stdout",
     "output_type": "stream",
     "text": [
      "(1000, 1)\n",
      "[[-1.]\n",
      " [-1.]\n",
      " [-1.]\n",
      " [-1.]\n",
      " [-1.]\n",
      " [-1.]\n",
      " [-1.]\n",
      " [ 1.]\n",
      " [-1.]\n",
      " [-1.]\n",
      " [-1.]\n",
      " [-1.]\n",
      " [-1.]\n",
      " [-1.]\n",
      " [-1.]]\n"
     ]
    }
   ],
   "source": [
    "eta = -1.5\n",
    "Y = np.sign(Y_ + eta)\n",
    "print(Y.shape)\n",
    "print(Y[0:15])"
   ]
  },
  {
   "cell_type": "code",
   "execution_count": 17,
   "id": "3558e40f-a7d2-4609-b746-3c4752cbe298",
   "metadata": {},
   "outputs": [
    {
     "name": "stdout",
     "output_type": "stream",
     "text": [
      "(array([-1.06892683, -0.3709432 ,  1.97605874, -1.07756785, -0.67310614,\n",
      "       -0.04576485,  0.60560555, -1.76813233,  0.65661681, -1.29003445,\n",
      "       -0.54286343, -1.41555855,  0.35969639, -0.44585397,  0.99397141,\n",
      "       -0.12472047,  1.07610625, -0.48811589, -0.65699088,  1.00695644,\n",
      "       -0.29544815,  1.32984711, -0.65557881,  1.26777075,  0.91073575,\n",
      "        1.20636756,  0.46235262,  1.59350378, -0.02666786, -1.71322821,\n",
      "       -1.12762967, -0.7862105 ]), array([-1.]))\n",
      "[ 0.17877955 -1.20114629  0.19229697  0.21275522 -0.19880655  0.23895686\n",
      " -0.98068305 -1.06198831  0.65999552  0.63736315 -0.25419287 -0.14839333\n",
      " -0.50151437  0.41474629 -0.08400394 -0.09299017 -1.37238306  1.23815385\n",
      " -1.81118316  0.37717494  0.9664543  -1.74432142  0.50890541 -0.8766971\n",
      " -0.45495221 -0.37154975 -1.28671301 -0.39803036  0.97302575  0.50618445\n",
      " -0.81174716 -0.03880036]\n",
      "[-1.]\n"
     ]
    }
   ],
   "source": [
    "# Combine X and Y into a list, whose elements are tuples (x_i,y_i)\n",
    "X_Y = [(X[i,:],Y[i]) for i in range(n)]\n",
    "print(X_Y[0])\n",
    "print(X_Y[1][0])\n",
    "print(X_Y[1][1])"
   ]
  },
  {
   "cell_type": "markdown",
   "id": "0e87599f-1151-469f-a632-31e13ac6333e",
   "metadata": {},
   "source": [
    "**9)** For class $1$, find the instance $i^*$ with the maximum value of regression value $y_{i^*} =\\max_{i\\in{1,\\cdots,n}}y_i$; it will serve as the class $1$ prototype. You will consider the distance from this prototype point $x_{i*}$ to the remaining $n-1$ instances."
   ]
  },
  {
   "cell_type": "code",
   "execution_count": 18,
   "id": "2d9451f6-093d-415f-9072-78254371da76",
   "metadata": {},
   "outputs": [
    {
     "name": "stdout",
     "output_type": "stream",
     "text": [
      "7.884908527913237\n",
      "7.884908527913237\n"
     ]
    }
   ],
   "source": [
    "i_star = np.argmax(Y_)\n",
    "print(Y_[i_star,0])\n",
    "print(np.max(Y_))"
   ]
  },
  {
   "cell_type": "code",
   "execution_count": 19,
   "id": "9f499e2e-4f96-4d7c-81ca-02d2417f565d",
   "metadata": {},
   "outputs": [
    {
     "name": "stdout",
     "output_type": "stream",
     "text": [
      "class 1 prototype: 7\n",
      "class 1 prototype point: [ 1.93753967 -0.882708   -0.6150145   2.62337944 -1.48539406 -1.85205008\n",
      "  3.03429779  0.39547777 -0.36113352  0.29677414  0.24541022 -0.22689234\n",
      "  0.18330941 -1.58949969  0.76623588  1.84099777  0.08238738  0.21535237\n",
      " -0.94552818 -0.83781491 -0.47037725  1.85192961 -0.1144072   1.01949923\n",
      "  0.25608209  1.13939144  0.33164836 -0.91873736  0.22306375 -1.02115997\n",
      "  1.37750811  0.04847395]\n"
     ]
    }
   ],
   "source": [
    "print(\"class 1 prototype:\", i_star)\n",
    "print(\"class 1 prototype point:\", X[i_star,:])"
   ]
  },
  {
   "cell_type": "markdown",
   "id": "003a5b67-0bfb-4dd7-84f0-2d79e9a3b148",
   "metadata": {},
   "source": [
    "### Deliverables:"
   ]
  },
  {
   "cell_type": "markdown",
   "id": "6ccacc6c-43c7-467e-b6ed-30c94d9b3566",
   "metadata": {},
   "source": [
    "**1)** Human Human readable code to correctly generate a sample and identify the class-1 prototype [4 points]."
   ]
  },
  {
   "cell_type": "code",
   "execution_count": 20,
   "id": "27743b2e-bb9e-4022-8880-e1fff7f878ac",
   "metadata": {},
   "outputs": [
    {
     "name": "stdout",
     "output_type": "stream",
     "text": [
      "(1000, 32)\n",
      "[[-1.06892683 -0.3709432   1.97605874 ... -1.71322821 -1.12762967\n",
      "  -0.7862105 ]\n",
      " [ 0.17877955 -1.20114629  0.19229697 ...  0.50618445 -0.81174716\n",
      "  -0.03880036]\n",
      " [-1.71414171  1.19192674  0.75173935 ... -0.5465999  -0.56656309\n",
      "  -0.12116331]\n",
      " ...\n",
      " [ 0.33520567  1.05744767  0.2923525  ...  0.37510521 -0.34418801\n",
      "   0.22327616]\n",
      " [ 0.08233926  1.17174643  0.36143915 ...  0.82568941  1.06632058\n",
      "   0.394419  ]\n",
      " [ 1.50444587  1.31264121 -0.63451871 ...  0.40277819 -0.25639464\n",
      "   1.19595985]]\n"
     ]
    }
   ],
   "source": [
    "# The sample is X, generated as in the step 1 of problem discription\n",
    "print(X.shape)\n",
    "print(X)"
   ]
  },
  {
   "cell_type": "code",
   "execution_count": 21,
   "id": "c94fa6a4-1899-4c73-8422-76f8f3583391",
   "metadata": {},
   "outputs": [
    {
     "name": "stdout",
     "output_type": "stream",
     "text": [
      "class 1 prototype: 7\n"
     ]
    }
   ],
   "source": [
    "# The class 1 prototype is the i_star, which is finded in step 9) of problem descrption\n",
    "print(\"class 1 prototype:\", i_star)"
   ]
  },
  {
   "cell_type": "markdown",
   "id": "9a7a2b02-c142-4b16-8c2c-f6c8f2faa860",
   "metadata": {},
   "source": [
    "**2)** Based on the generation process for $G$ state the value of the diagonal entries of $Q$. [2 points]"
   ]
  },
  {
   "cell_type": "markdown",
   "id": "80156752-0406-436b-b7f7-dc1627a3ee44",
   "metadata": {},
   "source": [
    "We have finished the computation of $Q$ in 2) in the problem description. Here we just print its diagonal entries."
   ]
  },
  {
   "cell_type": "code",
   "execution_count": 22,
   "id": "788547b4-6d25-4e4f-87a4-a8a058d92855",
   "metadata": {},
   "outputs": [
    {
     "name": "stdout",
     "output_type": "stream",
     "text": [
      "The 1-th diagonal entry of Q is 1.0000000000000002 \n",
      "The 2-th diagonal entry of Q is 1.0000000000000002 \n",
      "The 3-th diagonal entry of Q is 1.0000000000000002 \n",
      "The 4-th diagonal entry of Q is 1.0000000000000004 \n",
      "The 5-th diagonal entry of Q is 0.9999999999999999 \n",
      "The 6-th diagonal entry of Q is 0.9999999999999998 \n",
      "The 7-th diagonal entry of Q is 1.0000000000000002 \n",
      "The 8-th diagonal entry of Q is 0.9999999999999999 \n",
      "The 9-th diagonal entry of Q is 1.0000000000000002 \n",
      "The 10-th diagonal entry of Q is 1.0 \n",
      "The 11-th diagonal entry of Q is 1.0 \n",
      "The 12-th diagonal entry of Q is 1.0 \n",
      "The 13-th diagonal entry of Q is 1.0000000000000002 \n",
      "The 14-th diagonal entry of Q is 1.0 \n",
      "The 15-th diagonal entry of Q is 0.9999999999999998 \n",
      "The 16-th diagonal entry of Q is 1.0000000000000002 \n",
      "The 17-th diagonal entry of Q is 1.0 \n",
      "The 18-th diagonal entry of Q is 0.9999999999999999 \n",
      "The 19-th diagonal entry of Q is 1.0000000000000002 \n",
      "The 20-th diagonal entry of Q is 1.0 \n",
      "The 21-th diagonal entry of Q is 1.0 \n",
      "The 22-th diagonal entry of Q is 1.0000000000000002 \n",
      "The 23-th diagonal entry of Q is 1.0 \n",
      "The 24-th diagonal entry of Q is 1.0000000000000002 \n",
      "The 25-th diagonal entry of Q is 1.0 \n",
      "The 26-th diagonal entry of Q is 1.0 \n",
      "The 27-th diagonal entry of Q is 0.9999999999999998 \n",
      "The 28-th diagonal entry of Q is 0.9999999999999999 \n",
      "The 29-th diagonal entry of Q is 1.0000000000000002 \n",
      "The 30-th diagonal entry of Q is 1.0000000000000002 \n",
      "The 31-th diagonal entry of Q is 1.0000000000000002 \n",
      "The 32-th diagonal entry of Q is 1.0 \n"
     ]
    }
   ],
   "source": [
    "for i in range(p):\n",
    "    print(f\"The {i+1}-th diagonal entry of Q is {Q[i,i]} \")"
   ]
  },
  {
   "cell_type": "markdown",
   "id": "8c2b57f6-46aa-4d2e-abcb-61ab6afa722b",
   "metadata": {},
   "source": [
    "**3)** Calculate and report the $l_2$ norm of the empirical mean vector, and compute the normalized\n",
    "Frobenius norm between the true covariance matrix and the sample’s covariance matrix $$\\frac{\\|Q-\\hat{Q}\\|_F}{\\|Q\\|_F}$$"
   ]
  },
  {
   "cell_type": "markdown",
   "id": "1cadb3b5-eca8-47f2-a9c1-f747dd6df0c2",
   "metadata": {},
   "source": [
    "$Q$ and $Q$ have been obtained in step 3) of problem discription. The $l_2$ norm of the empirical mean"
   ]
  },
  {
   "cell_type": "code",
   "execution_count": 23,
   "id": "515aac08-7ab2-4845-8e69-97ad70515dc9",
   "metadata": {},
   "outputs": [
    {
     "name": "stdout",
     "output_type": "stream",
     "text": [
      "0.13541803072578176\n"
     ]
    }
   ],
   "source": [
    "print(np.linalg.norm(mean_))"
   ]
  },
  {
   "cell_type": "markdown",
   "id": "bae6359c-0f66-4017-8864-1ceaa8d34b24",
   "metadata": {},
   "source": [
    "The normalized Frobenius norm"
   ]
  },
  {
   "cell_type": "code",
   "execution_count": 24,
   "id": "2dcb21f3-73ff-45e6-8e90-07bcd27d1601",
   "metadata": {},
   "outputs": [
    {
     "name": "stdout",
     "output_type": "stream",
     "text": [
      "0.12453274332013457\n"
     ]
    }
   ],
   "source": [
    "print(np.linalg.norm(Q-Q_, 'fro')/np.linalg.norm(Q, 'fro'))"
   ]
  },
  {
   "cell_type": "markdown",
   "id": "5843ecdc-2ccf-49d2-9bd1-7bf0c3d3c2c8",
   "metadata": {},
   "source": [
    "**4)** Based on the generation process for $Q$ and $w$, are the features in the subset of relevant features $supp(w)$ correlated to the irrelevant features? Please explain. How would $Q$ have to be structured to ensure the two feature sets (relevant and irrelevant) were uncorrelated? (Hint: write a condition on a subset of the entries of $Q$) [5 points]"
   ]
  },
  {
   "cell_type": "markdown",
   "id": "540d1db4-d4ce-42dc-8871-bd741e0a7a02",
   "metadata": {},
   "source": [
    "Generally, relevant features() and irrelevant features should be correlated. We randomly generate $\\tilde{G}$, whose entries are idenpendent and drawn from standard Gassian. Then normalizing each row\n",
    "it $l_2$ norm of the corresponding row vector, we obtain $G$. We define $Q=GG^T$ which is the covariance matrix of the distribution, which produces the features $X$. So generally $Q$ is a positive definite matrix (with low probability to be semi-positive definite) but not a diagonal matrix. For example, $Q[0,10]\\neq0$."
   ]
  },
  {
   "cell_type": "code",
   "execution_count": 25,
   "id": "98e4552b-dcae-4f1c-b697-301d2fffcc33",
   "metadata": {},
   "outputs": [
    {
     "name": "stdout",
     "output_type": "stream",
     "text": [
      "-0.3789766822174597\n"
     ]
    }
   ],
   "source": [
    "print(Q[0,10])"
   ]
  },
  {
   "cell_type": "markdown",
   "id": "7eee5a17-0d72-45a2-979b-c49b85aedc8a",
   "metadata": {},
   "source": [
    "Clearly, we the first relevant feature $X^{(0)}$ is correlated to the third irrelevant feature $X^{(10)}$."
   ]
  },
  {
   "cell_type": "markdown",
   "id": "a6a77702-fe8a-4101-a792-1ea357fe0324",
   "metadata": {},
   "source": [
    "Let $J$ and $J^c$ denotes the index set of relevant and irrelevant features. If $Q$ has the form $$Q=\\begin{bmatrix}Q_{JJ}&0\\\\0&Q_{J^cJ^c}\\end{bmatrix}$$ then the relevant feature set and irrelevant feature set are uncorrelated. In practice, these zero entries of $Q$ may not be zero but small. We can write $Q$ as $$Q=\\begin{bmatrix}Q_{JJ}&Q_{J^cJ}^T\\\\Q_{J^cJ}&Q_{J^cJ^c}\\end{bmatrix}$$\n",
    "If $$\\|Q_{J^cJ}Q_{JJ}^{-1}\\|_{\\infty}$$ is very small, then the relevant feature set and irrelevant feature set are uncorrelated."
   ]
  },
  {
   "cell_type": "markdown",
   "id": "0412bd7b-b399-418f-b5d1-13d90af21c1e",
   "metadata": {},
   "source": [
    "**5)** Make a scatter plot with two sets of markers, for each data point the horizontal coordinate is the\n",
    "Euclidean distance from the class-$1$ prototype and the vertical coordinate is the observed value of\n",
    "$y_i = w^Tx_i+\\epsilon$ for $i\\in\\{1,\\cdots,n\\}$. Make the markers different shapes and colors to indicate the class of each point. [5 points]"
   ]
  },
  {
   "cell_type": "code",
   "execution_count": 26,
   "id": "377320c3-e738-4ad7-9603-9fc7abca580f",
   "metadata": {},
   "outputs": [
    {
     "name": "stdout",
     "output_type": "stream",
     "text": [
      "7\n",
      "[ 1.93753967 -0.882708   -0.6150145   2.62337944 -1.48539406 -1.85205008\n",
      "  3.03429779  0.39547777 -0.36113352  0.29677414  0.24541022 -0.22689234\n",
      "  0.18330941 -1.58949969  0.76623588  1.84099777  0.08238738  0.21535237\n",
      " -0.94552818 -0.83781491 -0.47037725  1.85192961 -0.1144072   1.01949923\n",
      "  0.25608209  1.13939144  0.33164836 -0.91873736  0.22306375 -1.02115997\n",
      "  1.37750811  0.04847395]\n"
     ]
    }
   ],
   "source": [
    "# x_star: class 1 prototype point\n",
    "x_star = X[i_star,:]\n",
    "print(i_star)\n",
    "print(x_star)\n",
    "#print(Y_[i_star,0])"
   ]
  },
  {
   "cell_type": "code",
   "execution_count": 27,
   "id": "f7bc9516-adbb-491a-bff7-9adb9f94765b",
   "metadata": {},
   "outputs": [
    {
     "name": "stdout",
     "output_type": "stream",
     "text": [
      "[8.65785004321073, 9.057434323851638, 9.63453836711336, 9.144037480143323, 8.31135820977403, 8.755156848104043, 8.249062476320052, 0.0, 8.159684029677722, 7.241932529001915]\n",
      "1000\n"
     ]
    }
   ],
   "source": [
    "dis = [np.linalg.norm(X[i,:]-x_star) for i in range(n)]\n",
    "print(dis[0:10])\n",
    "print(len(dis))"
   ]
  },
  {
   "cell_type": "code",
   "execution_count": 28,
   "id": "3a4aaae2-70e6-4672-81f3-9968baba367c",
   "metadata": {},
   "outputs": [],
   "source": [
    "from matplotlib import pyplot as plt"
   ]
  },
  {
   "cell_type": "code",
   "execution_count": 29,
   "id": "94c695dd-1c62-42fe-9e64-48acb1a0f760",
   "metadata": {},
   "outputs": [
    {
     "name": "stdout",
     "output_type": "stream",
     "text": [
      "[0.0, 7.510858369287637, 6.024441916900811, 7.342922489379992, 6.818197030655332]\n",
      "218\n",
      "[array([7.88490853]), array([3.62807879]), array([3.43592583]), array([5.90191677]), array([3.14539254])]\n",
      "218\n"
     ]
    }
   ],
   "source": [
    "dis1 = [dis[i] for i in range(n) if Y[i]==1]\n",
    "print(dis1[0:5])\n",
    "print(len(dis1))\n",
    "val1 = [Y_[i] for i in range(n) if Y[i]==1]\n",
    "print(val1[0:5])\n",
    "print(len(val1))"
   ]
  },
  {
   "cell_type": "code",
   "execution_count": 30,
   "id": "421a0f0c-4dc9-4202-a8ed-6e7d567e454d",
   "metadata": {},
   "outputs": [
    {
     "name": "stdout",
     "output_type": "stream",
     "text": [
      "[8.65785004321073, 9.057434323851638, 9.63453836711336, 9.144037480143323, 8.31135820977403]\n",
      "782\n",
      "[array([-2.80446701]), array([-0.49903215]), array([-4.39436911]), array([-2.11197232]), array([-0.88303498])]\n",
      "782\n"
     ]
    }
   ],
   "source": [
    "dis_1 = [dis[i] for i in range(n) if Y[i]==-1]\n",
    "print(dis_1[0:5])\n",
    "print(len(dis_1))\n",
    "val_1 = [Y_[i] for i in range(n) if Y[i]==-1]\n",
    "print(val_1[0:5])\n",
    "print(len(val_1))"
   ]
  },
  {
   "cell_type": "code",
   "execution_count": 31,
   "id": "21736478-6a0c-4361-9325-d430f3859e04",
   "metadata": {},
   "outputs": [
    {
     "data": {
      "image/png": "[encoded data removed]",
      "text/plain": [
       "<Figure size 432x288 with 1 Axes>"
      ]
     },
     "metadata": {
      "needs_background": "light"
     },
     "output_type": "display_data"
    }
   ],
   "source": [
    "plt.scatter(dis1, val1, marker=\"o\", color=\"red\", label=\"+1\")\n",
    "plt.scatter(dis_1, val_1, marker=\"^\", color=\"blue\", label=\"-1\")\n",
    "plt.xlabel(\"l2 norm\")\n",
    "plt.ylabel(\"observed value\")\n",
    "plt.legend()\n",
    "plt.show()"
   ]
  },
  {
   "cell_type": "markdown",
   "id": "634c704d-06dc-4017-8308-acce52a46630",
   "metadata": {},
   "source": [
    "**6)** Make a similar plot but use the $l_{\\infty}$ norm to compute the distance (Chebychev distance) [5 points]"
   ]
  },
  {
   "cell_type": "code",
   "execution_count": 32,
   "id": "39787980-079e-4e88-9e7a-351583d2cdcc",
   "metadata": {},
   "outputs": [
    {
     "data": {
      "text/plain": [
       "[3.7009472895772735,\n",
       " 4.014980837580955,\n",
       " 4.251471191976604,\n",
       " 4.18459468114941,\n",
       " 3.0866606839516484,\n",
       " 4.561644381530967,\n",
       " 3.239154620914471,\n",
       " 0.0,\n",
       " 2.8037217708336675,\n",
       " 2.949463317146782]"
      ]
     },
     "execution_count": 32,
     "metadata": {},
     "output_type": "execute_result"
    }
   ],
   "source": [
    "dis_inf = [np.linalg.norm(X[i,:]-x_star,np.inf) for i in range(n)]\n",
    "dis_inf[0:10]"
   ]
  },
  {
   "cell_type": "code",
   "execution_count": 33,
   "id": "c21a16dc-8884-47ab-bc85-49e4aef03f6f",
   "metadata": {},
   "outputs": [
    {
     "name": "stdout",
     "output_type": "stream",
     "text": [
      "[0.0, 2.9066092610357934, 3.116750654980928, 3.466495807485832, 2.8561493146910806]\n",
      "218\n"
     ]
    }
   ],
   "source": [
    "dis_inf1 = [dis_inf[i] for i in range(n) if Y[i]==1]\n",
    "print(dis_inf1[0:5])\n",
    "print(len(dis_inf1))"
   ]
  },
  {
   "cell_type": "code",
   "execution_count": 34,
   "id": "ff5c5534-4a87-43c2-aedb-3cb6c006f046",
   "metadata": {},
   "outputs": [
    {
     "name": "stdout",
     "output_type": "stream",
     "text": [
      "[3.7009472895772735, 4.014980837580955, 4.251471191976604, 4.18459468114941, 3.0866606839516484]\n",
      "782\n"
     ]
    }
   ],
   "source": [
    "dis_inf_1 = [dis_inf[i] for i in range(n) if Y[i]==-1]\n",
    "print(dis_inf_1[0:5])\n",
    "print(len(dis_inf_1))"
   ]
  },
  {
   "cell_type": "code",
   "execution_count": 35,
   "id": "b67fe7a5-9eee-43ff-b0b8-34ec8ce6a65d",
   "metadata": {},
   "outputs": [
    {
     "data": {
      "image/png": "[encoded data removed]",
      "text/plain": [
       "<Figure size 432x288 with 1 Axes>"
      ]
     },
     "metadata": {
      "needs_background": "light"
     },
     "output_type": "display_data"
    }
   ],
   "source": [
    "plt.scatter(dis_inf1, val1, marker=\"o\", color=\"red\", label=\"+1\")\n",
    "plt.scatter(dis_inf_1, val_1, marker=\"^\", color=\"blue\", label=\"-1\")\n",
    "plt.xlabel(\"l_inf norm\")\n",
    "plt.ylabel(\"observed value\")\n",
    "plt.legend()\n",
    "plt.show()"
   ]
  },
  {
   "cell_type": "markdown",
   "id": "9a9e6fe2-42d5-4854-9a26-383d66d0831b",
   "metadata": {},
   "source": [
    "**7)** For each of the distances, find the smallest $k$ such that the $k$-th nearest neighbor from the class-$1$ prototype is from the other class. Report the median of $k$ across $500$ random realizations (generatinga random $\\tilde{Q}, \\tilde{w}$, and $\\tilde{s}$ on each realization and then generating the sample of size $1000$). Plot a histogram of $k$ across these $500$ runs. Which distance gives the smallest median value of $k$? [10 points]"
   ]
  },
  {
   "cell_type": "code",
   "execution_count": 36,
   "id": "464aee29-8a70-462f-b5b8-6f640c5a6930",
   "metadata": {},
   "outputs": [],
   "source": [
    "def gen_X_Q_w(i):\n",
    "    \n",
    "    np.random.seed(i)\n",
    "    G_ = np.random.normal(0,1,size=(p,p))\n",
    "    norm = np.sqrt((G_ * G_).sum(axis=1))\n",
    "    norm = norm.reshape(-1,1)\n",
    "    G = G_ / norm\n",
    "    Q = G@G.T\n",
    "    mean = [0]*p\n",
    "    cov = Q\n",
    "    X = np.random.multivariate_normal(mean, cov, size=n)\n",
    "    w = np.zeros((p,1))\n",
    "    for i in range(r):\n",
    "        w_ = np.random.uniform(1/3,1)\n",
    "        s = 2*np.random.binomial(1,0.5)-1\n",
    "        w[i] = s*w_\n",
    "    sigma = 0.1*np.sqrt(w.T@Q@w)\n",
    "    epsilon = np.random.normal(0,sigma,size=(n,1))\n",
    "    Y_ = X@w + epsilon\n",
    "    Y = np.sign(Y_ + eta)\n",
    "    \n",
    "    return X, Y, Y_, w"
   ]
  },
  {
   "cell_type": "code",
   "execution_count": 37,
   "id": "59faf134-1ff2-4704-bb67-5641c7415afb",
   "metadata": {},
   "outputs": [],
   "source": [
    "num_run = 500\n",
    "list_X = []\n",
    "list_Y = []\n",
    "list_Y_ = []\n",
    "list_w = []\n",
    "for i in range(num_run):\n",
    "    \n",
    "    X,Y,Y_,w = gen_X_Q_w(i)\n",
    "    list_X.append(X)\n",
    "    list_Y.append(Y)\n",
    "    list_Y_.append(Y_)\n",
    "    list_w.append(w)"
   ]
  },
  {
   "cell_type": "code",
   "execution_count": 38,
   "id": "c62b255a-8629-4bb0-bbc4-40352f84267b",
   "metadata": {},
   "outputs": [],
   "source": [
    "list_x_star = [list_X[i][np.argmax(list_Y_[i])] for i in range(num_run)]"
   ]
  },
  {
   "cell_type": "code",
   "execution_count": 39,
   "id": "f32d2dfa-7d78-4a2e-964b-ca3863011a24",
   "metadata": {},
   "outputs": [
    {
     "name": "stdout",
     "output_type": "stream",
     "text": [
      "[[0, 8.65785004321073], [1, 9.057434323851638], [2, 9.63453836711336], [3, 9.144037480143323], [4, 8.31135820977403], [5, 8.755156848104043], [6, 8.249062476320052], [7, 0.0], [8, 8.159684029677722], [9, 7.241932529001915]]\n",
      "[[7, 0.0], [666, 5.456281317743153], [608, 5.55724937057857], [717, 5.5820501875036825], [200, 5.6170080155920505], [678, 5.814523438028064], [642, 5.8391983967421055], [302, 5.852167776870307], [622, 5.907468990692874], [926, 5.951764426367674]]\n",
      "180\n",
      "[1.]\n",
      "[-1.]\n"
     ]
    }
   ],
   "source": [
    "# test K_NN\n",
    "list_dis = [[i,np.linalg.norm(list_X[0][i,:]-list_x_star[0])] for i in range(n)]\n",
    "print(list_dis[0:10])\n",
    "sorted_list_dis = sorted(list_dis,key=lambda x: x[1])\n",
    "print(sorted_list_dis[0:10])\n",
    "k = -1 # prototype itself is included\n",
    "for i in range(num_run):\n",
    "    index = sorted_list_dis[i][0]\n",
    "    if list_Y[0][index]==1:\n",
    "        k=k+1\n",
    "print(k)\n",
    "index = sorted_list_dis[k][0]\n",
    "print(list_Y[0][index])\n",
    "index = sorted_list_dis[k+1][0]\n",
    "print(list_Y[0][index])"
   ]
  },
  {
   "cell_type": "code",
   "execution_count": 40,
   "id": "a294327b-34af-4b69-8fcd-e11210c965ee",
   "metadata": {},
   "outputs": [],
   "source": [
    "list_k = []\n",
    "for i in range(num_run):\n",
    "    \n",
    "    list_dis = [[k,np.linalg.norm(list_X[i][k,:]-list_x_star[i])] for k in range(n)]\n",
    "    sorted_list_dis = sorted(list_dis,key=lambda x: x[1])\n",
    "    \n",
    "    k = -1 # prototype itself is included\n",
    "    for j in range(num_run):\n",
    "        index = sorted_list_dis[j][0]\n",
    "        if list_Y[0][index]==1:\n",
    "            k=k+1\n",
    "    \n",
    "    list_k.append(k)"
   ]
  },
  {
   "cell_type": "code",
   "execution_count": 41,
   "id": "91fbc6e8-ee38-4366-a23d-30a2cecad6c3",
   "metadata": {},
   "outputs": [
    {
     "name": "stdout",
     "output_type": "stream",
     "text": [
      "[180, 110, 107, 95, 109, 103, 101, 107, 96, 104]\n"
     ]
    }
   ],
   "source": [
    "print(list_k[0:10])"
   ]
  },
  {
   "cell_type": "code",
   "execution_count": 42,
   "id": "c1d3ed4e-0394-4661-ab0e-7562fe8f30e5",
   "metadata": {},
   "outputs": [
    {
     "data": {
      "text/plain": [
       "Text(0, 0.5, 'Counts')"
      ]
     },
     "execution_count": 42,
     "metadata": {},
     "output_type": "execute_result"
    },
    {
     "data": {
      "image/png": "[encoded data removed]",
      "text/plain": [
       "<Figure size 432x288 with 1 Axes>"
      ]
     },
     "metadata": {
      "needs_background": "light"
     },
     "output_type": "display_data"
    }
   ],
   "source": [
    "plt.hist(list_k, density=False, bins=500)  # density=False would make counts\n",
    "plt.xlabel('Smallest k');\n",
    "plt.ylabel(\"Counts\")"
   ]
  },
  {
   "cell_type": "markdown",
   "id": "9f745b82-c1d0-4a77-84ea-1293605f8e70",
   "metadata": {},
   "source": [
    "The smallest median value of $k$ with respect to $l_2$ norm is"
   ]
  },
  {
   "cell_type": "code",
   "execution_count": 43,
   "id": "2017006e-1738-4527-8bd4-70f6f47157c8",
   "metadata": {},
   "outputs": [
    {
     "name": "stdout",
     "output_type": "stream",
     "text": [
      "108.0\n"
     ]
    }
   ],
   "source": [
    "import statistics as st\n",
    "print(st.median(list_k))"
   ]
  },
  {
   "cell_type": "markdown",
   "id": "a804dba4-d903-4184-8cd1-6a6708bdd90d",
   "metadata": {},
   "source": [
    "Do the same thing for $l_{\\infty}$."
   ]
  },
  {
   "cell_type": "code",
   "execution_count": 44,
   "id": "6732e7ef-592d-414f-9c5a-fcdd621f3622",
   "metadata": {},
   "outputs": [],
   "source": [
    "list_k_infty = []\n",
    "for i in range(num_run):\n",
    "    \n",
    "    list_dis = [[k,np.linalg.norm(list_X[i][k,:]-list_x_star[i],np.inf)] for k in range(n)]\n",
    "    sorted_list_dis = sorted(list_dis,key=lambda x: x[1])\n",
    "    \n",
    "    k = -1 # prototype itself is included\n",
    "    for j in range(num_run):\n",
    "        index = sorted_list_dis[j][0]\n",
    "        if list_Y[0][index]==1:\n",
    "            k=k+1\n",
    "    \n",
    "    list_k_infty.append(k)"
   ]
  },
  {
   "cell_type": "code",
   "execution_count": 45,
   "id": "7d9774fa-ad74-489c-9df9-0efe8704f1a2",
   "metadata": {},
   "outputs": [
    {
     "name": "stdout",
     "output_type": "stream",
     "text": [
      "[169, 104, 106, 110, 117, 109, 112, 102, 102, 111]\n"
     ]
    }
   ],
   "source": [
    "print(list_k_infty[0:10])"
   ]
  },
  {
   "cell_type": "code",
   "execution_count": 46,
   "id": "99958637-e0f1-4814-b865-1c7494f8099b",
   "metadata": {},
   "outputs": [
    {
     "data": {
      "text/plain": [
       "Text(0, 0.5, 'Counts')"
      ]
     },
     "execution_count": 46,
     "metadata": {},
     "output_type": "execute_result"
    },
    {
     "data": {
      "image/png": "[encoded data removed]",
      "text/plain": [
       "<Figure size 432x288 with 1 Axes>"
      ]
     },
     "metadata": {
      "needs_background": "light"
     },
     "output_type": "display_data"
    }
   ],
   "source": [
    "plt.hist(list_k_infty, density=False, bins=500)  # density=False would make counts\n",
    "plt.xlabel('Smallest k');\n",
    "plt.ylabel(\"Counts\")"
   ]
  },
  {
   "cell_type": "code",
   "execution_count": 47,
   "id": "27b97570-526e-4169-9ae5-ac267f158963",
   "metadata": {},
   "outputs": [
    {
     "name": "stdout",
     "output_type": "stream",
     "text": [
      "108.0\n"
     ]
    }
   ],
   "source": [
    "print(st.median(list_k_infty))"
   ]
  },
  {
   "cell_type": "markdown",
   "id": "d305237a-5412-47d2-b21e-111b8bd12281",
   "metadata": {},
   "source": [
    "**8)** Which of the following metrics would be a poor choice of a distance/dissimilarity measure for a\n",
    "$k$-nearest neighbor classifier in the presence of a large number of irrelevant features? Justify your\n",
    "answer. [5 points]"
   ]
  },
  {
   "cell_type": "markdown",
   "id": "c803cb0e-bc4d-41f8-af65-c6a46d8c451e",
   "metadata": {},
   "source": [
    "Solution: $d_B$ is a poor metric as it is exactly the $l_{\\infty}$. \n",
    "\n",
    "$d_A$ and $d_C$ are equivalent to $l_1$ norm and $d_D$ is $l_{1/10}$ norm. All of them are not bad for classification tasks."
   ]
  },
  {
   "cell_type": "markdown",
   "id": "c55e8c9e-d82a-4767-b9b7-5c1075017345",
   "metadata": {},
   "source": [
    "**9)** Write a short 5–10 sentence discussion of the results and insights from these exercises. [5 points]"
   ]
  },
  {
   "cell_type": "markdown",
   "id": "be0f5332-ffc7-4f41-9ec9-9179c733cbaa",
   "metadata": {},
   "source": [
    "From figures in questions 6, we can see that data points are more closer to the class 1 prototype \n",
    "if we choose $l_\\infty$ norm instead of $l_2$ norm. This makes sense because $\\|x\\|_{\\infty}\\leq\\|x\\|_2$ for any vector $x$. This means that using $l_\\infty$ norm as a distance in classification tasks data points are more concentrated compared to using $l_2$ norm. So $l_{\\infty}$ is not suitable for classification tasks, especially in high dimensional space. But the median values of $k$ in question 7 using $l_2$ and $l_\\infty$ both are $108$ though the distributions of $k$ are different (from histogram). Means in this task $l_2$ does not show obvious advantage over $l_{\\infty}$. Probably because the feature dimension is not very large so that the classification task is not very sensitive to the distance metric."
   ]
  },
  {
   "cell_type": "markdown",
   "id": "a1618fed-bbc9-4dc3-9f7a-b5a13deb6c39",
   "metadata": {},
   "source": [
    "## Problem II\n",
    "\n",
    "Notation: $u\\sim\\mathcal{N}(c,I_q), c\\in R^q,A\\in R^{d\\times q}$\n",
    "\n",
    "### 1)\n",
    "\n",
    "First, calculate expectation of $A_{ij}$\n",
    "\\begin{align*}\n",
    "E[A_{ij}]&=1\\times p+0\\times(1-2p)+(-1)\\times p\\\\\n",
    "&=0\n",
    "\\end{align*}\n",
    "\n",
    "Then we have $E[A]=\\left[E[A_{ij}]\\right]_{d\\times q}=0_{d\\times q}$ as entries $A_{ij}$ in $A$ are independent of each other. In addtion, $A$ and $u$ are independent so we can switch the order between expecation and multiplication, that is,\n",
    "\\begin{align*}\n",
    "E[Au]&=E[A]E[u]\\\\\n",
    "&=0_{d\\times q}c_{q\\times1}\\\\\n",
    "&=0_{d\\times 1}\n",
    "\\end{align*}\n",
    "Similarly,\n",
    "\\begin{align*}\n",
    "E[A(u-c)]&=E[Au]-E[Ac]\\\\\n",
    "&=E[A]E[u]-E[A]c\\\\\n",
    "&=E[A]c-E[A]c\\\\\n",
    "&=0_{d\\times 1}\n",
    "\\end{align*}"
   ]
  },
  {
   "cell_type": "markdown",
   "id": "845f8fb5-c341-41d2-b9bc-e8c327fd3650",
   "metadata": {},
   "source": [
    "### 2)\n",
    "Note that $A$ and $A^T$ are not indepent as at least they share same diagonal entries. Let $C=AA^T$. Then\n",
    "\\begin{align*}\n",
    "C_{ii}&=\\sum_{j=1}^dA_{ij}(A^T)_{ji}\\\\\n",
    "&=\\sum_{j=1}^dA_{ij}^2\n",
    "\\end{align*}\n",
    "From the probability mass function (pmf) of $A_{ij}$, we derive the pmf of $A_{ij}^2$,\n",
    "$$A_{ij}^2=\\begin{cases}\n",
    "1&\\text{with probability} 2p\\\\\n",
    "0&\\text{with probability }1-2p\n",
    "\\end{cases}$$\n",
    "Then\n",
    "\\begin{align*}\n",
    "E[A_{ij}^2]&=1\\times(2p)+0\\times(1-2p)\\\\\n",
    "&=2p\n",
    "\\end{align*}\n",
    "Since entries $A_{ij}$ are independent, $A_{ij}^2$ are independent, too.\n",
    "\\begin{align*}\n",
    "E[C_{ii}]&=E\\left[\\sum_{j=1}^dA_{ij}^2\\right]\\\\\n",
    "&=\\sum_{j=1}^dE\\left[A_{ij}^2\\right]\\\\\n",
    "&=\\sum_{j=1}^d2p\\\\\n",
    "&=2dp\n",
    "\\end{align*}\n",
    "For any $i,j$ with $\\neq j$\n",
    "\\begin{align*}\n",
    "C_{ij}&=\\sum_{k=1}^dA_{ik}(A^T){kj}\\\\\n",
    "&=\\sum_{k=1}^dA_{ik}A_{jk}\n",
    "\\end{align*}\n",
    "and then\n",
    "\\begin{align*}\n",
    "E[C_{ij}]&=E\\left[\\sum_{k=1}^dA_{ik}A_{jk}\\right]\\\\\n",
    "&=\\sum_{k=1}^dE[A_{ik}A_{jk}]\\\\\n",
    "&\\quad A_{ik},A_{jk}\\text{ are independent}\\\\\n",
    "&=\\sum_{k=1}^dE[A_{ik}]E[A_{jk}]\\\\\n",
    "&=\\sum_{k=1}^d0\\cdot0\\\\\n",
    "&=0\n",
    "\\end{align*}\n",
    "Therefore,\n",
    "$$E[AA^T]=2dp I_{d}$$\n",
    "where $I_d$ is the identity matrix of size $d\\times d$."
   ]
  }
 ],
 "metadata": {
  "kernelspec": {
   "display_name": "Python 3 (ipykernel)",
   "language": "python",
   "name": "python3"
  },
  "language_info": {
   "codemirror_mode": {
    "name": "ipython",
    "version": 3
   },
   "file_extension": ".py",
   "mimetype": "text/x-python",
   "name": "python",
   "nbconvert_exporter": "python",
   "pygments_lexer": "ipython3",
   "version": "3.9.12"
  }
 },
 "nbformat": 4,
 "nbformat_minor": 5
}
