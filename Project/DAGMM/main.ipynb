{
 "cells": [
  {
   "cell_type": "code",
   "execution_count": 1,
   "metadata": {},
   "outputs": [],
   "source": [
    "from pdb import set_trace\n",
    "from pathlib import Path\n",
    "import numpy as np\n",
    "import matplotlib.pyplot as plt\n",
    "import pandas as pd \n",
    "\n",
    "import torch\n",
    "from train import TrainerDAGMM"
   ]
  },
  {
   "cell_type": "code",
   "execution_count": 2,
   "metadata": {},
   "outputs": [
    {
     "data": {
      "text/plain": [
       "{'num_epochs': 200,\n",
       " 'lr': 0.0001,\n",
       " 'latent_dim': 2,\n",
       " 'n_gmm': 6,\n",
       " 'lambda_energy': 0.1,\n",
       " 'lambda_cov': 0.005,\n",
       " 'device': 'cuda'}"
      ]
     },
     "execution_count": 2,
     "metadata": {},
     "output_type": "execute_result"
    }
   ],
   "source": [
    "class Args:\n",
    "    def __init__(self):\n",
    "        self.num_epochs = 200\n",
    "        self.lr = 1e-4\n",
    "        self.latent_dim = 2\n",
    "        self.n_gmm = 6\n",
    "        self.lambda_energy = 0.1\n",
    "        self.lambda_cov = 0.005\n",
    "        self.device = 'cuda' if torch.cuda.is_available() else 'cpu'\n",
    "\n",
    "args = Args()\n",
    "vars(args)"
   ]
  },
  {
   "cell_type": "code",
   "execution_count": 3,
   "metadata": {},
   "outputs": [],
   "source": [
    "path = Path.home().joinpath(\"Documents\",\"Data\",\"Rehabilitation\")\n",
    "path.mkdir(exist_ok=True)\n",
    "def get_data():\n",
    "    X = pd.read_csv(path.joinpath(\"Data_Correct.csv\"),header=None)\n",
    "    Y = pd.read_csv(path.joinpath(\"Data_Incorrect.csv\"),header=None)\n",
    "    X = X.to_numpy()\n",
    "    Y = Y.to_numpy()\n",
    "    return X, Y"
   ]
  },
  {
   "cell_type": "code",
   "execution_count": 4,
   "metadata": {},
   "outputs": [
    {
     "name": "stdout",
     "output_type": "stream",
     "text": [
      "(10530, 240)\n",
      "(10530, 240)\n"
     ]
    }
   ],
   "source": [
    "X, Y = get_data()\n",
    "print(X.shape)\n",
    "print(Y.shape)"
   ]
  },
  {
   "cell_type": "code",
   "execution_count": 5,
   "metadata": {},
   "outputs": [],
   "source": [
    "n_dim = 117\n",
    "T = X.shape[1]\n",
    "R = int(X.shape[0]/n_dim)\n",
    "def two2three(X, R, T, n_dim):\n",
    "    X_NN = np.zeros((R,T,n_dim))\n",
    "    for r in range(R):\n",
    "        X_NN[r,:,:] = X[r*n_dim:(r+1)*n_dim,:].T\n",
    "    X_NN = torch.tensor(X_NN).float()\n",
    "    return X_NN"
   ]
  },
  {
   "cell_type": "code",
   "execution_count": 6,
   "metadata": {},
   "outputs": [
    {
     "name": "stdout",
     "output_type": "stream",
     "text": [
      "torch.Size([90, 240, 117])\n",
      "torch.Size([90, 240, 117])\n"
     ]
    }
   ],
   "source": [
    "X_NN = two2three(X, R, T, n_dim)\n",
    "Y_NN = two2three(Y, R, T, n_dim)\n",
    "print(X_NN.shape)\n",
    "print(Y_NN.shape)"
   ]
  },
  {
   "cell_type": "code",
   "execution_count": 7,
   "metadata": {},
   "outputs": [],
   "source": [
    "dagmm = TrainerDAGMM(args, X_NN)"
   ]
  },
  {
   "cell_type": "code",
   "execution_count": 8,
   "metadata": {},
   "outputs": [
    {
     "data": {
      "text/plain": [
       "(torch.Size([90, 240, 2]),\n",
       " torch.Size([90, 240, 117]),\n",
       " torch.Size([90, 4]),\n",
       " torch.Size([90, 6]))"
      ]
     },
     "execution_count": 8,
     "metadata": {},
     "output_type": "execute_result"
    }
   ],
   "source": [
    "z_c, x_hat, z, gamma = dagmm.model(X_NN.to(args.device))\n",
    "z_c.shape, x_hat.shape, z.shape, gamma.shape"
   ]
  },
  {
   "cell_type": "code",
   "execution_count": 9,
   "metadata": {},
   "outputs": [
    {
     "name": "stdout",
     "output_type": "stream",
     "text": [
      "Training DAGMM... Epoch: 0, Loss: 730530.688\n",
      "Training DAGMM... Epoch: 1, Loss: 606531.188\n",
      "Training DAGMM... Epoch: 2, Loss: 507005.969\n",
      "Training DAGMM... Epoch: 3, Loss: 427102.406\n",
      "Training DAGMM... Epoch: 4, Loss: 362682.031\n",
      "Training DAGMM... Epoch: 5, Loss: 310424.656\n",
      "Training DAGMM... Epoch: 6, Loss: 267712.656\n",
      "Training DAGMM... Epoch: 7, Loss: 232528.906\n",
      "Training DAGMM... Epoch: 8, Loss: 203308.406\n",
      "Training DAGMM... Epoch: 9, Loss: 178849.266\n",
      "Training DAGMM... Epoch: 10, Loss: 158219.875\n",
      "Training DAGMM... Epoch: 11, Loss: 140694.859\n",
      "Training DAGMM... Epoch: 12, Loss: 125704.414\n",
      "Training DAGMM... Epoch: 13, Loss: 112801.727\n",
      "Training DAGMM... Epoch: 14, Loss: 101628.938\n",
      "Training DAGMM... Epoch: 15, Loss: 91900.445\n",
      "Training DAGMM... Epoch: 16, Loss: 83383.852\n",
      "Training DAGMM... Epoch: 17, Loss: 75893.820\n",
      "Training DAGMM... Epoch: 18, Loss: 69275.648\n",
      "Training DAGMM... Epoch: 19, Loss: 63403.457\n",
      "Training DAGMM... Epoch: 20, Loss: 58171.484\n",
      "Training DAGMM... Epoch: 21, Loss: 53493.309\n",
      "Training DAGMM... Epoch: 22, Loss: 49295.035\n",
      "Training DAGMM... Epoch: 23, Loss: 45515.566\n",
      "Training DAGMM... Epoch: 24, Loss: 42102.332\n",
      "Training DAGMM... Epoch: 25, Loss: 39011.777\n",
      "Training DAGMM... Epoch: 26, Loss: 36204.926\n",
      "Training DAGMM... Epoch: 27, Loss: 33648.984\n",
      "Training DAGMM... Epoch: 28, Loss: 31316.604\n",
      "Training DAGMM... Epoch: 29, Loss: 29183.234\n",
      "Training DAGMM... Epoch: 30, Loss: 27227.535\n",
      "Training DAGMM... Epoch: 31, Loss: 25431.307\n",
      "Training DAGMM... Epoch: 32, Loss: 23778.369\n",
      "Training DAGMM... Epoch: 33, Loss: 22254.379\n",
      "Training DAGMM... Epoch: 34, Loss: 20846.918\n",
      "Training DAGMM... Epoch: 35, Loss: 19545.250\n",
      "Training DAGMM... Epoch: 36, Loss: 18339.141\n",
      "Training DAGMM... Epoch: 37, Loss: 17220.523\n",
      "Training DAGMM... Epoch: 38, Loss: 16181.309\n",
      "Training DAGMM... Epoch: 39, Loss: 15214.606\n",
      "Training DAGMM... Epoch: 40, Loss: 14314.528\n",
      "Training DAGMM... Epoch: 41, Loss: 13475.023\n",
      "Training DAGMM... Epoch: 42, Loss: 12691.654\n",
      "Training DAGMM... Epoch: 43, Loss: 11959.671\n",
      "Training DAGMM... Epoch: 44, Loss: 11275.048\n",
      "Training DAGMM... Epoch: 45, Loss: 10634.285\n",
      "Training DAGMM... Epoch: 46, Loss: 10033.982\n",
      "Training DAGMM... Epoch: 47, Loss: 9470.847\n",
      "Training DAGMM... Epoch: 48, Loss: 8942.486\n",
      "Training DAGMM... Epoch: 49, Loss: 8446.208\n",
      "Training DAGMM... Epoch: 50, Loss: 7979.896\n",
      "Training DAGMM... Epoch: 51, Loss: 7541.372\n",
      "Training DAGMM... Epoch: 52, Loss: 7128.769\n",
      "Training DAGMM... Epoch: 53, Loss: 6740.233\n",
      "Training DAGMM... Epoch: 54, Loss: 6374.243\n",
      "Training DAGMM... Epoch: 55, Loss: 6029.304\n",
      "Training DAGMM... Epoch: 56, Loss: 5704.072\n",
      "Training DAGMM... Epoch: 57, Loss: 5397.202\n",
      "Training DAGMM... Epoch: 58, Loss: 5107.585\n",
      "Training DAGMM... Epoch: 59, Loss: 4834.229\n",
      "Training DAGMM... Epoch: 60, Loss: 4575.943\n",
      "Training DAGMM... Epoch: 61, Loss: 4332.013\n",
      "Training DAGMM... Epoch: 62, Loss: 4101.413\n",
      "Training DAGMM... Epoch: 63, Loss: 3883.485\n",
      "Training DAGMM... Epoch: 64, Loss: 3677.391\n",
      "Training DAGMM... Epoch: 65, Loss: 3482.446\n",
      "Training DAGMM... Epoch: 66, Loss: 3298.024\n",
      "Training DAGMM... Epoch: 67, Loss: 3123.524\n",
      "Training DAGMM... Epoch: 68, Loss: 2958.359\n",
      "Training DAGMM... Epoch: 69, Loss: 2802.019\n",
      "Training DAGMM... Epoch: 70, Loss: 2653.981\n",
      "Training DAGMM... Epoch: 71, Loss: 2513.827\n",
      "Training DAGMM... Epoch: 72, Loss: 2381.094\n",
      "Training DAGMM... Epoch: 73, Loss: 2255.361\n",
      "Training DAGMM... Epoch: 74, Loss: 2136.243\n",
      "Training DAGMM... Epoch: 75, Loss: 2023.404\n",
      "Training DAGMM... Epoch: 76, Loss: 1916.490\n",
      "Training DAGMM... Epoch: 77, Loss: 1815.140\n",
      "Training DAGMM... Epoch: 78, Loss: 1719.090\n",
      "Training DAGMM... Epoch: 79, Loss: 1628.074\n",
      "Training DAGMM... Epoch: 80, Loss: 1541.755\n",
      "Training DAGMM... Epoch: 81, Loss: 1459.911\n",
      "Training DAGMM... Epoch: 82, Loss: 1382.296\n",
      "Training DAGMM... Epoch: 83, Loss: 1308.694\n",
      "Training DAGMM... Epoch: 84, Loss: 1238.846\n",
      "Training DAGMM... Epoch: 85, Loss: 1172.578\n",
      "Training DAGMM... Epoch: 86, Loss: 1109.690\n",
      "Training DAGMM... Epoch: 87, Loss: 1049.993\n",
      "Training DAGMM... Epoch: 88, Loss: 993.313\n",
      "Training DAGMM... Epoch: 89, Loss: 939.451\n",
      "Training DAGMM... Epoch: 90, Loss: 888.295\n",
      "Training DAGMM... Epoch: 91, Loss: 839.662\n",
      "Training DAGMM... Epoch: 92, Loss: 793.427\n",
      "Training DAGMM... Epoch: 93, Loss: 749.427\n",
      "Training DAGMM... Epoch: 94, Loss: 707.544\n",
      "Training DAGMM... Epoch: 95, Loss: 667.652\n",
      "Training DAGMM... Epoch: 96, Loss: 629.631\n",
      "Training DAGMM... Epoch: 97, Loss: 593.375\n",
      "Training DAGMM... Epoch: 98, Loss: 558.743\n",
      "Training DAGMM... Epoch: 99, Loss: 525.657\n",
      "Training DAGMM... Epoch: 100, Loss: 494.010\n",
      "Training DAGMM... Epoch: 101, Loss: 463.689\n",
      "Training DAGMM... Epoch: 102, Loss: 434.602\n",
      "Training DAGMM... Epoch: 103, Loss: 406.646\n",
      "Training DAGMM... Epoch: 104, Loss: 379.729\n",
      "Training DAGMM... Epoch: 105, Loss: 353.743\n",
      "Training DAGMM... Epoch: 106, Loss: 328.580\n",
      "Training DAGMM... Epoch: 107, Loss: 304.122\n",
      "Training DAGMM... Epoch: 108, Loss: 280.241\n",
      "Training DAGMM... Epoch: 109, Loss: 256.801\n",
      "Training DAGMM... Epoch: 110, Loss: 233.640\n",
      "Training DAGMM... Epoch: 111, Loss: 210.618\n",
      "Training DAGMM... Epoch: 112, Loss: 187.688\n",
      "Training DAGMM... Epoch: 113, Loss: 165.462\n",
      "Training DAGMM... Epoch: 114, Loss: 149.107\n",
      "Training DAGMM... Epoch: 115, Loss: 182.348\n",
      "Training DAGMM... Epoch: 116, Loss: 240.474\n",
      "Training DAGMM... Epoch: 117, Loss: 190.491\n",
      "Training DAGMM... Epoch: 118, Loss: 139.473\n",
      "Training DAGMM... Epoch: 119, Loss: 112.608\n",
      "Training DAGMM... Epoch: 120, Loss: 100.616\n",
      "Training DAGMM... Epoch: 121, Loss: 96.489\n",
      "Training DAGMM... Epoch: 122, Loss: 96.129\n",
      "Training DAGMM... Epoch: 123, Loss: 96.777\n",
      "Training DAGMM... Epoch: 124, Loss: 97.209\n",
      "Training DAGMM... Epoch: 125, Loss: 96.969\n",
      "Training DAGMM... Epoch: 126, Loss: 95.928\n",
      "Training DAGMM... Epoch: 127, Loss: 94.108\n",
      "Training DAGMM... Epoch: 128, Loss: 91.612\n",
      "Training DAGMM... Epoch: 129, Loss: 88.586\n",
      "Training DAGMM... Epoch: 130, Loss: 85.199\n",
      "Training DAGMM... Epoch: 131, Loss: 81.641\n",
      "Training DAGMM... Epoch: 132, Loss: 78.129\n",
      "Training DAGMM... Epoch: 133, Loss: 74.915\n",
      "Training DAGMM... Epoch: 134, Loss: 72.289\n",
      "Training DAGMM... Epoch: 135, Loss: 70.538\n",
      "Training DAGMM... Epoch: 136, Loss: 69.517\n",
      "Training DAGMM... Epoch: 137, Loss: 68.521\n",
      "Training DAGMM... Epoch: 138, Loss: 67.036\n",
      "Training DAGMM... Epoch: 139, Loss: 65.032\n",
      "Training DAGMM... Epoch: 140, Loss: 62.840\n",
      "Training DAGMM... Epoch: 141, Loss: 60.883\n",
      "Training DAGMM... Epoch: 142, Loss: 59.383\n",
      "Training DAGMM... Epoch: 143, Loss: 58.194\n",
      "Training DAGMM... Epoch: 144, Loss: 57.057\n",
      "Training DAGMM... Epoch: 145, Loss: 55.837\n",
      "Training DAGMM... Epoch: 146, Loss: 54.509\n",
      "Training DAGMM... Epoch: 147, Loss: 53.113\n",
      "Training DAGMM... Epoch: 148, Loss: 51.741\n",
      "Training DAGMM... Epoch: 149, Loss: 50.502\n",
      "Training DAGMM... Epoch: 150, Loss: 49.456\n",
      "Training DAGMM... Epoch: 151, Loss: 48.479\n",
      "Training DAGMM... Epoch: 152, Loss: 47.424\n",
      "Training DAGMM... Epoch: 153, Loss: 46.279\n",
      "Training DAGMM... Epoch: 154, Loss: 45.141\n",
      "Training DAGMM... Epoch: 155, Loss: 44.106\n",
      "Training DAGMM... Epoch: 156, Loss: 43.162\n",
      "Training DAGMM... Epoch: 157, Loss: 42.238\n",
      "Training DAGMM... Epoch: 158, Loss: 41.304\n",
      "Training DAGMM... Epoch: 159, Loss: 40.383\n",
      "Training DAGMM... Epoch: 160, Loss: 39.511\n",
      "Training DAGMM... Epoch: 161, Loss: 38.699\n",
      "Training DAGMM... Epoch: 162, Loss: 37.900\n",
      "Training DAGMM... Epoch: 163, Loss: 37.078\n",
      "Training DAGMM... Epoch: 164, Loss: 36.254\n",
      "Training DAGMM... Epoch: 165, Loss: 35.464\n",
      "Training DAGMM... Epoch: 166, Loss: 34.715\n",
      "Training DAGMM... Epoch: 167, Loss: 33.986\n",
      "Training DAGMM... Epoch: 168, Loss: 33.271\n",
      "Training DAGMM... Epoch: 169, Loss: 32.580\n",
      "Training DAGMM... Epoch: 170, Loss: 31.915\n",
      "Training DAGMM... Epoch: 171, Loss: 31.260\n",
      "Training DAGMM... Epoch: 172, Loss: 30.602\n",
      "Training DAGMM... Epoch: 173, Loss: 29.948\n",
      "Training DAGMM... Epoch: 174, Loss: 29.312\n",
      "Training DAGMM... Epoch: 175, Loss: 28.693\n",
      "Training DAGMM... Epoch: 176, Loss: 28.087\n",
      "Training DAGMM... Epoch: 177, Loss: 27.491\n",
      "Training DAGMM... Epoch: 178, Loss: 26.910\n",
      "Training DAGMM... Epoch: 179, Loss: 26.336\n",
      "Training DAGMM... Epoch: 180, Loss: 25.766\n",
      "Training DAGMM... Epoch: 181, Loss: 25.198\n",
      "Training DAGMM... Epoch: 182, Loss: 24.636\n",
      "Training DAGMM... Epoch: 183, Loss: 24.082\n",
      "Training DAGMM... Epoch: 184, Loss: 23.537\n",
      "Training DAGMM... Epoch: 185, Loss: 22.997\n",
      "Training DAGMM... Epoch: 186, Loss: 22.466\n",
      "Training DAGMM... Epoch: 187, Loss: 21.939\n",
      "Training DAGMM... Epoch: 188, Loss: 21.418\n",
      "Training DAGMM... Epoch: 189, Loss: 20.898\n",
      "Training DAGMM... Epoch: 190, Loss: 20.381\n",
      "Training DAGMM... Epoch: 191, Loss: 19.868\n",
      "Training DAGMM... Epoch: 192, Loss: 19.360\n",
      "Training DAGMM... Epoch: 193, Loss: 18.855\n",
      "Training DAGMM... Epoch: 194, Loss: 18.353\n",
      "Training DAGMM... Epoch: 195, Loss: 17.854\n",
      "Training DAGMM... Epoch: 196, Loss: 17.358\n",
      "Training DAGMM... Epoch: 197, Loss: 16.861\n",
      "Training DAGMM... Epoch: 198, Loss: 16.364\n",
      "Training DAGMM... Epoch: 199, Loss: 15.864\n"
     ]
    }
   ],
   "source": [
    "dagmm = TrainerDAGMM(args, X_NN)\n",
    "dagmm.train()"
   ]
  },
  {
   "cell_type": "code",
   "execution_count": 10,
   "metadata": {},
   "outputs": [
    {
     "name": "stdout",
     "output_type": "stream",
     "text": [
      "torch.Size([90, 240, 2]) torch.Size([90, 240, 117]) torch.Size([90, 4]) torch.Size([90, 6])\n",
      "torch.Size([6]) torch.Size([6, 4]) torch.Size([6, 4, 4])\n",
      "torch.Size([90, 4]) torch.Size([90, 4])\n"
     ]
    }
   ],
   "source": [
    "with torch.no_grad():\n",
    "    z, x_hat, aug_z, gamma = dagmm.model(X_NN.to(args.device))\n",
    "    print(z.shape, x_hat.shape, aug_z.shape, gamma.shape)\n",
    "    \n",
    "    # compute phi, mu, and cov using the training dataset\n",
    "    hp_gmm = dagmm.compute.compute_params(aug_z, gamma)\n",
    "    print(hp_gmm[0].shape, hp_gmm[1].shape, hp_gmm[2].shape)\n",
    "    \n",
    "    zy, y_hat, aug_zy , _ = dagmm.model(Y_NN.to(args.device))\n",
    "    print(aug_z.shape, aug_zy.shape)\n",
    "    \n",
    "    # compute likelihood for correct and incorrect motions\n",
    "    lik = {\"corr\":[],\"incorr\":[]}\n",
    "    for r in range(R):\n",
    "        cl, _ = dagmm.compute.compute_energy(aug_z[r].unsqueeze(0), \n",
    "                                             gamma, *hp_gmm)\n",
    "        lik[\"corr\"].append(-cl.cpu())\n",
    "        il, _ = dagmm.compute.compute_energy(aug_zy[r].unsqueeze(0), \n",
    "                                             gamma, *hp_gmm)\n",
    "        lik[\"incorr\"].append(-il.cpu())"
   ]
  },
  {
   "cell_type": "code",
   "execution_count": 11,
   "metadata": {},
   "outputs": [
    {
     "data": {
      "image/png": "[encoded data removed]",
      "text/plain": [
       "<Figure size 640x480 with 1 Axes>"
      ]
     },
     "metadata": {},
     "output_type": "display_data"
    }
   ],
   "source": [
    "plt.scatter(np.arange(1,91),lik[\"corr\"], label = \"Correct Sequences\")\n",
    "plt.scatter(np.arange(1,91),lik[\"incorr\"], label = \"Incorrect Sequences\")\n",
    "plt.xlabel(\"Sequence Number\")\n",
    "plt.ylabel(\"Log-Likelihood\")\n",
    "plt.legend()\n",
    "plt.show()"
   ]
  }
 ],
 "metadata": {
  "kernelspec": {
   "display_name": "Python 3 (ipykernel)",
   "language": "python",
   "name": "python3"
  },
  "language_info": {
   "codemirror_mode": {
    "name": "ipython",
    "version": 3
   },
   "file_extension": ".py",
   "mimetype": "text/x-python",
   "name": "python",
   "nbconvert_exporter": "python",
   "pygments_lexer": "ipython3",
   "version": "3.11.9"
  }
 },
 "nbformat": 4,
 "nbformat_minor": 4
}
