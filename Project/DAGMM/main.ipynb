{
 "cells": [
  {
   "cell_type": "code",
   "execution_count": 1,
   "metadata": {},
   "outputs": [],
   "source": [
    "from pdb import set_trace\n",
    "from pathlib import Path\n",
    "import numpy as np\n",
    "import matplotlib.pyplot as plt\n",
    "import pandas as pd \n",
    "\n",
    "import torch\n",
    "from train import TrainerDAGMM"
   ]
  },
  {
   "cell_type": "code",
   "execution_count": 2,
   "metadata": {},
   "outputs": [
    {
     "data": {
      "text/plain": [
       "{'num_epochs': 200,\n",
       " 'lr': 0.0001,\n",
       " 'latent_dim': 2,\n",
       " 'n_gmm': 6,\n",
       " 'lambda_energy': 0.1,\n",
       " 'lambda_cov': 0.005,\n",
       " 'device': 'cuda'}"
      ]
     },
     "execution_count": 2,
     "metadata": {},
     "output_type": "execute_result"
    }
   ],
   "source": [
    "class Args:\n",
    "    def __init__(self):\n",
    "        self.num_epochs = 200\n",
    "        self.lr = 1e-4\n",
    "        self.latent_dim = 2\n",
    "        self.n_gmm = 6\n",
    "        self.lambda_energy = 0.1\n",
    "        self.lambda_cov = 0.005\n",
    "        self.device = 'cuda' if torch.cuda.is_available() else 'cpu'\n",
    "\n",
    "args = Args()\n",
    "vars(args)"
   ]
  },
  {
   "cell_type": "code",
   "execution_count": 3,
   "metadata": {},
   "outputs": [],
   "source": [
    "path = Path.home().joinpath(\"Documents\",\"Data\",\"Rehabilitation\")\n",
    "path.mkdir(exist_ok=True)\n",
    "def get_data():\n",
    "    X = pd.read_csv(path.joinpath(\"Data_Correct.csv\"),header=None)\n",
    "    Y = pd.read_csv(path.joinpath(\"Data_Incorrect.csv\"),header=None)\n",
    "    X = X.to_numpy()\n",
    "    Y = Y.to_numpy()\n",
    "    return X, Y"
   ]
  },
  {
   "cell_type": "code",
   "execution_count": 4,
   "metadata": {},
   "outputs": [
    {
     "name": "stdout",
     "output_type": "stream",
     "text": [
      "(10530, 240)\n",
      "(10530, 240)\n"
     ]
    }
   ],
   "source": [
    "X, Y = get_data()\n",
    "print(X.shape)\n",
    "print(Y.shape)"
   ]
  },
  {
   "cell_type": "code",
   "execution_count": 5,
   "metadata": {},
   "outputs": [],
   "source": [
    "n_dim = 117\n",
    "T = X.shape[1]\n",
    "R = int(X.shape[0]/n_dim)\n",
    "def two2three(X, R, T, n_dim):\n",
    "    X_NN = np.zeros((R,T,n_dim))\n",
    "    for r in range(R):\n",
    "        X_NN[r,:,:] = X[r*n_dim:(r+1)*n_dim,:].T\n",
    "    X_NN = torch.tensor(X_NN).float()\n",
    "    return X_NN"
   ]
  },
  {
   "cell_type": "code",
   "execution_count": 6,
   "metadata": {},
   "outputs": [
    {
     "name": "stdout",
     "output_type": "stream",
     "text": [
      "torch.Size([90, 240, 117])\n",
      "torch.Size([90, 240, 117])\n"
     ]
    }
   ],
   "source": [
    "X_NN = two2three(X, R, T, n_dim)\n",
    "Y_NN = two2three(Y, R, T, n_dim)\n",
    "print(X_NN.shape)\n",
    "print(Y_NN.shape)"
   ]
  },
  {
   "cell_type": "code",
   "execution_count": 7,
   "metadata": {},
   "outputs": [],
   "source": [
    "dagmm = TrainerDAGMM(args, X_NN)"
   ]
  },
  {
   "cell_type": "code",
   "execution_count": 8,
   "metadata": {},
   "outputs": [
    {
     "data": {
      "text/plain": [
       "(torch.Size([90, 240, 2]),\n",
       " torch.Size([90, 240, 117]),\n",
       " torch.Size([90, 4]),\n",
       " torch.Size([90, 6]))"
      ]
     },
     "execution_count": 8,
     "metadata": {},
     "output_type": "execute_result"
    }
   ],
   "source": [
    "z_c, x_hat, z, gamma = dagmm.model(X_NN.to(args.device))\n",
    "z_c.shape, x_hat.shape, z.shape, gamma.shape"
   ]
  },
  {
   "cell_type": "code",
   "execution_count": 9,
   "metadata": {},
   "outputs": [
    {
     "name": "stdout",
     "output_type": "stream",
     "text": [
      "Training DAGMM... Epoch: 0, Loss: 1112722.750\n",
      "Training DAGMM... Epoch: 1, Loss: 971952.750\n",
      "Training DAGMM... Epoch: 2, Loss: 842734.125\n",
      "Training DAGMM... Epoch: 3, Loss: 727686.125\n",
      "Training DAGMM... Epoch: 4, Loss: 627573.000\n",
      "Training DAGMM... Epoch: 5, Loss: 541737.562\n",
      "Training DAGMM... Epoch: 6, Loss: 468796.094\n",
      "Training DAGMM... Epoch: 7, Loss: 407092.250\n",
      "Training DAGMM... Epoch: 8, Loss: 354971.906\n",
      "Training DAGMM... Epoch: 9, Loss: 310913.000\n",
      "Training DAGMM... Epoch: 10, Loss: 273587.625\n",
      "Training DAGMM... Epoch: 11, Loss: 241861.234\n",
      "Training DAGMM... Epoch: 12, Loss: 214790.984\n",
      "Training DAGMM... Epoch: 13, Loss: 191589.922\n",
      "Training DAGMM... Epoch: 14, Loss: 171615.281\n",
      "Training DAGMM... Epoch: 15, Loss: 154335.250\n",
      "Training DAGMM... Epoch: 16, Loss: 139317.062\n",
      "Training DAGMM... Epoch: 17, Loss: 126202.547\n",
      "Training DAGMM... Epoch: 18, Loss: 114698.398\n",
      "Training DAGMM... Epoch: 19, Loss: 104562.133\n",
      "Training DAGMM... Epoch: 20, Loss: 95592.891\n",
      "Training DAGMM... Epoch: 21, Loss: 87624.188\n",
      "Training DAGMM... Epoch: 22, Loss: 80516.703\n",
      "Training DAGMM... Epoch: 23, Loss: 74154.469\n",
      "Training DAGMM... Epoch: 24, Loss: 68439.266\n",
      "Training DAGMM... Epoch: 25, Loss: 63287.996\n",
      "Training DAGMM... Epoch: 26, Loss: 58631.512\n",
      "Training DAGMM... Epoch: 27, Loss: 54408.945\n",
      "Training DAGMM... Epoch: 28, Loss: 50569.922\n",
      "Training DAGMM... Epoch: 29, Loss: 47070.520\n",
      "Training DAGMM... Epoch: 30, Loss: 43872.648\n",
      "Training DAGMM... Epoch: 31, Loss: 40943.543\n",
      "Training DAGMM... Epoch: 32, Loss: 38255.066\n",
      "Training DAGMM... Epoch: 33, Loss: 35782.133\n",
      "Training DAGMM... Epoch: 34, Loss: 33503.145\n",
      "Training DAGMM... Epoch: 35, Loss: 31398.973\n",
      "Training DAGMM... Epoch: 36, Loss: 29453.014\n",
      "Training DAGMM... Epoch: 37, Loss: 27650.406\n",
      "Training DAGMM... Epoch: 38, Loss: 25977.951\n",
      "Training DAGMM... Epoch: 39, Loss: 24423.979\n",
      "Training DAGMM... Epoch: 40, Loss: 22978.162\n",
      "Training DAGMM... Epoch: 41, Loss: 21631.232\n",
      "Training DAGMM... Epoch: 42, Loss: 20374.855\n",
      "Training DAGMM... Epoch: 43, Loss: 19201.510\n",
      "Training DAGMM... Epoch: 44, Loss: 18104.615\n",
      "Training DAGMM... Epoch: 45, Loss: 17078.061\n",
      "Training DAGMM... Epoch: 46, Loss: 16116.446\n",
      "Training DAGMM... Epoch: 47, Loss: 15214.678\n",
      "Training DAGMM... Epoch: 48, Loss: 14368.447\n",
      "Training DAGMM... Epoch: 49, Loss: 13573.486\n",
      "Training DAGMM... Epoch: 50, Loss: 12826.235\n",
      "Training DAGMM... Epoch: 51, Loss: 12123.201\n",
      "Training DAGMM... Epoch: 52, Loss: 11461.366\n",
      "Training DAGMM... Epoch: 53, Loss: 10837.871\n",
      "Training DAGMM... Epoch: 54, Loss: 10250.097\n",
      "Training DAGMM... Epoch: 55, Loss: 9695.669\n",
      "Training DAGMM... Epoch: 56, Loss: 9172.404\n",
      "Training DAGMM... Epoch: 57, Loss: 8678.274\n",
      "Training DAGMM... Epoch: 58, Loss: 8211.459\n",
      "Training DAGMM... Epoch: 59, Loss: 7770.231\n",
      "Training DAGMM... Epoch: 60, Loss: 7352.992\n",
      "Training DAGMM... Epoch: 61, Loss: 6958.242\n",
      "Training DAGMM... Epoch: 62, Loss: 6584.698\n",
      "Training DAGMM... Epoch: 63, Loss: 6231.046\n",
      "Training DAGMM... Epoch: 64, Loss: 5896.131\n",
      "Training DAGMM... Epoch: 65, Loss: 5578.854\n",
      "Training DAGMM... Epoch: 66, Loss: 5278.189\n",
      "Training DAGMM... Epoch: 67, Loss: 4993.184\n",
      "Training DAGMM... Epoch: 68, Loss: 4722.922\n",
      "Training DAGMM... Epoch: 69, Loss: 4466.590\n",
      "Training DAGMM... Epoch: 70, Loss: 4223.388\n",
      "Training DAGMM... Epoch: 71, Loss: 3992.562\n",
      "Training DAGMM... Epoch: 72, Loss: 3773.432\n",
      "Training DAGMM... Epoch: 73, Loss: 3565.317\n",
      "Training DAGMM... Epoch: 74, Loss: 3367.590\n",
      "Training DAGMM... Epoch: 75, Loss: 3179.668\n",
      "Training DAGMM... Epoch: 76, Loss: 3000.946\n",
      "Training DAGMM... Epoch: 77, Loss: 2830.912\n",
      "Training DAGMM... Epoch: 78, Loss: 2669.031\n",
      "Training DAGMM... Epoch: 79, Loss: 2514.814\n",
      "Training DAGMM... Epoch: 80, Loss: 2367.771\n",
      "Training DAGMM... Epoch: 81, Loss: 2227.467\n",
      "Training DAGMM... Epoch: 82, Loss: 2093.434\n",
      "Training DAGMM... Epoch: 83, Loss: 1965.252\n",
      "Training DAGMM... Epoch: 84, Loss: 1842.493\n",
      "Training DAGMM... Epoch: 85, Loss: 1724.759\n",
      "Training DAGMM... Epoch: 86, Loss: 1611.644\n",
      "Training DAGMM... Epoch: 87, Loss: 1502.751\n",
      "Training DAGMM... Epoch: 88, Loss: 1397.707\n",
      "Training DAGMM... Epoch: 89, Loss: 1296.119\n",
      "Training DAGMM... Epoch: 90, Loss: 1197.616\n",
      "Training DAGMM... Epoch: 91, Loss: 1101.834\n",
      "Training DAGMM... Epoch: 92, Loss: 1008.448\n",
      "Training DAGMM... Epoch: 93, Loss: 917.159\n",
      "Training DAGMM... Epoch: 94, Loss: 827.771\n",
      "Training DAGMM... Epoch: 95, Loss: 740.307\n",
      "Training DAGMM... Epoch: 96, Loss: 655.194\n",
      "Training DAGMM... Epoch: 97, Loss: 573.766\n",
      "Training DAGMM... Epoch: 98, Loss: 499.242\n",
      "Training DAGMM... Epoch: 99, Loss: 437.168\n",
      "Training DAGMM... Epoch: 100, Loss: 388.182\n",
      "Training DAGMM... Epoch: 101, Loss: 344.595\n",
      "Training DAGMM... Epoch: 102, Loss: 313.428\n",
      "Training DAGMM... Epoch: 103, Loss: 296.320\n",
      "Training DAGMM... Epoch: 104, Loss: 287.256\n",
      "Training DAGMM... Epoch: 105, Loss: 281.661\n",
      "Training DAGMM... Epoch: 106, Loss: 277.145\n",
      "Training DAGMM... Epoch: 107, Loss: 272.549\n",
      "Training DAGMM... Epoch: 108, Loss: 267.332\n",
      "Training DAGMM... Epoch: 109, Loss: 261.284\n",
      "Training DAGMM... Epoch: 110, Loss: 254.373\n",
      "Training DAGMM... Epoch: 111, Loss: 246.659\n",
      "Training DAGMM... Epoch: 112, Loss: 238.259\n",
      "Training DAGMM... Epoch: 113, Loss: 229.314\n",
      "Training DAGMM... Epoch: 114, Loss: 219.976\n",
      "Training DAGMM... Epoch: 115, Loss: 210.392\n",
      "Training DAGMM... Epoch: 116, Loss: 200.718\n",
      "Training DAGMM... Epoch: 117, Loss: 191.101\n",
      "Training DAGMM... Epoch: 118, Loss: 181.677\n",
      "Training DAGMM... Epoch: 119, Loss: 172.594\n",
      "Training DAGMM... Epoch: 120, Loss: 163.998\n",
      "Training DAGMM... Epoch: 121, Loss: 156.038\n",
      "Training DAGMM... Epoch: 122, Loss: 148.896\n",
      "Training DAGMM... Epoch: 123, Loss: 142.764\n",
      "Training DAGMM... Epoch: 124, Loss: 137.840\n",
      "Training DAGMM... Epoch: 125, Loss: 134.143\n",
      "Training DAGMM... Epoch: 126, Loss: 131.162\n",
      "Training DAGMM... Epoch: 127, Loss: 128.049\n",
      "Training DAGMM... Epoch: 128, Loss: 124.236\n",
      "Training DAGMM... Epoch: 129, Loss: 119.752\n",
      "Training DAGMM... Epoch: 130, Loss: 115.068\n",
      "Training DAGMM... Epoch: 131, Loss: 110.736\n",
      "Training DAGMM... Epoch: 132, Loss: 107.056\n",
      "Training DAGMM... Epoch: 133, Loss: 103.981\n",
      "Training DAGMM... Epoch: 134, Loss: 101.253\n",
      "Training DAGMM... Epoch: 135, Loss: 98.646\n",
      "Training DAGMM... Epoch: 136, Loss: 96.039\n",
      "Training DAGMM... Epoch: 137, Loss: 93.392\n",
      "Training DAGMM... Epoch: 138, Loss: 90.719\n",
      "Training DAGMM... Epoch: 139, Loss: 88.079\n",
      "Training DAGMM... Epoch: 140, Loss: 85.549\n",
      "Training DAGMM... Epoch: 141, Loss: 83.218\n",
      "Training DAGMM... Epoch: 142, Loss: 81.131\n",
      "Training DAGMM... Epoch: 143, Loss: 79.196\n",
      "Training DAGMM... Epoch: 144, Loss: 77.248\n",
      "Training DAGMM... Epoch: 145, Loss: 75.213\n",
      "Training DAGMM... Epoch: 146, Loss: 73.154\n",
      "Training DAGMM... Epoch: 147, Loss: 71.196\n",
      "Training DAGMM... Epoch: 148, Loss: 69.399\n",
      "Training DAGMM... Epoch: 149, Loss: 67.719\n",
      "Training DAGMM... Epoch: 150, Loss: 66.094\n",
      "Training DAGMM... Epoch: 151, Loss: 64.492\n",
      "Training DAGMM... Epoch: 152, Loss: 62.928\n",
      "Training DAGMM... Epoch: 153, Loss: 61.432\n",
      "Training DAGMM... Epoch: 154, Loss: 60.026\n",
      "Training DAGMM... Epoch: 155, Loss: 58.678\n",
      "Training DAGMM... Epoch: 156, Loss: 57.336\n",
      "Training DAGMM... Epoch: 157, Loss: 55.990\n",
      "Training DAGMM... Epoch: 158, Loss: 54.678\n",
      "Training DAGMM... Epoch: 159, Loss: 53.437\n",
      "Training DAGMM... Epoch: 160, Loss: 52.254\n",
      "Training DAGMM... Epoch: 161, Loss: 51.110\n",
      "Training DAGMM... Epoch: 162, Loss: 50.001\n",
      "Training DAGMM... Epoch: 163, Loss: 48.938\n",
      "Training DAGMM... Epoch: 164, Loss: 47.923\n",
      "Training DAGMM... Epoch: 165, Loss: 46.931\n",
      "Training DAGMM... Epoch: 166, Loss: 45.950\n",
      "Training DAGMM... Epoch: 167, Loss: 44.992\n",
      "Training DAGMM... Epoch: 168, Loss: 44.072\n",
      "Training DAGMM... Epoch: 169, Loss: 43.194\n",
      "Training DAGMM... Epoch: 170, Loss: 42.343\n",
      "Training DAGMM... Epoch: 171, Loss: 41.524\n",
      "Training DAGMM... Epoch: 172, Loss: 40.740\n",
      "Training DAGMM... Epoch: 173, Loss: 39.972\n",
      "Training DAGMM... Epoch: 174, Loss: 39.220\n",
      "Training DAGMM... Epoch: 175, Loss: 38.485\n",
      "Training DAGMM... Epoch: 176, Loss: 37.774\n",
      "Training DAGMM... Epoch: 177, Loss: 37.091\n",
      "Training DAGMM... Epoch: 178, Loss: 36.429\n",
      "Training DAGMM... Epoch: 179, Loss: 35.790\n",
      "Training DAGMM... Epoch: 180, Loss: 35.168\n",
      "Training DAGMM... Epoch: 181, Loss: 34.558\n",
      "Training DAGMM... Epoch: 182, Loss: 33.961\n",
      "Training DAGMM... Epoch: 183, Loss: 33.383\n",
      "Training DAGMM... Epoch: 184, Loss: 32.822\n",
      "Training DAGMM... Epoch: 185, Loss: 32.280\n",
      "Training DAGMM... Epoch: 186, Loss: 31.754\n",
      "Training DAGMM... Epoch: 187, Loss: 31.238\n",
      "Training DAGMM... Epoch: 188, Loss: 30.730\n",
      "Training DAGMM... Epoch: 189, Loss: 30.236\n",
      "Training DAGMM... Epoch: 190, Loss: 29.758\n",
      "Training DAGMM... Epoch: 191, Loss: 29.294\n",
      "Training DAGMM... Epoch: 192, Loss: 28.839\n",
      "Training DAGMM... Epoch: 193, Loss: 28.394\n",
      "Training DAGMM... Epoch: 194, Loss: 27.958\n",
      "Training DAGMM... Epoch: 195, Loss: 27.534\n",
      "Training DAGMM... Epoch: 196, Loss: 27.122\n",
      "Training DAGMM... Epoch: 197, Loss: 26.716\n",
      "Training DAGMM... Epoch: 198, Loss: 26.323\n",
      "Training DAGMM... Epoch: 199, Loss: 25.936\n"
     ]
    }
   ],
   "source": [
    "dagmm = TrainerDAGMM(args, X_NN)\n",
    "dagmm.train()"
   ]
  },
  {
   "cell_type": "code",
   "execution_count": 10,
   "metadata": {},
   "outputs": [
    {
     "name": "stdout",
     "output_type": "stream",
     "text": [
      "torch.Size([90, 240, 2]) torch.Size([90, 240, 117]) torch.Size([90, 4]) torch.Size([90, 6])\n",
      "torch.Size([6]) torch.Size([6, 4]) torch.Size([6, 4, 4])\n",
      "torch.Size([90, 4]) torch.Size([90, 4])\n"
     ]
    }
   ],
   "source": [
    "with torch.no_grad():\n",
    "    z, x_hat, aug_z, gamma = dagmm.model(X_NN.to(args.device))\n",
    "    print(z.shape, x_hat.shape, aug_z.shape, gamma.shape)\n",
    "    \n",
    "    # compute phi, mu, and cov using the training dataset\n",
    "    hp_gmm = dagmm.compute.compute_params(aug_z, gamma)\n",
    "    print(hp_gmm[0].shape, hp_gmm[1].shape, hp_gmm[2].shape)\n",
    "    \n",
    "    zy, y_hat, aug_zy , _ = dagmm.model(Y_NN.to(args.device))\n",
    "    print(aug_z.shape, aug_zy.shape)\n",
    "    \n",
    "    # compute likelihood for correct and incorrect motions\n",
    "    lik = {\"corr\":[],\"incorr\":[]}\n",
    "    for r in range(R):\n",
    "        cl, _ = dagmm.compute.compute_energy(aug_z[r].unsqueeze(0), \n",
    "                                             gamma, *hp_gmm)\n",
    "        lik[\"corr\"].append(-cl.cpu())\n",
    "        il, _ = dagmm.compute.compute_energy(aug_zy[r].unsqueeze(0), \n",
    "                                             gamma, *hp_gmm)\n",
    "        lik[\"incorr\"].append(-il.cpu())"
   ]
  },
  {
   "cell_type": "code",
   "execution_count": 11,
   "metadata": {},
   "outputs": [
    {
     "data": {
      "image/png": "[encoded data removed]",
      "text/plain": [
       "<Figure size 640x480 with 1 Axes>"
      ]
     },
     "metadata": {},
     "output_type": "display_data"
    }
   ],
   "source": [
    "plt.scatter(np.arange(1,91),lik[\"corr\"], label = \"Correct Sequences\")\n",
    "plt.scatter(np.arange(1,91),lik[\"incorr\"], label = \"Incorrect Sequences\")\n",
    "plt.xlabel(\"Sequence Number\")\n",
    "plt.ylabel(\"Log-Likelihood\")\n",
    "plt.legend()\n",
    "plt.show()"
   ]
  }
 ],
 "metadata": {
  "kernelspec": {
   "display_name": "Python 3 (ipykernel)",
   "language": "python",
   "name": "python3"
  },
  "language_info": {
   "codemirror_mode": {
    "name": "ipython",
    "version": 3
   },
   "file_extension": ".py",
   "mimetype": "text/x-python",
   "name": "python",
   "nbconvert_exporter": "python",
   "pygments_lexer": "ipython3",
   "version": "3.11.9"
  }
 },
 "nbformat": 4,
 "nbformat_minor": 4
}
