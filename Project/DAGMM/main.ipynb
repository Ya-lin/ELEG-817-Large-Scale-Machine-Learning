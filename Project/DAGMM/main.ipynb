{
 "cells": [
  {
   "cell_type": "code",
   "execution_count": 1,
   "metadata": {},
   "outputs": [],
   "source": [
    "from pdb import set_trace\n",
    "from pathlib import Path\n",
    "from types import SimpleNamespace\n",
    "import numpy as np\n",
    "import matplotlib.pyplot as plt\n",
    "import pandas as pd \n",
    "\n",
    "import torch\n",
    "from train import TrainerDAGMM"
   ]
  },
  {
   "cell_type": "code",
   "execution_count": 2,
   "metadata": {},
   "outputs": [
    {
     "name": "stdout",
     "output_type": "stream",
     "text": [
      "namespace(num_epochs=200, lr=0.0001, latent_dim=2, n_gmm=6, lambda_energy=0.1, lambda_cov=0.005, device='cuda')\n"
     ]
    }
   ],
   "source": [
    "args = {}\n",
    "args[\"num_epochs\"] = 200\n",
    "args[\"lr\"] = 1e-4\n",
    "args[\"latent_dim\"] = 2\n",
    "args[\"n_gmm\"] = 6\n",
    "args[\"lambda_energy\"] = 0.1\n",
    "args[\"lambda_cov\"] = 0.005\n",
    "args[\"device\"] = 'cuda' if torch.cuda.is_available() else 'cpu'\n",
    "args = SimpleNamespace(**args)\n",
    "print(args)"
   ]
  },
  {
   "cell_type": "code",
   "execution_count": 3,
   "metadata": {},
   "outputs": [],
   "source": [
    "path = Path.home().joinpath(\"Documents\",\"Data\",\"Rehabilitation\")\n",
    "path.mkdir(exist_ok=True)\n",
    "def get_data():\n",
    "    X = pd.read_csv(path.joinpath(\"Data_Correct.csv\"),header=None)\n",
    "    Y = pd.read_csv(path.joinpath(\"Data_Incorrect.csv\"),header=None)\n",
    "    X = X.to_numpy()\n",
    "    Y = Y.to_numpy()\n",
    "    return X, Y"
   ]
  },
  {
   "cell_type": "code",
   "execution_count": 4,
   "metadata": {},
   "outputs": [
    {
     "name": "stdout",
     "output_type": "stream",
     "text": [
      "(10530, 240)\n",
      "(10530, 240)\n"
     ]
    }
   ],
   "source": [
    "X, Y = get_data()\n",
    "print(X.shape)\n",
    "print(Y.shape)"
   ]
  },
  {
   "cell_type": "code",
   "execution_count": 5,
   "metadata": {},
   "outputs": [],
   "source": [
    "n_dim = 117\n",
    "T = X.shape[1]\n",
    "R = int(X.shape[0]/n_dim)\n",
    "def two2three(X, R, T, n_dim):\n",
    "    X_NN = np.zeros((R,T,n_dim))\n",
    "    for r in range(R):\n",
    "        X_NN[r,:,:] = X[r*n_dim:(r+1)*n_dim,:].T\n",
    "    X_NN = torch.tensor(X_NN).float()\n",
    "    return X_NN"
   ]
  },
  {
   "cell_type": "code",
   "execution_count": 6,
   "metadata": {},
   "outputs": [
    {
     "name": "stdout",
     "output_type": "stream",
     "text": [
      "torch.Size([90, 240, 117])\n",
      "torch.Size([90, 240, 117])\n"
     ]
    }
   ],
   "source": [
    "X_NN = two2three(X, R, T, n_dim)\n",
    "Y_NN = two2three(Y, R, T, n_dim)\n",
    "print(X_NN.shape)\n",
    "print(Y_NN.shape)"
   ]
  },
  {
   "cell_type": "code",
   "execution_count": 7,
   "metadata": {},
   "outputs": [],
   "source": [
    "dagmm = TrainerDAGMM(args, X_NN)"
   ]
  },
  {
   "cell_type": "code",
   "execution_count": 8,
   "metadata": {},
   "outputs": [
    {
     "data": {
      "text/plain": [
       "(torch.Size([90, 240, 2]),\n",
       " torch.Size([90, 240, 117]),\n",
       " torch.Size([90, 4]),\n",
       " torch.Size([90, 6]))"
      ]
     },
     "execution_count": 8,
     "metadata": {},
     "output_type": "execute_result"
    }
   ],
   "source": [
    "z_c, x_hat, z, gamma = dagmm.model(X_NN.to(args.device))\n",
    "z_c.shape, x_hat.shape, z.shape, gamma.shape"
   ]
  },
  {
   "cell_type": "code",
   "execution_count": 9,
   "metadata": {},
   "outputs": [
    {
     "name": "stdout",
     "output_type": "stream",
     "text": [
      "Training DAGMM... Epoch: 0, Loss: 865675.188\n",
      "Training DAGMM... Epoch: 1, Loss: 692443.062\n",
      "Training DAGMM... Epoch: 2, Loss: 561372.312\n",
      "Training DAGMM... Epoch: 3, Loss: 461444.188\n",
      "Training DAGMM... Epoch: 4, Loss: 384349.906\n",
      "Training DAGMM... Epoch: 5, Loss: 324076.656\n",
      "Training DAGMM... Epoch: 6, Loss: 276312.531\n",
      "Training DAGMM... Epoch: 7, Loss: 237963.672\n",
      "Training DAGMM... Epoch: 8, Loss: 206790.938\n",
      "Training DAGMM... Epoch: 9, Loss: 181160.844\n",
      "Training DAGMM... Epoch: 10, Loss: 159861.281\n",
      "Training DAGMM... Epoch: 11, Loss: 141987.875\n",
      "Training DAGMM... Epoch: 12, Loss: 126854.242\n",
      "Training DAGMM... Epoch: 13, Loss: 113934.406\n",
      "Training DAGMM... Epoch: 14, Loss: 102820.305\n",
      "Training DAGMM... Epoch: 15, Loss: 93192.453\n",
      "Training DAGMM... Epoch: 16, Loss: 84798.094\n",
      "Training DAGMM... Epoch: 17, Loss: 77434.758\n",
      "Training DAGMM... Epoch: 18, Loss: 70940.289\n",
      "Training DAGMM... Epoch: 19, Loss: 65182.125\n",
      "Training DAGMM... Epoch: 20, Loss: 60052.562\n",
      "Training DAGMM... Epoch: 21, Loss: 55462.102\n",
      "Training DAGMM... Epoch: 22, Loss: 51337.551\n",
      "Training DAGMM... Epoch: 23, Loss: 47617.301\n",
      "Training DAGMM... Epoch: 24, Loss: 44249.418\n",
      "Training DAGMM... Epoch: 25, Loss: 41190.750\n",
      "Training DAGMM... Epoch: 26, Loss: 38404.188\n",
      "Training DAGMM... Epoch: 27, Loss: 35858.098\n",
      "Training DAGMM... Epoch: 28, Loss: 33525.809\n",
      "Training DAGMM... Epoch: 29, Loss: 31383.871\n",
      "Training DAGMM... Epoch: 30, Loss: 29412.457\n",
      "Training DAGMM... Epoch: 31, Loss: 27593.920\n",
      "Training DAGMM... Epoch: 32, Loss: 25913.221\n",
      "Training DAGMM... Epoch: 33, Loss: 24357.008\n",
      "Training DAGMM... Epoch: 34, Loss: 22913.594\n",
      "Training DAGMM... Epoch: 35, Loss: 21572.656\n",
      "Training DAGMM... Epoch: 36, Loss: 20325.117\n",
      "Training DAGMM... Epoch: 37, Loss: 19162.793\n",
      "Training DAGMM... Epoch: 38, Loss: 18078.559\n",
      "Training DAGMM... Epoch: 39, Loss: 17065.811\n",
      "Training DAGMM... Epoch: 40, Loss: 16118.809\n",
      "Training DAGMM... Epoch: 41, Loss: 15232.356\n",
      "Training DAGMM... Epoch: 42, Loss: 14401.807\n",
      "Training DAGMM... Epoch: 43, Loss: 13622.784\n",
      "Training DAGMM... Epoch: 44, Loss: 12891.483\n",
      "Training DAGMM... Epoch: 45, Loss: 12204.440\n",
      "Training DAGMM... Epoch: 46, Loss: 11558.407\n",
      "Training DAGMM... Epoch: 47, Loss: 10950.536\n",
      "Training DAGMM... Epoch: 48, Loss: 10378.150\n",
      "Training DAGMM... Epoch: 49, Loss: 9838.774\n",
      "Training DAGMM... Epoch: 50, Loss: 9330.241\n",
      "Training DAGMM... Epoch: 51, Loss: 8850.499\n",
      "Training DAGMM... Epoch: 52, Loss: 8397.602\n",
      "Training DAGMM... Epoch: 53, Loss: 7969.830\n",
      "Training DAGMM... Epoch: 54, Loss: 7565.604\n",
      "Training DAGMM... Epoch: 55, Loss: 7183.419\n",
      "Training DAGMM... Epoch: 56, Loss: 6821.901\n",
      "Training DAGMM... Epoch: 57, Loss: 6479.746\n",
      "Training DAGMM... Epoch: 58, Loss: 6155.820\n",
      "Training DAGMM... Epoch: 59, Loss: 5849.009\n",
      "Training DAGMM... Epoch: 60, Loss: 5558.260\n",
      "Training DAGMM... Epoch: 61, Loss: 5282.657\n",
      "Training DAGMM... Epoch: 62, Loss: 5021.285\n",
      "Training DAGMM... Epoch: 63, Loss: 4773.296\n",
      "Training DAGMM... Epoch: 64, Loss: 4537.979\n",
      "Training DAGMM... Epoch: 65, Loss: 4314.515\n",
      "Training DAGMM... Epoch: 66, Loss: 4102.288\n",
      "Training DAGMM... Epoch: 67, Loss: 3900.645\n",
      "Training DAGMM... Epoch: 68, Loss: 3708.966\n",
      "Training DAGMM... Epoch: 69, Loss: 3526.730\n",
      "Training DAGMM... Epoch: 70, Loss: 3353.383\n",
      "Training DAGMM... Epoch: 71, Loss: 3188.420\n",
      "Training DAGMM... Epoch: 72, Loss: 3031.398\n",
      "Training DAGMM... Epoch: 73, Loss: 2881.871\n",
      "Training DAGMM... Epoch: 74, Loss: 2739.419\n",
      "Training DAGMM... Epoch: 75, Loss: 2603.657\n",
      "Training DAGMM... Epoch: 76, Loss: 2474.229\n",
      "Training DAGMM... Epoch: 77, Loss: 2350.777\n",
      "Training DAGMM... Epoch: 78, Loss: 2232.992\n",
      "Training DAGMM... Epoch: 79, Loss: 2120.552\n",
      "Training DAGMM... Epoch: 80, Loss: 2013.166\n",
      "Training DAGMM... Epoch: 81, Loss: 1910.575\n",
      "Training DAGMM... Epoch: 82, Loss: 1812.510\n",
      "Training DAGMM... Epoch: 83, Loss: 1718.717\n",
      "Training DAGMM... Epoch: 84, Loss: 1628.974\n",
      "Training DAGMM... Epoch: 85, Loss: 1543.060\n",
      "Training DAGMM... Epoch: 86, Loss: 1460.762\n",
      "Training DAGMM... Epoch: 87, Loss: 1381.879\n",
      "Training DAGMM... Epoch: 88, Loss: 1306.219\n",
      "Training DAGMM... Epoch: 89, Loss: 1233.600\n",
      "Training DAGMM... Epoch: 90, Loss: 1163.844\n",
      "Training DAGMM... Epoch: 91, Loss: 1096.784\n",
      "Training DAGMM... Epoch: 92, Loss: 1032.249\n",
      "Training DAGMM... Epoch: 93, Loss: 970.087\n",
      "Training DAGMM... Epoch: 94, Loss: 910.130\n",
      "Training DAGMM... Epoch: 95, Loss: 852.229\n",
      "Training DAGMM... Epoch: 96, Loss: 796.227\n",
      "Training DAGMM... Epoch: 97, Loss: 741.978\n",
      "Training DAGMM... Epoch: 98, Loss: 689.323\n",
      "Training DAGMM... Epoch: 99, Loss: 638.120\n",
      "Training DAGMM... Epoch: 100, Loss: 588.235\n",
      "Training DAGMM... Epoch: 101, Loss: 539.555\n",
      "Training DAGMM... Epoch: 102, Loss: 492.043\n",
      "Training DAGMM... Epoch: 103, Loss: 445.823\n",
      "Training DAGMM... Epoch: 104, Loss: 401.500\n",
      "Training DAGMM... Epoch: 105, Loss: 361.166\n",
      "Training DAGMM... Epoch: 106, Loss: 332.229\n",
      "Training DAGMM... Epoch: 107, Loss: 329.801\n",
      "Training DAGMM... Epoch: 108, Loss: 317.722\n",
      "Training DAGMM... Epoch: 109, Loss: 287.139\n",
      "Training DAGMM... Epoch: 110, Loss: 262.392\n",
      "Training DAGMM... Epoch: 111, Loss: 247.570\n",
      "Training DAGMM... Epoch: 112, Loss: 239.155\n",
      "Training DAGMM... Epoch: 113, Loss: 233.867\n",
      "Training DAGMM... Epoch: 114, Loss: 229.719\n",
      "Training DAGMM... Epoch: 115, Loss: 225.677\n",
      "Training DAGMM... Epoch: 116, Loss: 221.237\n",
      "Training DAGMM... Epoch: 117, Loss: 216.185\n",
      "Training DAGMM... Epoch: 118, Loss: 210.476\n",
      "Training DAGMM... Epoch: 119, Loss: 204.164\n",
      "Training DAGMM... Epoch: 120, Loss: 197.343\n",
      "Training DAGMM... Epoch: 121, Loss: 190.152\n",
      "Training DAGMM... Epoch: 122, Loss: 182.734\n",
      "Training DAGMM... Epoch: 123, Loss: 175.246\n",
      "Training DAGMM... Epoch: 124, Loss: 167.844\n",
      "Training DAGMM... Epoch: 125, Loss: 160.699\n",
      "Training DAGMM... Epoch: 126, Loss: 153.977\n",
      "Training DAGMM... Epoch: 127, Loss: 147.857\n",
      "Training DAGMM... Epoch: 128, Loss: 142.498\n",
      "Training DAGMM... Epoch: 129, Loss: 138.000\n",
      "Training DAGMM... Epoch: 130, Loss: 134.260\n",
      "Training DAGMM... Epoch: 131, Loss: 130.831\n",
      "Training DAGMM... Epoch: 132, Loss: 127.149\n",
      "Training DAGMM... Epoch: 133, Loss: 122.971\n",
      "Training DAGMM... Epoch: 134, Loss: 118.504\n",
      "Training DAGMM... Epoch: 135, Loss: 114.167\n",
      "Training DAGMM... Epoch: 136, Loss: 110.285\n",
      "Training DAGMM... Epoch: 137, Loss: 106.911\n",
      "Training DAGMM... Epoch: 138, Loss: 103.902\n",
      "Training DAGMM... Epoch: 139, Loss: 101.081\n",
      "Training DAGMM... Epoch: 140, Loss: 98.330\n",
      "Training DAGMM... Epoch: 141, Loss: 95.598\n",
      "Training DAGMM... Epoch: 142, Loss: 92.887\n",
      "Training DAGMM... Epoch: 143, Loss: 90.238\n",
      "Training DAGMM... Epoch: 144, Loss: 87.715\n",
      "Training DAGMM... Epoch: 145, Loss: 85.375\n",
      "Training DAGMM... Epoch: 146, Loss: 83.238\n",
      "Training DAGMM... Epoch: 147, Loss: 81.234\n",
      "Training DAGMM... Epoch: 148, Loss: 79.242\n",
      "Training DAGMM... Epoch: 149, Loss: 77.205\n",
      "Training DAGMM... Epoch: 150, Loss: 75.174\n",
      "Training DAGMM... Epoch: 151, Loss: 73.235\n",
      "Training DAGMM... Epoch: 152, Loss: 71.433\n",
      "Training DAGMM... Epoch: 153, Loss: 69.738\n",
      "Training DAGMM... Epoch: 154, Loss: 68.106\n",
      "Training DAGMM... Epoch: 155, Loss: 66.514\n",
      "Training DAGMM... Epoch: 156, Loss: 64.963\n",
      "Training DAGMM... Epoch: 157, Loss: 63.472\n",
      "Training DAGMM... Epoch: 158, Loss: 62.054\n",
      "Training DAGMM... Epoch: 159, Loss: 60.689\n",
      "Training DAGMM... Epoch: 160, Loss: 59.343\n",
      "Training DAGMM... Epoch: 161, Loss: 57.998\n",
      "Training DAGMM... Epoch: 162, Loss: 56.674\n",
      "Training DAGMM... Epoch: 163, Loss: 55.394\n",
      "Training DAGMM... Epoch: 164, Loss: 54.161\n",
      "Training DAGMM... Epoch: 165, Loss: 52.965\n",
      "Training DAGMM... Epoch: 166, Loss: 51.794\n",
      "Training DAGMM... Epoch: 167, Loss: 50.652\n",
      "Training DAGMM... Epoch: 168, Loss: 49.542\n",
      "Training DAGMM... Epoch: 169, Loss: 48.460\n",
      "Training DAGMM... Epoch: 170, Loss: 47.391\n",
      "Training DAGMM... Epoch: 171, Loss: 46.329\n",
      "Training DAGMM... Epoch: 172, Loss: 45.281\n",
      "Training DAGMM... Epoch: 173, Loss: 44.260\n",
      "Training DAGMM... Epoch: 174, Loss: 43.263\n",
      "Training DAGMM... Epoch: 175, Loss: 42.286\n",
      "Training DAGMM... Epoch: 176, Loss: 41.328\n",
      "Training DAGMM... Epoch: 177, Loss: 40.390\n",
      "Training DAGMM... Epoch: 178, Loss: 39.464\n",
      "Training DAGMM... Epoch: 179, Loss: 38.543\n",
      "Training DAGMM... Epoch: 180, Loss: 37.624\n",
      "Training DAGMM... Epoch: 181, Loss: 36.712\n",
      "Training DAGMM... Epoch: 182, Loss: 35.810\n",
      "Training DAGMM... Epoch: 183, Loss: 34.914\n",
      "Training DAGMM... Epoch: 184, Loss: 34.020\n",
      "Training DAGMM... Epoch: 185, Loss: 33.129\n",
      "Training DAGMM... Epoch: 186, Loss: 32.230\n",
      "Training DAGMM... Epoch: 187, Loss: 31.318\n",
      "Training DAGMM... Epoch: 188, Loss: 30.394\n",
      "Training DAGMM... Epoch: 189, Loss: 29.462\n",
      "Training DAGMM... Epoch: 190, Loss: 28.523\n",
      "Training DAGMM... Epoch: 191, Loss: 27.577\n",
      "Training DAGMM... Epoch: 192, Loss: 26.622\n",
      "Training DAGMM... Epoch: 193, Loss: 25.654\n",
      "Training DAGMM... Epoch: 194, Loss: 24.675\n",
      "Training DAGMM... Epoch: 195, Loss: 23.694\n",
      "Training DAGMM... Epoch: 196, Loss: 22.715\n",
      "Training DAGMM... Epoch: 197, Loss: 21.740\n",
      "Training DAGMM... Epoch: 198, Loss: 20.771\n",
      "Training DAGMM... Epoch: 199, Loss: 19.806\n"
     ]
    }
   ],
   "source": [
    "dagmm = TrainerDAGMM(args, X_NN)\n",
    "dagmm.train()"
   ]
  },
  {
   "cell_type": "code",
   "execution_count": 10,
   "metadata": {},
   "outputs": [
    {
     "name": "stdout",
     "output_type": "stream",
     "text": [
      "torch.Size([90, 240, 2]) torch.Size([90, 240, 117]) torch.Size([90, 4]) torch.Size([90, 6])\n",
      "torch.Size([6]) torch.Size([6, 4]) torch.Size([6, 4, 4])\n",
      "torch.Size([90, 4]) torch.Size([90, 4])\n"
     ]
    }
   ],
   "source": [
    "with torch.no_grad():\n",
    "    z, x_hat, aug_z, gamma = dagmm.model(X_NN.to(args.device))\n",
    "    print(z.shape, x_hat.shape, aug_z.shape, gamma.shape)\n",
    "    \n",
    "    # compute phi, mu, and cov using the training dataset\n",
    "    hp_gmm = dagmm.compute.compute_params(aug_z, gamma)\n",
    "    print(hp_gmm[0].shape, hp_gmm[1].shape, hp_gmm[2].shape)\n",
    "    \n",
    "    zy, y_hat, aug_zy , _ = dagmm.model(Y_NN.to(args.device))\n",
    "    print(aug_z.shape, aug_zy.shape)\n",
    "    \n",
    "    # compute likelihood for correct and incorrect motions\n",
    "    lik = {\"corr\":[],\"incorr\":[]}\n",
    "    for r in range(R):\n",
    "        cl, _ = dagmm.compute.compute_energy(aug_z[r].unsqueeze(0), \n",
    "                                             gamma, *hp_gmm)\n",
    "        lik[\"corr\"].append(-cl.cpu())\n",
    "        il, _ = dagmm.compute.compute_energy(aug_zy[r].unsqueeze(0), \n",
    "                                             gamma, *hp_gmm)\n",
    "        lik[\"incorr\"].append(-il.cpu())"
   ]
  },
  {
   "cell_type": "code",
   "execution_count": 11,
   "metadata": {},
   "outputs": [
    {
     "data": {
      "image/png": "[encoded data removed]",
      "text/plain": [
       "<Figure size 640x480 with 1 Axes>"
      ]
     },
     "metadata": {},
     "output_type": "display_data"
    }
   ],
   "source": [
    "plt.scatter(np.arange(1,91),lik[\"corr\"], label = \"Correct Sequences\")\n",
    "plt.scatter(np.arange(1,91),lik[\"incorr\"], label = \"Incorrect Sequences\")\n",
    "plt.xlabel(\"Sequence Number\")\n",
    "plt.ylabel(\"Log-Likelihood\")\n",
    "plt.legend()\n",
    "plt.show()"
   ]
  }
 ],
 "metadata": {
  "kernelspec": {
   "display_name": "Python 3 (ipykernel)",
   "language": "python",
   "name": "python3"
  },
  "language_info": {
   "codemirror_mode": {
    "name": "ipython",
    "version": 3
   },
   "file_extension": ".py",
   "mimetype": "text/x-python",
   "name": "python",
   "nbconvert_exporter": "python",
   "pygments_lexer": "ipython3",
   "version": "3.11.9"
  }
 },
 "nbformat": 4,
 "nbformat_minor": 4
}
