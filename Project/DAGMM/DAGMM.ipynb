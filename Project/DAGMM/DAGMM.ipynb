{
 "cells": [
  {
   "cell_type": "code",
   "execution_count": 1,
   "metadata": {},
   "outputs": [],
   "source": [
    "import numpy as np\n",
    "import torch\n",
    "\n",
    "import matplotlib.pyplot as plt\n",
    "import pandas as pd \n",
    "\n",
    "from forward_step import ComputeLoss\n",
    "from train import TrainerDAGMM\n",
    "from model import DAGMM\n",
    "from data_loader import correct,incorrect"
   ]
  },
  {
   "cell_type": "code",
   "execution_count": 2,
   "metadata": {
    "scrolled": true
   },
   "outputs": [],
   "source": [
    "class Args:\n",
    "    num_epochs = 200\n",
    "    patience = 50\n",
    "    lr = 1e-4\n",
    "    lr_milestones = [50]\n",
    "    latent_dim = 2\n",
    "    n_gmm = 6\n",
    "    lambda_energy = 0.1\n",
    "    lambda_cov = 0.005"
   ]
  },
  {
   "cell_type": "code",
   "execution_count": 3,
   "metadata": {},
   "outputs": [
    {
     "name": "stdout",
     "output_type": "stream",
     "text": [
      "torch.Size([90, 240, 117])\n",
      "torch.Size([90, 240, 117])\n"
     ]
    }
   ],
   "source": [
    "args = Args()\n",
    "device = torch.device('cuda' if torch.cuda.is_available() else 'cpu')\n",
    "X = torch.tensor(correct()).float()\n",
    "Y = torch.tensor(incorrect()).float()\n",
    "print(X.shape)\n",
    "print(Y.shape)"
   ]
  },
  {
   "cell_type": "code",
   "execution_count": 4,
   "metadata": {},
   "outputs": [
    {
     "name": "stdout",
     "output_type": "stream",
     "text": [
      "torch.Size([21600, 117])\n",
      "torch.Size([21600, 117])\n"
     ]
    }
   ],
   "source": [
    "# convert data to two dimensions\n",
    "X_NN = X.reshape((-1,117))\n",
    "Y_NN = Y.reshape((-1,117))\n",
    "print(X_NN.shape)\n",
    "print(Y_NN.shape)"
   ]
  },
  {
   "cell_type": "code",
   "execution_count": 5,
   "metadata": {},
   "outputs": [
    {
     "name": "stdout",
     "output_type": "stream",
     "text": [
      "Training DAGMM... Epoch: 0, Loss: 3234.458\n",
      "Training DAGMM... Epoch: 1, Loss: 3234.458\n",
      "Training DAGMM... Epoch: 2, Loss: 3234.457\n",
      "Training DAGMM... Epoch: 3, Loss: 3234.458\n",
      "Training DAGMM... Epoch: 4, Loss: 3234.457\n",
      "Training DAGMM... Epoch: 5, Loss: 3234.457\n",
      "Training DAGMM... Epoch: 6, Loss: 3234.459\n",
      "Training DAGMM... Epoch: 7, Loss: 3234.455\n",
      "Training DAGMM... Epoch: 8, Loss: 3234.458\n",
      "Training DAGMM... Epoch: 9, Loss: 3234.457\n",
      "Training DAGMM... Epoch: 10, Loss: 3234.459\n",
      "Training DAGMM... Epoch: 11, Loss: 3234.455\n",
      "Training DAGMM... Epoch: 12, Loss: 3234.457\n",
      "Training DAGMM... Epoch: 13, Loss: 3234.454\n",
      "Training DAGMM... Epoch: 14, Loss: 3234.457\n",
      "Training DAGMM... Epoch: 15, Loss: 3234.459\n",
      "Training DAGMM... Epoch: 16, Loss: 3234.456\n",
      "Training DAGMM... Epoch: 17, Loss: 3234.457\n",
      "Training DAGMM... Epoch: 18, Loss: 3234.457\n",
      "Training DAGMM... Epoch: 19, Loss: 3234.458\n",
      "Training DAGMM... Epoch: 20, Loss: 3234.458\n",
      "Training DAGMM... Epoch: 21, Loss: 3234.459\n",
      "Training DAGMM... Epoch: 22, Loss: 3234.454\n",
      "Training DAGMM... Epoch: 23, Loss: 3234.458\n",
      "Training DAGMM... Epoch: 24, Loss: 3234.458\n",
      "Training DAGMM... Epoch: 25, Loss: 3234.458\n",
      "Training DAGMM... Epoch: 26, Loss: 3234.460\n",
      "Training DAGMM... Epoch: 27, Loss: 3234.458\n",
      "Training DAGMM... Epoch: 28, Loss: 3234.457\n",
      "Training DAGMM... Epoch: 29, Loss: 3234.455\n",
      "Training DAGMM... Epoch: 30, Loss: 3234.457\n",
      "Training DAGMM... Epoch: 31, Loss: 3234.458\n",
      "Training DAGMM... Epoch: 32, Loss: 3234.458\n",
      "Training DAGMM... Epoch: 33, Loss: 3234.458\n",
      "Training DAGMM... Epoch: 34, Loss: 3234.458\n",
      "Training DAGMM... Epoch: 35, Loss: 3234.458\n",
      "Training DAGMM... Epoch: 36, Loss: 3234.458\n",
      "Training DAGMM... Epoch: 37, Loss: 3234.458\n",
      "Training DAGMM... Epoch: 38, Loss: 3234.459\n",
      "Training DAGMM... Epoch: 39, Loss: 3234.458\n",
      "Training DAGMM... Epoch: 40, Loss: 3234.455\n",
      "Training DAGMM... Epoch: 41, Loss: 3234.456\n",
      "Training DAGMM... Epoch: 42, Loss: 3234.457\n",
      "Training DAGMM... Epoch: 43, Loss: 3234.455\n",
      "Training DAGMM... Epoch: 44, Loss: 3234.457\n",
      "Training DAGMM... Epoch: 45, Loss: 3234.456\n",
      "Training DAGMM... Epoch: 46, Loss: 3234.456\n",
      "Training DAGMM... Epoch: 47, Loss: 3234.458\n",
      "Training DAGMM... Epoch: 48, Loss: 3234.456\n",
      "Training DAGMM... Epoch: 49, Loss: 3234.455\n",
      "Training DAGMM... Epoch: 50, Loss: 3234.457\n",
      "Training DAGMM... Epoch: 51, Loss: 3234.456\n",
      "Training DAGMM... Epoch: 52, Loss: 3234.458\n",
      "Training DAGMM... Epoch: 53, Loss: 3234.458\n",
      "Training DAGMM... Epoch: 54, Loss: 3234.458\n",
      "Training DAGMM... Epoch: 55, Loss: 3234.458\n",
      "Training DAGMM... Epoch: 56, Loss: 3234.457\n",
      "Training DAGMM... Epoch: 57, Loss: 3234.457\n",
      "Training DAGMM... Epoch: 58, Loss: 3234.458\n",
      "Training DAGMM... Epoch: 59, Loss: 3234.457\n",
      "Training DAGMM... Epoch: 60, Loss: 3234.455\n",
      "Training DAGMM... Epoch: 61, Loss: 3234.456\n",
      "Training DAGMM... Epoch: 62, Loss: 3234.458\n",
      "Training DAGMM... Epoch: 63, Loss: 3234.456\n",
      "Training DAGMM... Epoch: 64, Loss: 3234.457\n",
      "Training DAGMM... Epoch: 65, Loss: 3234.456\n",
      "Training DAGMM... Epoch: 66, Loss: 3234.456\n",
      "Training DAGMM... Epoch: 67, Loss: 3234.459\n",
      "Training DAGMM... Epoch: 68, Loss: 3234.459\n",
      "Training DAGMM... Epoch: 69, Loss: 3234.455\n",
      "Training DAGMM... Epoch: 70, Loss: 3234.456\n",
      "Training DAGMM... Epoch: 71, Loss: 3234.454\n",
      "Training DAGMM... Epoch: 72, Loss: 3234.456\n",
      "Training DAGMM... Epoch: 73, Loss: 3234.456\n",
      "Training DAGMM... Epoch: 74, Loss: 3234.455\n",
      "Training DAGMM... Epoch: 75, Loss: 3234.457\n",
      "Training DAGMM... Epoch: 76, Loss: 3234.458\n",
      "Training DAGMM... Epoch: 77, Loss: 3234.457\n",
      "Training DAGMM... Epoch: 78, Loss: 3234.457\n",
      "Training DAGMM... Epoch: 79, Loss: 3234.455\n",
      "Training DAGMM... Epoch: 80, Loss: 3234.456\n",
      "Training DAGMM... Epoch: 81, Loss: 3234.456\n",
      "Training DAGMM... Epoch: 82, Loss: 3234.456\n",
      "Training DAGMM... Epoch: 83, Loss: 3234.456\n",
      "Training DAGMM... Epoch: 84, Loss: 3234.459\n",
      "Training DAGMM... Epoch: 85, Loss: 3234.456\n",
      "Training DAGMM... Epoch: 86, Loss: 3234.458\n",
      "Training DAGMM... Epoch: 87, Loss: 3234.455\n",
      "Training DAGMM... Epoch: 88, Loss: 3234.455\n",
      "Training DAGMM... Epoch: 89, Loss: 3234.455\n",
      "Training DAGMM... Epoch: 90, Loss: 3234.457\n",
      "Training DAGMM... Epoch: 91, Loss: 3234.457\n",
      "Training DAGMM... Epoch: 92, Loss: 3234.457\n",
      "Training DAGMM... Epoch: 93, Loss: 3234.455\n",
      "Training DAGMM... Epoch: 94, Loss: 3234.455\n",
      "Training DAGMM... Epoch: 95, Loss: 3234.455\n",
      "Training DAGMM... Epoch: 96, Loss: 3234.458\n",
      "Training DAGMM... Epoch: 97, Loss: 3234.459\n",
      "Training DAGMM... Epoch: 98, Loss: 3234.457\n",
      "Training DAGMM... Epoch: 99, Loss: 3234.458\n",
      "Training DAGMM... Epoch: 100, Loss: 3234.457\n",
      "Training DAGMM... Epoch: 101, Loss: 3234.455\n",
      "Training DAGMM... Epoch: 102, Loss: 3234.457\n",
      "Training DAGMM... Epoch: 103, Loss: 3234.458\n",
      "Training DAGMM... Epoch: 104, Loss: 3234.456\n",
      "Training DAGMM... Epoch: 105, Loss: 3234.457\n",
      "Training DAGMM... Epoch: 106, Loss: 3234.456\n",
      "Training DAGMM... Epoch: 107, Loss: 3234.457\n",
      "Training DAGMM... Epoch: 108, Loss: 3234.456\n",
      "Training DAGMM... Epoch: 109, Loss: 3234.458\n",
      "Training DAGMM... Epoch: 110, Loss: 3234.458\n",
      "Training DAGMM... Epoch: 111, Loss: 3234.457\n",
      "Training DAGMM... Epoch: 112, Loss: 3234.455\n",
      "Training DAGMM... Epoch: 113, Loss: 3234.457\n",
      "Training DAGMM... Epoch: 114, Loss: 3234.455\n",
      "Training DAGMM... Epoch: 115, Loss: 3234.458\n",
      "Training DAGMM... Epoch: 116, Loss: 3234.458\n",
      "Training DAGMM... Epoch: 117, Loss: 3234.458\n",
      "Training DAGMM... Epoch: 118, Loss: 3234.456\n",
      "Training DAGMM... Epoch: 119, Loss: 3234.457\n",
      "Training DAGMM... Epoch: 120, Loss: 3234.457\n",
      "Training DAGMM... Epoch: 121, Loss: 3234.457\n",
      "Training DAGMM... Epoch: 122, Loss: 3234.456\n",
      "Training DAGMM... Epoch: 123, Loss: 3234.457\n",
      "Training DAGMM... Epoch: 124, Loss: 3234.458\n",
      "Training DAGMM... Epoch: 125, Loss: 3234.458\n",
      "Training DAGMM... Epoch: 126, Loss: 3234.456\n",
      "Training DAGMM... Epoch: 127, Loss: 3234.459\n",
      "Training DAGMM... Epoch: 128, Loss: 3234.458\n",
      "Training DAGMM... Epoch: 129, Loss: 3234.456\n",
      "Training DAGMM... Epoch: 130, Loss: 3234.459\n",
      "Training DAGMM... Epoch: 131, Loss: 3234.460\n",
      "Training DAGMM... Epoch: 132, Loss: 3234.458\n",
      "Training DAGMM... Epoch: 133, Loss: 3234.456\n",
      "Training DAGMM... Epoch: 134, Loss: 3234.458\n",
      "Training DAGMM... Epoch: 135, Loss: 3234.457\n",
      "Training DAGMM... Epoch: 136, Loss: 3234.457\n",
      "Training DAGMM... Epoch: 137, Loss: 3234.456\n",
      "Training DAGMM... Epoch: 138, Loss: 3234.455\n",
      "Training DAGMM... Epoch: 139, Loss: 3234.457\n",
      "Training DAGMM... Epoch: 140, Loss: 3234.458\n",
      "Training DAGMM... Epoch: 141, Loss: 3234.458\n",
      "Training DAGMM... Epoch: 142, Loss: 3234.457\n",
      "Training DAGMM... Epoch: 143, Loss: 3234.456\n",
      "Training DAGMM... Epoch: 144, Loss: 3234.458\n",
      "Training DAGMM... Epoch: 145, Loss: 3234.455\n",
      "Training DAGMM... Epoch: 146, Loss: 3234.458\n",
      "Training DAGMM... Epoch: 147, Loss: 3234.457\n",
      "Training DAGMM... Epoch: 148, Loss: 3234.456\n",
      "Training DAGMM... Epoch: 149, Loss: 3234.456\n",
      "Training DAGMM... Epoch: 150, Loss: 3234.458\n",
      "Training DAGMM... Epoch: 151, Loss: 3234.455\n",
      "Training DAGMM... Epoch: 152, Loss: 3234.455\n",
      "Training DAGMM... Epoch: 153, Loss: 3234.456\n",
      "Training DAGMM... Epoch: 154, Loss: 3234.457\n",
      "Training DAGMM... Epoch: 155, Loss: 3234.457\n",
      "Training DAGMM... Epoch: 156, Loss: 3234.457\n",
      "Training DAGMM... Epoch: 157, Loss: 3234.456\n",
      "Training DAGMM... Epoch: 158, Loss: 3234.455\n",
      "Training DAGMM... Epoch: 159, Loss: 3234.456\n",
      "Training DAGMM... Epoch: 160, Loss: 3234.455\n",
      "Training DAGMM... Epoch: 161, Loss: 3234.458\n",
      "Training DAGMM... Epoch: 162, Loss: 3234.455\n",
      "Training DAGMM... Epoch: 163, Loss: 3234.456\n",
      "Training DAGMM... Epoch: 164, Loss: 3234.456\n",
      "Training DAGMM... Epoch: 165, Loss: 3234.458\n",
      "Training DAGMM... Epoch: 166, Loss: 3234.460\n",
      "Training DAGMM... Epoch: 167, Loss: 3234.455\n",
      "Training DAGMM... Epoch: 168, Loss: 3234.457\n",
      "Training DAGMM... Epoch: 169, Loss: 3234.457\n",
      "Training DAGMM... Epoch: 170, Loss: 3234.458\n",
      "Training DAGMM... Epoch: 171, Loss: 3234.458\n",
      "Training DAGMM... Epoch: 172, Loss: 3234.456\n",
      "Training DAGMM... Epoch: 173, Loss: 3234.457\n",
      "Training DAGMM... Epoch: 174, Loss: 3234.457\n",
      "Training DAGMM... Epoch: 175, Loss: 3234.456\n",
      "Training DAGMM... Epoch: 176, Loss: 3234.457\n",
      "Training DAGMM... Epoch: 177, Loss: 3234.459\n",
      "Training DAGMM... Epoch: 178, Loss: 3234.456\n",
      "Training DAGMM... Epoch: 179, Loss: 3234.455\n",
      "Training DAGMM... Epoch: 180, Loss: 3234.458\n",
      "Training DAGMM... Epoch: 181, Loss: 3234.457\n",
      "Training DAGMM... Epoch: 182, Loss: 3234.456\n",
      "Training DAGMM... Epoch: 183, Loss: 3234.455\n",
      "Training DAGMM... Epoch: 184, Loss: 3234.455\n",
      "Training DAGMM... Epoch: 185, Loss: 3234.456\n",
      "Training DAGMM... Epoch: 186, Loss: 3234.456\n",
      "Training DAGMM... Epoch: 187, Loss: 3234.455\n",
      "Training DAGMM... Epoch: 188, Loss: 3234.455\n",
      "Training DAGMM... Epoch: 189, Loss: 3234.455\n",
      "Training DAGMM... Epoch: 190, Loss: 3234.456\n",
      "Training DAGMM... Epoch: 191, Loss: 3234.458\n",
      "Training DAGMM... Epoch: 192, Loss: 3234.457\n",
      "Training DAGMM... Epoch: 193, Loss: 3234.458\n",
      "Training DAGMM... Epoch: 194, Loss: 3234.455\n",
      "Training DAGMM... Epoch: 195, Loss: 3234.456\n",
      "Training DAGMM... Epoch: 196, Loss: 3234.456\n",
      "Training DAGMM... Epoch: 197, Loss: 3234.457\n",
      "Training DAGMM... Epoch: 198, Loss: 3234.458\n",
      "Training DAGMM... Epoch: 199, Loss: 3234.458\n"
     ]
    }
   ],
   "source": [
    "dagmm = TrainerDAGMM(args, X_NN, device)\n",
    "dagmm.train()"
   ]
  },
  {
   "cell_type": "code",
   "execution_count": 6,
   "metadata": {},
   "outputs": [
    {
     "name": "stdout",
     "output_type": "stream",
     "text": [
      "torch.Size([21600, 2])\n",
      "torch.Size([21600, 117])\n",
      "torch.Size([21600, 4])\n",
      "torch.Size([21600, 6])\n"
     ]
    }
   ],
   "source": [
    "z_xc,x_hat,z_x,gamma = dagmm.model(X_NN)\n",
    "print(z_xc.shape)\n",
    "print(x_hat.shape)\n",
    "print(z_x.shape)\n",
    "print(gamma.shape)"
   ]
  },
  {
   "cell_type": "code",
   "execution_count": 7,
   "metadata": {},
   "outputs": [],
   "source": [
    "compute = ComputeLoss(dagmm.model, None, None, device, Args.n_gmm)\n",
    "phi, mu, cov = compute.compute_params(z_x, gamma)"
   ]
  },
  {
   "cell_type": "code",
   "execution_count": 8,
   "metadata": {},
   "outputs": [
    {
     "data": {
      "text/plain": [
       "tensor(-4.5094, grad_fn=<MeanBackward0>)"
      ]
     },
     "execution_count": 8,
     "metadata": {},
     "output_type": "execute_result"
    }
   ],
   "source": [
    "# energy is the average of negative likelihood over samples\n",
    "E_z, cov_diag= compute.compute_energy(z_x, gamma,phi,mu,cov)\n",
    "E_z"
   ]
  },
  {
   "cell_type": "code",
   "execution_count": 9,
   "metadata": {},
   "outputs": [],
   "source": [
    "# prepare reduced data\n",
    "R = 90\n",
    "Z_X = z_x.reshape((R,240,4))\n",
    "z_yc,y_hat,z_y,_ = dagmm.model(Y_NN)\n",
    "Z_Y = z_y.reshape((R,240,4))"
   ]
  },
  {
   "cell_type": "code",
   "execution_count": 10,
   "metadata": {},
   "outputs": [],
   "source": [
    "# compute likelihood for correct and incorrect motions\n",
    "lik = {\"corr\":[],\"incorr\":[]}\n",
    "for r in range(R):\n",
    "    cl,_ = compute.compute_energy(Z_X[r], gamma,phi,mu,cov)\n",
    "    lik[\"corr\"].append(-cl.detach())\n",
    "    il,_ = compute.compute_energy(Z_Y[r], gamma,phi,mu,cov)\n",
    "    lik[\"incorr\"].append(-il.detach())"
   ]
  },
  {
   "cell_type": "code",
   "execution_count": 11,
   "metadata": {},
   "outputs": [
    {
     "data": {
      "image/png": "[encoded data removed]",
      "text/plain": [
       "<Figure size 640x480 with 1 Axes>"
      ]
     },
     "metadata": {},
     "output_type": "display_data"
    }
   ],
   "source": [
    "plt.scatter(np.arange(1,91),lik[\"corr\"], label = \"Correct Sequences\")\n",
    "plt.scatter(np.arange(1,91),lik[\"incorr\"], label = \"Incorrect Sequences\")\n",
    "plt.xlabel(\"Sequence Number\")\n",
    "plt.ylabel(\"Log-Likelihood\")\n",
    "plt.legend()\n",
    "plt.show()"
   ]
  },
  {
   "cell_type": "code",
   "execution_count": null,
   "metadata": {},
   "outputs": [],
   "source": []
  }
 ],
 "metadata": {
  "kernelspec": {
   "display_name": "Python 3 (ipykernel)",
   "language": "python",
   "name": "python3"
  },
  "language_info": {
   "codemirror_mode": {
    "name": "ipython",
    "version": 3
   },
   "file_extension": ".py",
   "mimetype": "text/x-python",
   "name": "python",
   "nbconvert_exporter": "python",
   "pygments_lexer": "ipython3",
   "version": "3.10.6"
  }
 },
 "nbformat": 4,
 "nbformat_minor": 4
}
