{
 "cells": [
  {
   "cell_type": "code",
   "execution_count": 1,
   "metadata": {},
   "outputs": [],
   "source": [
    "from pathlib import Path\n",
    "import numpy as np\n",
    "import torch\n",
    "\n",
    "import matplotlib.pyplot as plt\n",
    "import pandas as pd \n",
    "\n",
    "from train import TrainerDAGMM"
   ]
  },
  {
   "cell_type": "code",
   "execution_count": 2,
   "metadata": {},
   "outputs": [
    {
     "data": {
      "text/plain": [
       "{'num_epochs': 200,\n",
       " 'patience': 50,\n",
       " 'lr': 0.0001,\n",
       " 'lr_milestones': [50],\n",
       " 'latent_dim': 2,\n",
       " 'n_gmm': 6,\n",
       " 'lambda_energy': 0.1,\n",
       " 'lambda_cov': 0.005,\n",
       " 'device': 'cuda'}"
      ]
     },
     "execution_count": 2,
     "metadata": {},
     "output_type": "execute_result"
    }
   ],
   "source": [
    "class Args:\n",
    "    def __init__(self):\n",
    "        self.num_epochs = 200\n",
    "        self.patience = 50\n",
    "        self.lr = 1e-4\n",
    "        self.lr_milestones = [50]\n",
    "        self.latent_dim = 2\n",
    "        self.n_gmm = 6\n",
    "        self.lambda_energy = 0.1\n",
    "        self.lambda_cov = 0.005\n",
    "        self.device = 'cuda' if torch.cuda.is_available() else 'cpu'\n",
    "\n",
    "args = Args()\n",
    "vars(args)"
   ]
  },
  {
   "cell_type": "code",
   "execution_count": 3,
   "metadata": {},
   "outputs": [],
   "source": [
    "path = Path.home().joinpath(\"Documents\",\"Data\",\"Rehabilitation\")\n",
    "path.mkdir(exist_ok=True)\n",
    "def get_data():\n",
    "    X = pd.read_csv(path.joinpath(\"Data_Correct.csv\"),header=None)\n",
    "    Y = pd.read_csv(path.joinpath(\"Data_Incorrect.csv\"),header=None)\n",
    "    X = X.to_numpy()\n",
    "    Y = Y.to_numpy()\n",
    "    return X, Y"
   ]
  },
  {
   "cell_type": "code",
   "execution_count": 4,
   "metadata": {},
   "outputs": [
    {
     "name": "stdout",
     "output_type": "stream",
     "text": [
      "(10530, 240)\n",
      "(10530, 240)\n"
     ]
    }
   ],
   "source": [
    "X, Y = get_data()\n",
    "print(X.shape)\n",
    "print(Y.shape)"
   ]
  },
  {
   "cell_type": "code",
   "execution_count": 5,
   "metadata": {},
   "outputs": [],
   "source": [
    "n_dim = 117\n",
    "T = X.shape[1]\n",
    "R = int(X.shape[0]/n_dim)\n",
    "def two2three(X, R, T, n_dim):\n",
    "    X_NN = np.zeros((R,T,n_dim))\n",
    "    for r in range(R):\n",
    "        X_NN[r,:,:] = X[r*n_dim:(r+1)*n_dim,:].T\n",
    "    X_NN = torch.tensor(X_NN).float()\n",
    "    return X_NN.reshape((-1,n_dim))"
   ]
  },
  {
   "cell_type": "code",
   "execution_count": 6,
   "metadata": {},
   "outputs": [
    {
     "name": "stdout",
     "output_type": "stream",
     "text": [
      "torch.Size([21600, 117])\n",
      "torch.Size([21600, 117])\n"
     ]
    }
   ],
   "source": [
    "X_NN = two2three(X, R, T, n_dim)\n",
    "Y_NN = two2three(Y, R, T, n_dim)\n",
    "print(X_NN.shape)\n",
    "print(Y_NN.shape)"
   ]
  },
  {
   "cell_type": "code",
   "execution_count": 7,
   "metadata": {},
   "outputs": [],
   "source": [
    "dagmm = TrainerDAGMM(args, X_NN)"
   ]
  },
  {
   "cell_type": "code",
   "execution_count": 8,
   "metadata": {},
   "outputs": [
    {
     "data": {
      "text/plain": [
       "(torch.Size([21600, 2]),\n",
       " torch.Size([21600, 117]),\n",
       " torch.Size([21600, 4]),\n",
       " torch.Size([21600, 6]))"
      ]
     },
     "execution_count": 8,
     "metadata": {},
     "output_type": "execute_result"
    }
   ],
   "source": [
    "z_c, x_hat, z, gamma = dagmm.model(X_NN.to(args.device))\n",
    "z_c.shape, x_hat.shape, z.shape, gamma.shape"
   ]
  },
  {
   "cell_type": "code",
   "execution_count": 9,
   "metadata": {},
   "outputs": [
    {
     "name": "stdout",
     "output_type": "stream",
     "text": [
      "Training DAGMM... Epoch: 0, Loss: 4098.112\n",
      "Training DAGMM... Epoch: 1, Loss: 3937.692\n",
      "Training DAGMM... Epoch: 2, Loss: 3783.968\n",
      "Training DAGMM... Epoch: 3, Loss: 3636.015\n",
      "Training DAGMM... Epoch: 4, Loss: 3492.817\n",
      "Training DAGMM... Epoch: 5, Loss: 3353.265\n",
      "Training DAGMM... Epoch: 6, Loss: 3216.291\n",
      "Training DAGMM... Epoch: 7, Loss: 3080.906\n",
      "Training DAGMM... Epoch: 8, Loss: 2946.219\n",
      "Training DAGMM... Epoch: 9, Loss: 2811.520\n",
      "Training DAGMM... Epoch: 10, Loss: 2676.404\n",
      "Training DAGMM... Epoch: 11, Loss: 2540.834\n",
      "Training DAGMM... Epoch: 12, Loss: 2405.170\n",
      "Training DAGMM... Epoch: 13, Loss: 2270.098\n",
      "Training DAGMM... Epoch: 14, Loss: 2136.536\n",
      "Training DAGMM... Epoch: 15, Loss: 2005.511\n",
      "Training DAGMM... Epoch: 16, Loss: 1878.052\n",
      "Training DAGMM... Epoch: 17, Loss: 1755.096\n",
      "Training DAGMM... Epoch: 18, Loss: 1637.427\n",
      "Training DAGMM... Epoch: 19, Loss: 1525.636\n",
      "Training DAGMM... Epoch: 20, Loss: 1420.122\n",
      "Training DAGMM... Epoch: 21, Loss: 1321.092\n",
      "Training DAGMM... Epoch: 22, Loss: 1228.589\n",
      "Training DAGMM... Epoch: 23, Loss: 1142.520\n",
      "Training DAGMM... Epoch: 24, Loss: 1062.691\n",
      "Training DAGMM... Epoch: 25, Loss: 988.827\n",
      "Training DAGMM... Epoch: 26, Loss: 920.606\n",
      "Training DAGMM... Epoch: 27, Loss: 857.676\n",
      "Training DAGMM... Epoch: 28, Loss: 799.672\n",
      "Training DAGMM... Epoch: 29, Loss: 746.231\n",
      "Training DAGMM... Epoch: 30, Loss: 696.997\n",
      "Training DAGMM... Epoch: 31, Loss: 651.631\n",
      "Training DAGMM... Epoch: 32, Loss: 609.812\n",
      "Training DAGMM... Epoch: 33, Loss: 571.243\n",
      "Training DAGMM... Epoch: 34, Loss: 535.646\n",
      "Training DAGMM... Epoch: 35, Loss: 502.767\n",
      "Training DAGMM... Epoch: 36, Loss: 472.373\n",
      "Training DAGMM... Epoch: 37, Loss: 444.250\n",
      "Training DAGMM... Epoch: 38, Loss: 418.203\n",
      "Training DAGMM... Epoch: 39, Loss: 394.057\n",
      "Training DAGMM... Epoch: 40, Loss: 371.650\n",
      "Training DAGMM... Epoch: 41, Loss: 350.835\n",
      "Training DAGMM... Epoch: 42, Loss: 331.479\n",
      "Training DAGMM... Epoch: 43, Loss: 313.462\n",
      "Training DAGMM... Epoch: 44, Loss: 296.673\n",
      "Training DAGMM... Epoch: 45, Loss: 281.012\n",
      "Training DAGMM... Epoch: 46, Loss: 266.389\n",
      "Training DAGMM... Epoch: 47, Loss: 252.721\n",
      "Training DAGMM... Epoch: 48, Loss: 239.932\n",
      "Training DAGMM... Epoch: 49, Loss: 227.954\n",
      "Training DAGMM... Epoch: 50, Loss: 216.725\n",
      "Training DAGMM... Epoch: 51, Loss: 206.188\n",
      "Training DAGMM... Epoch: 52, Loss: 196.290\n",
      "Training DAGMM... Epoch: 53, Loss: 186.985\n",
      "Training DAGMM... Epoch: 54, Loss: 178.229\n",
      "Training DAGMM... Epoch: 55, Loss: 169.982\n",
      "Training DAGMM... Epoch: 56, Loss: 162.209\n",
      "Training DAGMM... Epoch: 57, Loss: 154.875\n",
      "Training DAGMM... Epoch: 58, Loss: 147.950\n",
      "Training DAGMM... Epoch: 59, Loss: 141.408\n",
      "Training DAGMM... Epoch: 60, Loss: 135.220\n",
      "Training DAGMM... Epoch: 61, Loss: 129.365\n",
      "Training DAGMM... Epoch: 62, Loss: 123.821\n",
      "Training DAGMM... Epoch: 63, Loss: 118.566\n",
      "Training DAGMM... Epoch: 64, Loss: 113.583\n",
      "Training DAGMM... Epoch: 65, Loss: 108.855\n",
      "Training DAGMM... Epoch: 66, Loss: 104.366\n",
      "Training DAGMM... Epoch: 67, Loss: 100.100\n",
      "Training DAGMM... Epoch: 68, Loss: 96.046\n",
      "Training DAGMM... Epoch: 69, Loss: 92.189\n",
      "Training DAGMM... Epoch: 70, Loss: 88.519\n",
      "Training DAGMM... Epoch: 71, Loss: 85.024\n",
      "Training DAGMM... Epoch: 72, Loss: 81.694\n",
      "Training DAGMM... Epoch: 73, Loss: 78.520\n",
      "Training DAGMM... Epoch: 74, Loss: 75.493\n",
      "Training DAGMM... Epoch: 75, Loss: 72.606\n",
      "Training DAGMM... Epoch: 76, Loss: 69.849\n",
      "Training DAGMM... Epoch: 77, Loss: 67.217\n",
      "Training DAGMM... Epoch: 78, Loss: 64.703\n",
      "Training DAGMM... Epoch: 79, Loss: 62.299\n",
      "Training DAGMM... Epoch: 80, Loss: 60.001\n",
      "Training DAGMM... Epoch: 81, Loss: 57.804\n",
      "Training DAGMM... Epoch: 82, Loss: 55.700\n",
      "Training DAGMM... Epoch: 83, Loss: 53.687\n",
      "Training DAGMM... Epoch: 84, Loss: 51.759\n",
      "Training DAGMM... Epoch: 85, Loss: 49.913\n",
      "Training DAGMM... Epoch: 86, Loss: 48.143\n",
      "Training DAGMM... Epoch: 87, Loss: 46.447\n",
      "Training DAGMM... Epoch: 88, Loss: 44.821\n",
      "Training DAGMM... Epoch: 89, Loss: 43.261\n",
      "Training DAGMM... Epoch: 90, Loss: 41.764\n",
      "Training DAGMM... Epoch: 91, Loss: 40.327\n",
      "Training DAGMM... Epoch: 92, Loss: 38.948\n",
      "Training DAGMM... Epoch: 93, Loss: 37.624\n",
      "Training DAGMM... Epoch: 94, Loss: 36.352\n",
      "Training DAGMM... Epoch: 95, Loss: 35.129\n",
      "Training DAGMM... Epoch: 96, Loss: 33.954\n",
      "Training DAGMM... Epoch: 97, Loss: 32.824\n",
      "Training DAGMM... Epoch: 98, Loss: 31.737\n",
      "Training DAGMM... Epoch: 99, Loss: 30.692\n",
      "Training DAGMM... Epoch: 100, Loss: 29.686\n",
      "Training DAGMM... Epoch: 101, Loss: 28.718\n",
      "Training DAGMM... Epoch: 102, Loss: 27.786\n",
      "Training DAGMM... Epoch: 103, Loss: 26.888\n",
      "Training DAGMM... Epoch: 104, Loss: 26.023\n",
      "Training DAGMM... Epoch: 105, Loss: 25.191\n",
      "Training DAGMM... Epoch: 106, Loss: 24.388\n",
      "Training DAGMM... Epoch: 107, Loss: 23.615\n",
      "Training DAGMM... Epoch: 108, Loss: 22.869\n",
      "Training DAGMM... Epoch: 109, Loss: 22.151\n",
      "Training DAGMM... Epoch: 110, Loss: 21.458\n",
      "Training DAGMM... Epoch: 111, Loss: 20.790\n",
      "Training DAGMM... Epoch: 112, Loss: 20.145\n",
      "Training DAGMM... Epoch: 113, Loss: 19.523\n",
      "Training DAGMM... Epoch: 114, Loss: 18.923\n",
      "Training DAGMM... Epoch: 115, Loss: 18.344\n",
      "Training DAGMM... Epoch: 116, Loss: 17.785\n",
      "Training DAGMM... Epoch: 117, Loss: 17.245\n",
      "Training DAGMM... Epoch: 118, Loss: 16.724\n",
      "Training DAGMM... Epoch: 119, Loss: 16.221\n",
      "Training DAGMM... Epoch: 120, Loss: 15.735\n",
      "Training DAGMM... Epoch: 121, Loss: 15.265\n",
      "Training DAGMM... Epoch: 122, Loss: 14.812\n",
      "Training DAGMM... Epoch: 123, Loss: 14.373\n",
      "Training DAGMM... Epoch: 124, Loss: 13.950\n",
      "Training DAGMM... Epoch: 125, Loss: 13.540\n",
      "Training DAGMM... Epoch: 126, Loss: 13.145\n",
      "Training DAGMM... Epoch: 127, Loss: 12.762\n",
      "Training DAGMM... Epoch: 128, Loss: 12.392\n",
      "Training DAGMM... Epoch: 129, Loss: 12.034\n",
      "Training DAGMM... Epoch: 130, Loss: 11.689\n",
      "Training DAGMM... Epoch: 131, Loss: 11.354\n",
      "Training DAGMM... Epoch: 132, Loss: 11.030\n",
      "Training DAGMM... Epoch: 133, Loss: 10.717\n",
      "Training DAGMM... Epoch: 134, Loss: 10.415\n",
      "Training DAGMM... Epoch: 135, Loss: 10.122\n",
      "Training DAGMM... Epoch: 136, Loss: 9.838\n",
      "Training DAGMM... Epoch: 137, Loss: 9.564\n",
      "Training DAGMM... Epoch: 138, Loss: 9.298\n",
      "Training DAGMM... Epoch: 139, Loss: 9.041\n",
      "Training DAGMM... Epoch: 140, Loss: 8.792\n",
      "Training DAGMM... Epoch: 141, Loss: 8.552\n",
      "Training DAGMM... Epoch: 142, Loss: 8.318\n",
      "Training DAGMM... Epoch: 143, Loss: 8.093\n",
      "Training DAGMM... Epoch: 144, Loss: 7.874\n",
      "Training DAGMM... Epoch: 145, Loss: 7.663\n",
      "Training DAGMM... Epoch: 146, Loss: 7.458\n",
      "Training DAGMM... Epoch: 147, Loss: 7.259\n",
      "Training DAGMM... Epoch: 148, Loss: 7.067\n",
      "Training DAGMM... Epoch: 149, Loss: 6.881\n",
      "Training DAGMM... Epoch: 150, Loss: 6.700\n",
      "Training DAGMM... Epoch: 151, Loss: 6.526\n",
      "Training DAGMM... Epoch: 152, Loss: 6.356\n",
      "Training DAGMM... Epoch: 153, Loss: 6.193\n",
      "Training DAGMM... Epoch: 154, Loss: 6.034\n",
      "Training DAGMM... Epoch: 155, Loss: 5.880\n",
      "Training DAGMM... Epoch: 156, Loss: 5.731\n",
      "Training DAGMM... Epoch: 157, Loss: 5.586\n",
      "Training DAGMM... Epoch: 158, Loss: 5.446\n",
      "Training DAGMM... Epoch: 159, Loss: 5.310\n",
      "Training DAGMM... Epoch: 160, Loss: 5.179\n",
      "Training DAGMM... Epoch: 161, Loss: 5.051\n",
      "Training DAGMM... Epoch: 162, Loss: 4.928\n",
      "Training DAGMM... Epoch: 163, Loss: 4.808\n",
      "Training DAGMM... Epoch: 164, Loss: 4.692\n",
      "Training DAGMM... Epoch: 165, Loss: 4.579\n",
      "Training DAGMM... Epoch: 166, Loss: 4.470\n",
      "Training DAGMM... Epoch: 167, Loss: 4.364\n",
      "Training DAGMM... Epoch: 168, Loss: 4.261\n",
      "Training DAGMM... Epoch: 169, Loss: 4.162\n",
      "Training DAGMM... Epoch: 170, Loss: 4.065\n",
      "Training DAGMM... Epoch: 171, Loss: 3.971\n",
      "Training DAGMM... Epoch: 172, Loss: 3.880\n",
      "Training DAGMM... Epoch: 173, Loss: 3.792\n",
      "Training DAGMM... Epoch: 174, Loss: 3.707\n",
      "Training DAGMM... Epoch: 175, Loss: 3.624\n",
      "Training DAGMM... Epoch: 176, Loss: 3.543\n",
      "Training DAGMM... Epoch: 177, Loss: 3.465\n",
      "Training DAGMM... Epoch: 178, Loss: 3.389\n",
      "Training DAGMM... Epoch: 179, Loss: 3.316\n",
      "Training DAGMM... Epoch: 180, Loss: 3.244\n",
      "Training DAGMM... Epoch: 181, Loss: 3.175\n",
      "Training DAGMM... Epoch: 182, Loss: 3.108\n",
      "Training DAGMM... Epoch: 183, Loss: 3.042\n",
      "Training DAGMM... Epoch: 184, Loss: 2.979\n",
      "Training DAGMM... Epoch: 185, Loss: 2.917\n",
      "Training DAGMM... Epoch: 186, Loss: 2.858\n",
      "Training DAGMM... Epoch: 187, Loss: 2.800\n",
      "Training DAGMM... Epoch: 188, Loss: 2.743\n",
      "Training DAGMM... Epoch: 189, Loss: 2.688\n",
      "Training DAGMM... Epoch: 190, Loss: 2.635\n",
      "Training DAGMM... Epoch: 191, Loss: 2.583\n",
      "Training DAGMM... Epoch: 192, Loss: 2.533\n",
      "Training DAGMM... Epoch: 193, Loss: 2.484\n",
      "Training DAGMM... Epoch: 194, Loss: 2.437\n",
      "Training DAGMM... Epoch: 195, Loss: 2.391\n",
      "Training DAGMM... Epoch: 196, Loss: 2.346\n",
      "Training DAGMM... Epoch: 197, Loss: 2.303\n",
      "Training DAGMM... Epoch: 198, Loss: 2.260\n",
      "Training DAGMM... Epoch: 199, Loss: 2.219\n"
     ]
    }
   ],
   "source": [
    "dagmm = TrainerDAGMM(args, X_NN)\n",
    "dagmm.train()"
   ]
  },
  {
   "cell_type": "code",
   "execution_count": 10,
   "metadata": {},
   "outputs": [
    {
     "name": "stdout",
     "output_type": "stream",
     "text": [
      "torch.Size([21600, 2]) torch.Size([21600, 117]) torch.Size([21600, 4]) torch.Size([21600, 6])\n",
      "torch.Size([6]) torch.Size([6, 4]) torch.Size([6, 4, 4])\n",
      "torch.Size([90, 240, 4]) torch.Size([90, 240, 4])\n"
     ]
    }
   ],
   "source": [
    "with torch.no_grad():\n",
    "    z, x_hat, aug_z, gamma = dagmm.model(X_NN.to(args.device))\n",
    "    print(z.shape, x_hat.shape, aug_z.shape, gamma.shape)\n",
    "    \n",
    "    # compute phi, mu, and cov using the training dataset\n",
    "    hp_gmm = dagmm.compute.compute_params(aug_z, gamma)\n",
    "    print(hp_gmm[0].shape, hp_gmm[1].shape, hp_gmm[2].shape)\n",
    "    \n",
    "    # reshape data to compute negative log likelihood\n",
    "    aug_z = aug_z.reshape((R,T,args.latent_dim+2))\n",
    "    zy, y_hat, aug_zy , _ = dagmm.model(Y_NN.to(args.device))\n",
    "    aug_zy = aug_zy.reshape((R,T,args.latent_dim+2))\n",
    "    print(aug_z.shape, aug_zy.shape)\n",
    "    \n",
    "    # compute likelihood for correct and incorrect motions\n",
    "    lik = {\"corr\":[],\"incorr\":[]}\n",
    "    for r in range(R):\n",
    "        cl,_ = dagmm.compute.compute_energy(aug_z[r], gamma, *hp_gmm)\n",
    "        lik[\"corr\"].append(-cl.cpu())\n",
    "        il,_ = dagmm.compute.compute_energy(aug_zy[r], gamma, *hp_gmm)\n",
    "        lik[\"incorr\"].append(-il.cpu())"
   ]
  },
  {
   "cell_type": "code",
   "execution_count": 11,
   "metadata": {},
   "outputs": [
    {
     "data": {
      "image/png": "[encoded data removed]",
      "text/plain": [
       "<Figure size 640x480 with 1 Axes>"
      ]
     },
     "metadata": {},
     "output_type": "display_data"
    }
   ],
   "source": [
    "plt.scatter(np.arange(1,91),lik[\"corr\"], label = \"Correct Sequences\")\n",
    "plt.scatter(np.arange(1,91),lik[\"incorr\"], label = \"Incorrect Sequences\")\n",
    "plt.xlabel(\"Sequence Number\")\n",
    "plt.ylabel(\"Log-Likelihood\")\n",
    "plt.legend()\n",
    "plt.show()"
   ]
  }
 ],
 "metadata": {
  "kernelspec": {
   "display_name": "Python 3 (ipykernel)",
   "language": "python",
   "name": "python3"
  },
  "language_info": {
   "codemirror_mode": {
    "name": "ipython",
    "version": 3
   },
   "file_extension": ".py",
   "mimetype": "text/x-python",
   "name": "python",
   "nbconvert_exporter": "python",
   "pygments_lexer": "ipython3",
   "version": "3.11.9"
  }
 },
 "nbformat": 4,
 "nbformat_minor": 4
}
