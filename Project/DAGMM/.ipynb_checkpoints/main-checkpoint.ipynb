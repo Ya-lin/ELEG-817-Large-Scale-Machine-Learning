{
 "cells": [
  {
   "cell_type": "code",
   "execution_count": 1,
   "metadata": {},
   "outputs": [],
   "source": [
    "from pdb import set_trace\n",
    "from pathlib import Path\n",
    "from types import SimpleNamespace\n",
    "import numpy as np\n",
    "import matplotlib.pyplot as plt\n",
    "import pandas as pd \n",
    "\n",
    "import torch\n",
    "from training import TrainerDAGMM"
   ]
  },
  {
   "cell_type": "code",
   "execution_count": 2,
   "metadata": {},
   "outputs": [
    {
     "name": "stdout",
     "output_type": "stream",
     "text": [
      "namespace(num_epochs=200, lr=0.0001, latent_dim=2, n_gmm=6, lambda_energy=0.1, lambda_cov=0.005, device='cuda')\n"
     ]
    }
   ],
   "source": [
    "args = SimpleNamespace(num_epochs=200)\n",
    "args.lr = 1e-4\n",
    "args.latent_dim = 2\n",
    "args.n_gmm = 6\n",
    "args.lambda_energy = 0.1\n",
    "args.lambda_cov = 0.005\n",
    "args.device = 'cuda' if torch.cuda.is_available() else 'cpu'\n",
    "print(args)"
   ]
  },
  {
   "cell_type": "code",
   "execution_count": 3,
   "metadata": {},
   "outputs": [],
   "source": [
    "path = Path.home().joinpath(\"Documents\",\"Data\",\"Rehabilitation\")\n",
    "path.mkdir(exist_ok=True)\n",
    "def get_data():\n",
    "    X = pd.read_csv(path.joinpath(\"Data_Correct.csv\"),header=None)\n",
    "    Y = pd.read_csv(path.joinpath(\"Data_Incorrect.csv\"),header=None)\n",
    "    X = X.to_numpy()\n",
    "    Y = Y.to_numpy()\n",
    "    return X, Y"
   ]
  },
  {
   "cell_type": "code",
   "execution_count": 4,
   "metadata": {},
   "outputs": [
    {
     "name": "stdout",
     "output_type": "stream",
     "text": [
      "(10530, 240)\n",
      "(10530, 240)\n"
     ]
    }
   ],
   "source": [
    "X, Y = get_data()\n",
    "print(X.shape)\n",
    "print(Y.shape)"
   ]
  },
  {
   "cell_type": "code",
   "execution_count": 5,
   "metadata": {},
   "outputs": [],
   "source": [
    "n_dim = 117\n",
    "T = X.shape[1]\n",
    "R = int(X.shape[0]/n_dim)\n",
    "def two2three(X, R, T, n_dim):\n",
    "    X_NN = np.zeros((R,T,n_dim))\n",
    "    for r in range(R):\n",
    "        X_NN[r,:,:] = X[r*n_dim:(r+1)*n_dim,:].T\n",
    "    X_NN = torch.tensor(X_NN).float()\n",
    "    return X_NN"
   ]
  },
  {
   "cell_type": "code",
   "execution_count": 6,
   "metadata": {},
   "outputs": [
    {
     "name": "stdout",
     "output_type": "stream",
     "text": [
      "torch.Size([90, 240, 117])\n",
      "torch.Size([90, 240, 117])\n"
     ]
    }
   ],
   "source": [
    "X_NN = two2three(X, R, T, n_dim)\n",
    "Y_NN = two2three(Y, R, T, n_dim)\n",
    "print(X_NN.shape)\n",
    "print(Y_NN.shape)"
   ]
  },
  {
   "cell_type": "code",
   "execution_count": 7,
   "metadata": {},
   "outputs": [],
   "source": [
    "dagmm = TrainerDAGMM(args, X_NN)"
   ]
  },
  {
   "cell_type": "code",
   "execution_count": 8,
   "metadata": {},
   "outputs": [
    {
     "data": {
      "text/plain": [
       "(torch.Size([90, 240, 2]),\n",
       " torch.Size([90, 240, 117]),\n",
       " torch.Size([90, 4]),\n",
       " torch.Size([90, 6]))"
      ]
     },
     "execution_count": 8,
     "metadata": {},
     "output_type": "execute_result"
    }
   ],
   "source": [
    "z_c, x_hat, z, gamma = dagmm.model(X_NN.to(args.device))\n",
    "z_c.shape, x_hat.shape, z.shape, gamma.shape"
   ]
  },
  {
   "cell_type": "code",
   "execution_count": 9,
   "metadata": {},
   "outputs": [
    {
     "name": "stdout",
     "output_type": "stream",
     "text": [
      "Training DAGMM... Epoch: 0, Loss: 335603.406\n",
      "Training DAGMM... Epoch: 1, Loss: 293140.812\n",
      "Training DAGMM... Epoch: 2, Loss: 258019.141\n",
      "Training DAGMM... Epoch: 3, Loss: 228704.266\n",
      "Training DAGMM... Epoch: 4, Loss: 204024.844\n",
      "Training DAGMM... Epoch: 5, Loss: 183078.594\n",
      "Training DAGMM... Epoch: 6, Loss: 165167.562\n",
      "Training DAGMM... Epoch: 7, Loss: 149742.422\n",
      "Training DAGMM... Epoch: 8, Loss: 136368.812\n",
      "Training DAGMM... Epoch: 9, Loss: 124700.078\n",
      "Training DAGMM... Epoch: 10, Loss: 114458.203\n",
      "Training DAGMM... Epoch: 11, Loss: 105417.062\n",
      "Training DAGMM... Epoch: 12, Loss: 97392.906\n",
      "Training DAGMM... Epoch: 13, Loss: 90235.484\n",
      "Training DAGMM... Epoch: 14, Loss: 83820.742\n",
      "Training DAGMM... Epoch: 15, Loss: 78045.406\n",
      "Training DAGMM... Epoch: 16, Loss: 72824.031\n",
      "Training DAGMM... Epoch: 17, Loss: 68084.617\n",
      "Training DAGMM... Epoch: 18, Loss: 63766.285\n",
      "Training DAGMM... Epoch: 19, Loss: 59818.379\n",
      "Training DAGMM... Epoch: 20, Loss: 56197.344\n",
      "Training DAGMM... Epoch: 21, Loss: 52865.926\n",
      "Training DAGMM... Epoch: 22, Loss: 49792.504\n",
      "Training DAGMM... Epoch: 23, Loss: 46949.594\n",
      "Training DAGMM... Epoch: 24, Loss: 44313.562\n",
      "Training DAGMM... Epoch: 25, Loss: 41863.984\n",
      "Training DAGMM... Epoch: 26, Loss: 39582.945\n",
      "Training DAGMM... Epoch: 27, Loss: 37454.754\n",
      "Training DAGMM... Epoch: 28, Loss: 35465.504\n",
      "Training DAGMM... Epoch: 29, Loss: 33603.039\n",
      "Training DAGMM... Epoch: 30, Loss: 31856.672\n",
      "Training DAGMM... Epoch: 31, Loss: 30216.762\n",
      "Training DAGMM... Epoch: 32, Loss: 28674.803\n",
      "Training DAGMM... Epoch: 33, Loss: 27223.014\n",
      "Training DAGMM... Epoch: 34, Loss: 25854.785\n",
      "Training DAGMM... Epoch: 35, Loss: 24563.555\n",
      "Training DAGMM... Epoch: 36, Loss: 23344.121\n",
      "Training DAGMM... Epoch: 37, Loss: 22191.123\n",
      "Training DAGMM... Epoch: 38, Loss: 21100.098\n",
      "Training DAGMM... Epoch: 39, Loss: 20066.811\n",
      "Training DAGMM... Epoch: 40, Loss: 19087.418\n",
      "Training DAGMM... Epoch: 41, Loss: 18158.387\n",
      "Training DAGMM... Epoch: 42, Loss: 17276.541\n",
      "Training DAGMM... Epoch: 43, Loss: 16438.834\n",
      "Training DAGMM... Epoch: 44, Loss: 15642.491\n",
      "Training DAGMM... Epoch: 45, Loss: 14885.063\n",
      "Training DAGMM... Epoch: 46, Loss: 14164.209\n",
      "Training DAGMM... Epoch: 47, Loss: 13477.655\n",
      "Training DAGMM... Epoch: 48, Loss: 12823.465\n",
      "Training DAGMM... Epoch: 49, Loss: 12199.716\n",
      "Training DAGMM... Epoch: 50, Loss: 11604.715\n",
      "Training DAGMM... Epoch: 51, Loss: 11036.815\n",
      "Training DAGMM... Epoch: 52, Loss: 10494.550\n",
      "Training DAGMM... Epoch: 53, Loss: 9976.448\n",
      "Training DAGMM... Epoch: 54, Loss: 9481.277\n",
      "Training DAGMM... Epoch: 55, Loss: 9007.794\n",
      "Training DAGMM... Epoch: 56, Loss: 8554.860\n",
      "Training DAGMM... Epoch: 57, Loss: 8121.392\n",
      "Training DAGMM... Epoch: 58, Loss: 7706.418\n",
      "Training DAGMM... Epoch: 59, Loss: 7309.005\n",
      "Training DAGMM... Epoch: 60, Loss: 6928.283\n",
      "Training DAGMM... Epoch: 61, Loss: 6563.390\n",
      "Training DAGMM... Epoch: 62, Loss: 6213.564\n",
      "Training DAGMM... Epoch: 63, Loss: 5878.089\n",
      "Training DAGMM... Epoch: 64, Loss: 5556.264\n",
      "Training DAGMM... Epoch: 65, Loss: 5247.406\n",
      "Training DAGMM... Epoch: 66, Loss: 4950.926\n",
      "Training DAGMM... Epoch: 67, Loss: 4666.211\n",
      "Training DAGMM... Epoch: 68, Loss: 4392.701\n",
      "Training DAGMM... Epoch: 69, Loss: 4129.845\n",
      "Training DAGMM... Epoch: 70, Loss: 3877.146\n",
      "Training DAGMM... Epoch: 71, Loss: 3634.075\n",
      "Training DAGMM... Epoch: 72, Loss: 3400.178\n",
      "Training DAGMM... Epoch: 73, Loss: 3174.977\n",
      "Training DAGMM... Epoch: 74, Loss: 2958.021\n",
      "Training DAGMM... Epoch: 75, Loss: 2748.889\n",
      "Training DAGMM... Epoch: 76, Loss: 2547.154\n",
      "Training DAGMM... Epoch: 77, Loss: 2352.419\n",
      "Training DAGMM... Epoch: 78, Loss: 2164.295\n",
      "Training DAGMM... Epoch: 79, Loss: 1982.423\n",
      "Training DAGMM... Epoch: 80, Loss: 1806.483\n",
      "Training DAGMM... Epoch: 81, Loss: 1636.171\n",
      "Training DAGMM... Epoch: 82, Loss: 1471.272\n",
      "Training DAGMM... Epoch: 83, Loss: 1311.681\n",
      "Training DAGMM... Epoch: 84, Loss: 1157.475\n",
      "Training DAGMM... Epoch: 85, Loss: 1009.072\n",
      "Training DAGMM... Epoch: 86, Loss: 867.520\n",
      "Training DAGMM... Epoch: 87, Loss: 735.029\n",
      "Training DAGMM... Epoch: 88, Loss: 615.825\n",
      "Training DAGMM... Epoch: 89, Loss: 516.297\n",
      "Training DAGMM... Epoch: 90, Loss: 441.769\n",
      "Training DAGMM... Epoch: 91, Loss: 393.139\n",
      "Training DAGMM... Epoch: 92, Loss: 366.939\n",
      "Training DAGMM... Epoch: 93, Loss: 355.021\n",
      "Training DAGMM... Epoch: 94, Loss: 349.724\n",
      "Training DAGMM... Epoch: 95, Loss: 346.505\n",
      "Training DAGMM... Epoch: 96, Loss: 343.082\n",
      "Training DAGMM... Epoch: 97, Loss: 338.416\n",
      "Training DAGMM... Epoch: 98, Loss: 332.113\n",
      "Training DAGMM... Epoch: 99, Loss: 324.116\n",
      "Training DAGMM... Epoch: 100, Loss: 314.555\n",
      "Training DAGMM... Epoch: 101, Loss: 303.645\n",
      "Training DAGMM... Epoch: 102, Loss: 291.640\n",
      "Training DAGMM... Epoch: 103, Loss: 278.806\n",
      "Training DAGMM... Epoch: 104, Loss: 265.408\n",
      "Training DAGMM... Epoch: 105, Loss: 251.702\n",
      "Training DAGMM... Epoch: 106, Loss: 237.928\n",
      "Training DAGMM... Epoch: 107, Loss: 224.321\n",
      "Training DAGMM... Epoch: 108, Loss: 211.108\n",
      "Training DAGMM... Epoch: 109, Loss: 198.523\n",
      "Training DAGMM... Epoch: 110, Loss: 186.813\n",
      "Training DAGMM... Epoch: 111, Loss: 176.267\n",
      "Training DAGMM... Epoch: 112, Loss: 167.242\n",
      "Training DAGMM... Epoch: 113, Loss: 160.187\n",
      "Training DAGMM... Epoch: 114, Loss: 155.492\n",
      "Training DAGMM... Epoch: 115, Loss: 152.531\n",
      "Training DAGMM... Epoch: 116, Loss: 149.502\n",
      "Training DAGMM... Epoch: 117, Loss: 145.002\n",
      "Training DAGMM... Epoch: 118, Loss: 139.007\n",
      "Training DAGMM... Epoch: 119, Loss: 132.623\n",
      "Training DAGMM... Epoch: 120, Loss: 127.054\n",
      "Training DAGMM... Epoch: 121, Loss: 122.826\n",
      "Training DAGMM... Epoch: 122, Loss: 119.592\n",
      "Training DAGMM... Epoch: 123, Loss: 116.746\n",
      "Training DAGMM... Epoch: 124, Loss: 113.925\n",
      "Training DAGMM... Epoch: 125, Loss: 110.979\n",
      "Training DAGMM... Epoch: 126, Loss: 107.896\n",
      "Training DAGMM... Epoch: 127, Loss: 104.753\n",
      "Training DAGMM... Epoch: 128, Loss: 101.691\n",
      "Training DAGMM... Epoch: 129, Loss: 98.892\n",
      "Training DAGMM... Epoch: 130, Loss: 96.531\n",
      "Training DAGMM... Epoch: 131, Loss: 94.532\n",
      "Training DAGMM... Epoch: 132, Loss: 92.513\n",
      "Training DAGMM... Epoch: 133, Loss: 90.264\n",
      "Training DAGMM... Epoch: 134, Loss: 87.911\n",
      "Training DAGMM... Epoch: 135, Loss: 85.723\n",
      "Training DAGMM... Epoch: 136, Loss: 83.811\n",
      "Training DAGMM... Epoch: 137, Loss: 82.041\n",
      "Training DAGMM... Epoch: 138, Loss: 80.288\n",
      "Training DAGMM... Epoch: 139, Loss: 78.516\n",
      "Training DAGMM... Epoch: 140, Loss: 76.769\n",
      "Training DAGMM... Epoch: 141, Loss: 75.125\n",
      "Training DAGMM... Epoch: 142, Loss: 73.624\n",
      "Training DAGMM... Epoch: 143, Loss: 72.164\n",
      "Training DAGMM... Epoch: 144, Loss: 70.653\n",
      "Training DAGMM... Epoch: 145, Loss: 69.134\n",
      "Training DAGMM... Epoch: 146, Loss: 67.699\n",
      "Training DAGMM... Epoch: 147, Loss: 66.359\n",
      "Training DAGMM... Epoch: 148, Loss: 65.059\n",
      "Training DAGMM... Epoch: 149, Loss: 63.782\n",
      "Training DAGMM... Epoch: 150, Loss: 62.550\n",
      "Training DAGMM... Epoch: 151, Loss: 61.388\n",
      "Training DAGMM... Epoch: 152, Loss: 60.257\n",
      "Training DAGMM... Epoch: 153, Loss: 59.119\n",
      "Training DAGMM... Epoch: 154, Loss: 57.995\n",
      "Training DAGMM... Epoch: 155, Loss: 56.923\n",
      "Training DAGMM... Epoch: 156, Loss: 55.897\n",
      "Training DAGMM... Epoch: 157, Loss: 54.899\n",
      "Training DAGMM... Epoch: 158, Loss: 53.937\n",
      "Training DAGMM... Epoch: 159, Loss: 53.014\n",
      "Training DAGMM... Epoch: 160, Loss: 52.107\n",
      "Training DAGMM... Epoch: 161, Loss: 51.203\n",
      "Training DAGMM... Epoch: 162, Loss: 50.322\n",
      "Training DAGMM... Epoch: 163, Loss: 49.475\n",
      "Training DAGMM... Epoch: 164, Loss: 48.656\n",
      "Training DAGMM... Epoch: 165, Loss: 47.862\n",
      "Training DAGMM... Epoch: 166, Loss: 47.095\n",
      "Training DAGMM... Epoch: 167, Loss: 46.340\n",
      "Training DAGMM... Epoch: 168, Loss: 45.592\n",
      "Training DAGMM... Epoch: 169, Loss: 44.862\n",
      "Training DAGMM... Epoch: 170, Loss: 44.157\n",
      "Training DAGMM... Epoch: 171, Loss: 43.471\n",
      "Training DAGMM... Epoch: 172, Loss: 42.807\n",
      "Training DAGMM... Epoch: 173, Loss: 42.155\n",
      "Training DAGMM... Epoch: 174, Loss: 41.511\n",
      "Training DAGMM... Epoch: 175, Loss: 40.878\n",
      "Training DAGMM... Epoch: 176, Loss: 40.261\n",
      "Training DAGMM... Epoch: 177, Loss: 39.662\n",
      "Training DAGMM... Epoch: 178, Loss: 39.077\n",
      "Training DAGMM... Epoch: 179, Loss: 38.503\n",
      "Training DAGMM... Epoch: 180, Loss: 37.934\n",
      "Training DAGMM... Epoch: 181, Loss: 37.374\n",
      "Training DAGMM... Epoch: 182, Loss: 36.827\n",
      "Training DAGMM... Epoch: 183, Loss: 36.293\n",
      "Training DAGMM... Epoch: 184, Loss: 35.768\n",
      "Training DAGMM... Epoch: 185, Loss: 35.248\n",
      "Training DAGMM... Epoch: 186, Loss: 34.733\n",
      "Training DAGMM... Epoch: 187, Loss: 34.226\n",
      "Training DAGMM... Epoch: 188, Loss: 33.727\n",
      "Training DAGMM... Epoch: 189, Loss: 33.235\n",
      "Training DAGMM... Epoch: 190, Loss: 32.746\n",
      "Training DAGMM... Epoch: 191, Loss: 32.258\n",
      "Training DAGMM... Epoch: 192, Loss: 31.773\n",
      "Training DAGMM... Epoch: 193, Loss: 31.290\n",
      "Training DAGMM... Epoch: 194, Loss: 30.809\n",
      "Training DAGMM... Epoch: 195, Loss: 30.323\n",
      "Training DAGMM... Epoch: 196, Loss: 29.831\n",
      "Training DAGMM... Epoch: 197, Loss: 29.332\n",
      "Training DAGMM... Epoch: 198, Loss: 28.822\n",
      "Training DAGMM... Epoch: 199, Loss: 28.295\n"
     ]
    }
   ],
   "source": [
    "dagmm = TrainerDAGMM(args, X_NN)\n",
    "dagmm.train()"
   ]
  },
  {
   "cell_type": "code",
   "execution_count": 10,
   "metadata": {},
   "outputs": [
    {
     "name": "stdout",
     "output_type": "stream",
     "text": [
      "torch.Size([90, 240, 2]) torch.Size([90, 240, 117]) torch.Size([90, 4]) torch.Size([90, 6])\n",
      "torch.Size([6]) torch.Size([6, 4]) torch.Size([6, 4, 4])\n",
      "torch.Size([90, 4]) torch.Size([90, 4])\n"
     ]
    }
   ],
   "source": [
    "with torch.no_grad():\n",
    "    z, x_hat, aug_z, gamma = dagmm.model(X_NN.to(args.device))\n",
    "    print(z.shape, x_hat.shape, aug_z.shape, gamma.shape)\n",
    "    \n",
    "    # compute phi, mu, and cov using the training dataset\n",
    "    hp_gmm = dagmm.compute.compute_params(aug_z, gamma)\n",
    "    print(hp_gmm[0].shape, hp_gmm[1].shape, hp_gmm[2].shape)\n",
    "    \n",
    "    zy, y_hat, aug_zy , _ = dagmm.model(Y_NN.to(args.device))\n",
    "    print(aug_z.shape, aug_zy.shape)\n",
    "    \n",
    "    # compute likelihood for correct and incorrect motions\n",
    "    lik = {\"corr\":[],\"incorr\":[]}\n",
    "    for r in range(R):\n",
    "        cl, _ = dagmm.compute.compute_energy(aug_z[r].unsqueeze(0), \n",
    "                                             gamma, *hp_gmm)\n",
    "        lik[\"corr\"].append(-cl.cpu())\n",
    "        il, _ = dagmm.compute.compute_energy(aug_zy[r].unsqueeze(0), \n",
    "                                             gamma, *hp_gmm)\n",
    "        lik[\"incorr\"].append(-il.cpu())"
   ]
  },
  {
   "cell_type": "code",
   "execution_count": 11,
   "metadata": {},
   "outputs": [
    {
     "data": {
      "image/png": "[encoded data removed]",
      "text/plain": [
       "<Figure size 640x480 with 1 Axes>"
      ]
     },
     "metadata": {},
     "output_type": "display_data"
    }
   ],
   "source": [
    "plt.scatter(np.arange(1,91),lik[\"corr\"], label = \"Correct Sequences\")\n",
    "plt.scatter(np.arange(1,91),lik[\"incorr\"], label = \"Incorrect Sequences\")\n",
    "plt.xlabel(\"Sequence Number\")\n",
    "plt.ylabel(\"Log-Likelihood\")\n",
    "plt.legend()\n",
    "plt.show()"
   ]
  }
 ],
 "metadata": {
  "kernelspec": {
   "display_name": "Python 3 (ipykernel)",
   "language": "python",
   "name": "python3"
  },
  "language_info": {
   "codemirror_mode": {
    "name": "ipython",
    "version": 3
   },
   "file_extension": ".py",
   "mimetype": "text/x-python",
   "name": "python",
   "nbconvert_exporter": "python",
   "pygments_lexer": "ipython3",
   "version": "3.11.9"
  }
 },
 "nbformat": 4,
 "nbformat_minor": 4
}
