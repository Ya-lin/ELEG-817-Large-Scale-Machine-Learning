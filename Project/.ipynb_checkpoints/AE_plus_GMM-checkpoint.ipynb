{
 "cells": [
  {
   "cell_type": "markdown",
   "id": "b8bd9016-3306-42eb-8e39-24fc005496ff",
   "metadata": {},
   "source": [
    "## Antoencoder plus GMM\n",
    "### Import packages"
   ]
  },
  {
   "cell_type": "code",
   "execution_count": null,
   "id": "dbe06036-ad4d-43d7-b8c6-bb416a7521f1",
   "metadata": {},
   "outputs": [],
   "source": [
    "from pathlib import Path\n",
    "from tqdm import tqdm\n",
    "from collections import defaultdict\n",
    "import random\n",
    "\n",
    "import pandas as pd\n",
    "import numpy as np\n",
    "from matplotlib import pyplot as plt\n",
    "from sklearn.mixture import GaussianMixture\n",
    "\n",
    "import torch\n",
    "from torch import nn,optim"
   ]
  },
  {
   "cell_type": "code",
   "execution_count": null,
   "id": "45e35e8d-75a8-493d-bf26-78ca7f9ea571",
   "metadata": {},
   "outputs": [],
   "source": [
    "path = Path.home().joinpath(\"Documents\",\"Data\",\"Rehabilitation\")\n",
    "X = pd.read_csv(path.joinpath(\"Data_Correct.csv\"),header=None)\n",
    "Y = pd.read_csv(path.joinpath(\"Data_Incorrect.csv\"),header=None)\n",
    "X.head()"
   ]
  },
  {
   "cell_type": "code",
   "execution_count": null,
   "id": "1968596c-0bfa-41d9-b435-a2bdf83de54a",
   "metadata": {},
   "outputs": [],
   "source": [
    "X = X.to_numpy()\n",
    "Y = Y.to_numpy()\n",
    "print(X.shape)\n",
    "print(Y.shape)"
   ]
  },
  {
   "cell_type": "markdown",
   "id": "7515c6aa-cf92-42e0-adaf-513832737552",
   "metadata": {},
   "source": [
    "### Transform data to be in size (240x90)x117"
   ]
  },
  {
   "cell_type": "code",
   "execution_count": null,
   "id": "8631ce40-f785-42a4-b627-454466c4b71a",
   "metadata": {},
   "outputs": [],
   "source": [
    "n_dim = 117\n",
    "T = X.shape[1]\n",
    "R = int(X.shape[0]/n_dim)\n",
    "def two3three(X, R, T, n_dim):\n",
    "    X_NN = np.zeros((R,T,n_dim))\n",
    "    for r in range(R):\n",
    "        X_NN[r,:,:] = X[r*n_dim:(r+1)*n_dim,:].T\n",
    "    return X_NN"
   ]
  },
  {
   "cell_type": "code",
   "execution_count": null,
   "id": "f751d84a-0cc7-467b-a613-bc64331325d1",
   "metadata": {},
   "outputs": [],
   "source": [
    "X_NN = two3three(X, R, T, n_dim)\n",
    "Y_NN = two3three(Y, R, T, n_dim)\n",
    "print(X_NN.shape)\n",
    "print(Y_NN.shape)"
   ]
  },
  {
   "cell_type": "code",
   "execution_count": null,
   "id": "73f2708b-4fc9-4190-b47d-db6c9a4fe90e",
   "metadata": {},
   "outputs": [],
   "source": [
    "# Plot the first sequences of correct and incorrect data\n",
    "plt.figure(figsize = (12,4))\n",
    "plt.subplot(1,2,1)\n",
    "plt.plot(X_NN[0])\n",
    "plt.ylim([-1,1])\n",
    "plt.xlabel(\"Time\")\n",
    "plt.ylabel(\"Motion angle\")\n",
    "plt.title(\"Correct movement\")\n",
    "plt.subplot(1,2,2)\n",
    "plt.plot(Y_NN[0])\n",
    "plt.ylim([-1,1])\n",
    "plt.xlabel(\"Time\")\n",
    "plt.ylabel(\"Motion angle\")\n",
    "plt.title(\"Incorrect movement\")\n",
    "plt.tight_layout()\n",
    "plt.show()"
   ]
  },
  {
   "cell_type": "markdown",
   "id": "af5d8bb6-face-4428-a9a9-5676c56ee9b8",
   "metadata": {},
   "source": [
    "### Extend data\n",
    "Add 50 time frames at the beginning and end of sequences as the autoencoder has difficulties with the beginning and ending frames."
   ]
  },
  {
   "cell_type": "code",
   "execution_count": null,
   "id": "80705e26-dc99-43c9-80df-a4479be197af",
   "metadata": {},
   "outputs": [],
   "source": [
    "X_NN_add = np.zeros((R,T+100,n_dim))\n",
    "for r in range(R):\n",
    "    for d in range(n_dim):\n",
    "        X_NN_add[r,:,d] = np.pad(X_NN[r,:,d],50,\"edge\")\n",
    "print(X_NN_add.shape)"
   ]
  },
  {
   "cell_type": "code",
   "execution_count": null,
   "id": "213ba299-27c9-4ee9-9818-4166380bc7c2",
   "metadata": {},
   "outputs": [],
   "source": [
    "Y_NN_add = np.zeros((R,T+100,n_dim))\n",
    "for r in range(R):\n",
    "    for d in range(n_dim):\n",
    "        Y_NN_add[r,:,d] = np.pad(Y_NN[r,:,d],50,\"edge\")\n",
    "print(Y_NN_add.shape)"
   ]
  },
  {
   "cell_type": "code",
   "execution_count": null,
   "id": "266913d2-7a69-4901-9cd1-2c45f5cb7c88",
   "metadata": {},
   "outputs": [],
   "source": [
    "# Plot the first sequences of correct and incorrect data\n",
    "plt.figure(figsize = (12,4))\n",
    "plt.subplot(1,2,1)\n",
    "plt.plot(X_NN_add[0])\n",
    "plt.ylim([-1,1])\n",
    "plt.xlabel(\"Time\")\n",
    "plt.ylabel(\"Motion angle\")\n",
    "plt.title(\"Correct movement\")\n",
    "plt.subplot(1,2,2)\n",
    "plt.plot(Y_NN_add[0])\n",
    "plt.ylim([-1,1])\n",
    "plt.xlabel(\"Time\")\n",
    "plt.ylabel(\"Motion angle\")\n",
    "plt.title(\"Incorrect movement\")\n",
    "plt.tight_layout()\n",
    "plt.show()"
   ]
  },
  {
   "cell_type": "markdown",
   "id": "2fe7c574-87a7-4937-9b01-366b5ee3e24c",
   "metadata": {},
   "source": [
    "### Build autoencoder model\n",
    "input = [batch_size,sen_len,input_size]\n",
    "\n",
    "nn.LSTM(input_size, hidden_size, batch_first=True)"
   ]
  },
  {
   "cell_type": "code",
   "execution_count": null,
   "id": "1b9c7c85-5d48-4d10-833c-55039bc6b83a",
   "metadata": {},
   "outputs": [],
   "source": [
    "X_NN_add = torch.tensor(X_NN_add).float()\n",
    "Y_NN_add = torch.tensor(Y_NN_add).float()"
   ]
  },
  {
   "cell_type": "code",
   "execution_count": null,
   "id": "84ce527e-2154-4cc3-8657-0dc4661ce0a9",
   "metadata": {},
   "outputs": [],
   "source": [
    "class AE(nn.Module):\n",
    "    def __init__(self,n_dim):\n",
    "        super().__init__()\n",
    "        # encoder layers\n",
    "        self.en1 = nn.LSTM(n_dim,30,batch_first=True)\n",
    "        self.en2 = nn.LSTM(30,10,batch_first=True)\n",
    "        self.en3 = nn.LSTM(10,4,batch_first=True)\n",
    "        # decoder layers\n",
    "        self.de1 = nn.LSTM(4,10,batch_first=True)\n",
    "        self.de2 = nn.LSTM(10,30,batch_first=True)\n",
    "        self.de3 = nn.LSTM(30,n_dim,batch_first=True)\n",
    "        \n",
    "    def encoder(self,x):\n",
    "        \n",
    "        en,(_,_) = self.en1(x)\n",
    "        en,(_,_) = self.en2(en)\n",
    "        en,(_,_) = self.en3(en)\n",
    "        \n",
    "        return en\n",
    "    \n",
    "    def decoder(self,x):\n",
    "        \n",
    "        de,(_,_) = self.de1(x)\n",
    "        de,(_,_) = self.de2(de)\n",
    "        de,(_,_) = self.de3(de)\n",
    "        \n",
    "        return de\n",
    "        \n",
    "    def forward(self,x):\n",
    "        \n",
    "        en = self.encoder(x)\n",
    "        x_ = self.decoder(en)\n",
    "        \n",
    "        return x_"
   ]
  },
  {
   "cell_type": "code",
   "execution_count": null,
   "id": "1e518945-ae85-4de1-adf9-d4c3d4779dd3",
   "metadata": {},
   "outputs": [],
   "source": [
    "ae = AE(n_dim)\n",
    "print(ae)"
   ]
  },
  {
   "cell_type": "code",
   "execution_count": null,
   "id": "1081ce8c-f36e-4f0c-a40f-1b16c70d2d59",
   "metadata": {},
   "outputs": [],
   "source": [
    "en = ae.encoder(X_NN_add)\n",
    "de = ae(X_NN_add)\n",
    "print(en.shape)\n",
    "print(de.shape)"
   ]
  },
  {
   "cell_type": "code",
   "execution_count": null,
   "id": "83d72cc6-ce17-4249-87d7-6f004123c85a",
   "metadata": {},
   "outputs": [],
   "source": [
    "trainidx = random.sample(range(0,R),63)\n",
    "# return index which is in np.arange(0,90,1) but not in trainidx\n",
    "valididx = np.setdiff1d(np.arange(0,90,1),trainidx)\n",
    "print(\"train index: \", trainidx)\n",
    "print(\"valid index: \", valididx)"
   ]
  },
  {
   "cell_type": "code",
   "execution_count": null,
   "id": "d7fd80ea-25e1-477f-ac25-5cefd6c80788",
   "metadata": {},
   "outputs": [],
   "source": [
    "train = X_NN_add[trainidx,:,:]\n",
    "valid = X_NN_add[valididx,:,:]\n",
    "print(train.shape)\n",
    "print(valid.shape)"
   ]
  },
  {
   "cell_type": "markdown",
   "id": "fcb29e2d-55ac-4769-8ef1-1bf4aaf82710",
   "metadata": {},
   "source": [
    "### Train the autoencoder model"
   ]
  },
  {
   "cell_type": "code",
   "execution_count": null,
   "id": "9c1d02db-a8c8-4ddd-9d69-205114dd96ee",
   "metadata": {},
   "outputs": [],
   "source": [
    "optimizer = optim.AdamW(ae.parameters())\n",
    "mse = nn.MSELoss()"
   ]
  },
  {
   "cell_type": "code",
   "execution_count": null,
   "id": "0997043a-c34d-4a4e-887a-1f28ebb13354",
   "metadata": {},
   "outputs": [],
   "source": [
    "history = {\"train\":[],\"valid\":[]}\n",
    "for i in tqdm(range(1000)):\n",
    "    \n",
    "    # update network\n",
    "    optimizer.zero_grad()\n",
    "    de = ae(train)\n",
    "    loss = mse(train,de)\n",
    "    loss.backward()\n",
    "    optimizer.step()\n",
    "    history[\"train\"].append(loss.item())\n",
    "    \n",
    "    # valid loss\n",
    "    de_val = ae(valid)\n",
    "    loss_val = mse(valid,de_val)\n",
    "    history[\"valid\"].append(loss_val.item())"
   ]
  },
  {
   "cell_type": "code",
   "execution_count": null,
   "id": "8f55182c-65ad-49a4-9a0c-e47ff1290326",
   "metadata": {},
   "outputs": [],
   "source": [
    "plt.plot(history[\"train\"],label=\"train\")\n",
    "plt.plot(history[\"valid\"],label=\"valid\")\n",
    "plt.show()"
   ]
  },
  {
   "cell_type": "code",
   "execution_count": null,
   "id": "972b4eca-0a96-4ebc-8de4-cb4e929086fc",
   "metadata": {},
   "outputs": [],
   "source": [
    "print(history[\"train\"][-1])\n",
    "print(history[\"valid\"][-1])"
   ]
  },
  {
   "cell_type": "code",
   "execution_count": null,
   "id": "120a94af-ae1b-483f-835d-99c9ef6da22c",
   "metadata": {},
   "outputs": [],
   "source": [
    "X_4_ = ae.encoder(X_NN_add)\n",
    "X_de_ = ae(X_NN_add)\n",
    "Y_4_ = ae.encoder(Y_NN_add)\n",
    "Y_de_ = ae(Y_NN_add)\n",
    "X_4_ = X_4_.detach().numpy()\n",
    "Y_4_ = Y_4_.detach().numpy()\n",
    "X_de_ = X_de_.detach().numpy()\n",
    "Y_de_ = Y_de_.detach().numpy()\n",
    "print(X_4_.shape)\n",
    "print(X_de_.shape)\n",
    "print(Y_4_.shape)\n",
    "print(Y_de_.shape)"
   ]
  },
  {
   "cell_type": "code",
   "execution_count": null,
   "id": "793d8506-b4fd-40a5-b927-2c3b92c53b5e",
   "metadata": {},
   "outputs": [],
   "source": [
    "# Plot the first sequences of correct and incorrect data\n",
    "plt.figure(figsize = (12,6))\n",
    "#\n",
    "plt.subplot(2,2,1)\n",
    "plt.plot(X_NN_add[0])\n",
    "plt.ylim([-1,1])\n",
    "plt.xlabel(\"Time\")\n",
    "plt.ylabel(\"Motion angle\")\n",
    "plt.title(\"Correct movement\")\n",
    "#\n",
    "plt.subplot(2,2,2)\n",
    "plt.plot(X_4_[0])\n",
    "plt.ylim([-1,1])\n",
    "plt.xlabel(\"Time\")\n",
    "plt.ylabel(\"Motion angle-reduced\")\n",
    "plt.title(\"Correct movement\")\n",
    "#\n",
    "plt.subplot(2,2,3)\n",
    "plt.plot(Y_NN_add[0])\n",
    "plt.ylim([-1,1])\n",
    "plt.xlabel(\"Time\")\n",
    "plt.ylabel(\"Motion angle\")\n",
    "plt.title(\"Incorrect movement\")\n",
    "#\n",
    "plt.subplot(2,2,4)\n",
    "plt.plot(Y_4_[0])\n",
    "plt.ylim([-1,1])\n",
    "plt.xlabel(\"Time\")\n",
    "plt.ylabel(\"Motion angle-reduced\")\n",
    "plt.title(\"Incorrect movement\")\n",
    "#\n",
    "plt.tight_layout()\n",
    "plt.show()"
   ]
  },
  {
   "cell_type": "code",
   "execution_count": null,
   "id": "a0fb8784-b8ac-4133-a78d-93e0e6b7a260",
   "metadata": {},
   "outputs": [],
   "source": [
    "# remove the added first 50 and last 50 elements\n",
    "X_4 = X_4_[:,50:-50,:]\n",
    "Y_4 = Y_4_[:,50:-50,:]\n",
    "print(X_4.shape)\n",
    "print(Y_4.shape)"
   ]
  },
  {
   "cell_type": "code",
   "execution_count": null,
   "id": "7de0d023-ac4c-467e-bcbb-e4effe33437a",
   "metadata": {},
   "outputs": [],
   "source": [
    "X_de = X_de_[:,50:-50,:]\n",
    "Y_de = Y_de_[:,50:-50,:]\n",
    "print(X_de.shape)\n",
    "print(Y_de.shape)"
   ]
  },
  {
   "cell_type": "code",
   "execution_count": null,
   "id": "28316663-f4cd-45d9-8cde-1c4f16260cf6",
   "metadata": {},
   "outputs": [],
   "source": [
    "# Plot the first sequences of correct and incorrect data\n",
    "plt.figure(figsize = (12,6))\n",
    "#\n",
    "plt.subplot(2,3,1)\n",
    "plt.plot(X_NN[0])\n",
    "plt.ylim([-1,1])\n",
    "plt.xlabel(\"Time\")\n",
    "plt.ylabel(\"Motion angle\")\n",
    "plt.title(\"Correct movement\")\n",
    "# \n",
    "plt.subplot(2,3,2)\n",
    "plt.plot(X_4[0])\n",
    "plt.ylim([-1,1])\n",
    "plt.xlabel(\"Time\")\n",
    "plt.ylabel(\"Motion angle-reduced\")\n",
    "plt.title(\"Correct movement\")\n",
    "#\n",
    "plt.subplot(2,3,3)\n",
    "plt.plot(X_de[0])\n",
    "plt.ylim([-1,1])\n",
    "plt.xlabel(\"Time\")\n",
    "plt.ylabel(\"Motion angle-reconstruction\")\n",
    "plt.title(\"Correct movement\")\n",
    "#\n",
    "plt.subplot(2,3,4)\n",
    "plt.plot(Y_NN[0])\n",
    "plt.ylim([-1,1])\n",
    "plt.xlabel(\"Time\")\n",
    "plt.ylabel(\"Motion angle\")\n",
    "plt.title(\"Incorrect movement\")\n",
    "#\n",
    "plt.subplot(2,3,5)\n",
    "plt.plot(Y_4[0])\n",
    "plt.ylim([-1,1])\n",
    "plt.xlabel(\"Time\")\n",
    "plt.ylabel(\"Motion angle-reduced\")\n",
    "plt.title(\"Incorrect movement\")\n",
    "#\n",
    "plt.subplot(2,3,6)\n",
    "plt.plot(Y_de[0])\n",
    "plt.ylim([-1,1])\n",
    "plt.xlabel(\"Time\")\n",
    "plt.ylabel(\"Motion angle-reconstruction\")\n",
    "plt.title(\"Incorrect movement\")\n",
    "#\n",
    "plt.tight_layout()\n",
    "plt.show()"
   ]
  },
  {
   "cell_type": "markdown",
   "id": "5d7e142d-b6ac-44fa-aa8e-49ef968a2c99",
   "metadata": {},
   "source": [
    "### Train a GMM by sklearn"
   ]
  },
  {
   "cell_type": "code",
   "execution_count": null,
   "id": "f2c0d310-34e9-47e1-beda-dc9fcd545630",
   "metadata": {},
   "outputs": [],
   "source": [
    "def trans2twod(X):\n",
    "    ind3 = X.shape[2]\n",
    "    X_ = X.reshape(-1,ind3)\n",
    "    return X_"
   ]
  },
  {
   "cell_type": "code",
   "execution_count": null,
   "id": "2e4e6742-d42c-4c44-b8ea-0ef92937dfcd",
   "metadata": {},
   "outputs": [],
   "source": [
    "X_4_long = trans2twod(X_4)\n",
    "Y_4_long = trans2twod(Y_4)\n",
    "print(f\"\\n{X_4_long.shape = }\")\n",
    "print(f\"\\n{Y_4_long.shape = }\")"
   ]
  },
  {
   "cell_type": "code",
   "execution_count": null,
   "id": "0ee731ec-c901-48d4-925e-5e5916b4cb94",
   "metadata": {},
   "outputs": [],
   "source": [
    "print(X_4_long[240,:] == X_4[1,0,:])\n",
    "print(Y_4_long[240,:] == Y_4[1,0,:])"
   ]
  },
  {
   "cell_type": "code",
   "execution_count": null,
   "id": "92f24b98-9c09-4170-abd4-eb8f532e9269",
   "metadata": {},
   "outputs": [],
   "source": [
    "gmm = GaussianMixture(n_components=6,n_init=10,init_params='kmeans')\n",
    "gmm.fit(X_4_long)"
   ]
  },
  {
   "cell_type": "code",
   "execution_count": null,
   "id": "79c02867-f1ee-49ee-b4c7-066d8f67785a",
   "metadata": {},
   "outputs": [],
   "source": [
    "print(\"weights: \", gmm.weights_)\n",
    "print(\"means: \", gmm.means_)\n",
    "print(\"covariances: \", gmm.covariances_)"
   ]
  },
  {
   "cell_type": "code",
   "execution_count": null,
   "id": "518eb2af-9e03-405e-ad0d-673c0315c6c9",
   "metadata": {},
   "outputs": [],
   "source": [
    "print(\"Converge or not: \", gmm.converged_)\n",
    "print(\"Maximal iteration: \", gmm.n_iter_)"
   ]
  },
  {
   "cell_type": "markdown",
   "id": "de68dc7a-3150-4445-826f-0fea154248e1",
   "metadata": {},
   "source": [
    "### Calculate negative likelihood"
   ]
  },
  {
   "cell_type": "code",
   "execution_count": null,
   "id": "7d1faabb-748a-441f-a6ea-9321a4f53aa9",
   "metadata": {},
   "outputs": [],
   "source": [
    "def trans2threed(X, R, T):\n",
    "    ind2 = X.shape[1]\n",
    "    X_ = np.zeros((R,T,ind2))\n",
    "    for r in range(R):\n",
    "        X_[r,:,:] = X[r*T:(r+1)*T,:]\n",
    "    return X_\n",
    "\n",
    "# this function is corret but we do not need it.\n",
    "(X_4 == trans2threed(X_4_long, R, T)).all()"
   ]
  },
  {
   "cell_type": "code",
   "execution_count": null,
   "id": "b79900d7-ad36-4c03-813f-2a35b83f086a",
   "metadata": {},
   "outputs": [],
   "source": [
    "# average(over time) log likelihood, instead of average negative log likelihood\n",
    "print(gmm.score(X_4[0,:,:]))\n",
    "print(gmm.score(Y_4[0,:,:]))"
   ]
  },
  {
   "cell_type": "code",
   "execution_count": null,
   "id": "d333749c-e98e-4a5c-81a9-15e6d041c0e5",
   "metadata": {},
   "outputs": [],
   "source": [
    "lik = defaultdict(list)\n",
    "for r in range(R):\n",
    "    lik[\"corr\"].append(gmm.score(X_4[r,:,:]))\n",
    "    lik[\"incorr\"].append(gmm.score(Y_4[r,:,:]))"
   ]
  },
  {
   "cell_type": "code",
   "execution_count": null,
   "id": "464b72a3-8619-496f-815a-091ed70251b1",
   "metadata": {},
   "outputs": [],
   "source": [
    "plt.scatter(np.arange(1,91),lik[\"corr\"], label = \"Correct Sequences\")\n",
    "plt.scatter(np.arange(1,91),lik[\"incorr\"], label = \"Incorrect Sequences\")\n",
    "plt.xlabel(\"Sequence Number\")\n",
    "plt.ylabel(\"Log-Likelihood\")\n",
    "plt.legend()\n",
    "plt.show()"
   ]
  },
  {
   "cell_type": "code",
   "execution_count": null,
   "id": "756e1464-eae0-4db2-a359-2f58cbf805fc",
   "metadata": {},
   "outputs": [],
   "source": []
  }
 ],
 "metadata": {
  "kernelspec": {
   "display_name": "Python 3 (ipykernel)",
   "language": "python",
   "name": "python3"
  },
  "language_info": {
   "codemirror_mode": {
    "name": "ipython",
    "version": 3
   },
   "file_extension": ".py",
   "mimetype": "text/x-python",
   "name": "python",
   "nbconvert_exporter": "python",
   "pygments_lexer": "ipython3",
   "version": "3.11.9"
  }
 },
 "nbformat": 4,
 "nbformat_minor": 5
}
