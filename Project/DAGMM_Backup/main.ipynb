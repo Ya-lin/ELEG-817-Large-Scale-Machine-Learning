{
 "cells": [
  {
   "cell_type": "code",
   "execution_count": 1,
   "metadata": {},
   "outputs": [],
   "source": [
    "from pathlib import Path\n",
    "from types import SimpleNamespace\n",
    "import numpy as np\n",
    "import torch\n",
    "\n",
    "import matplotlib.pyplot as plt\n",
    "import pandas as pd \n",
    "\n",
    "from train import TrainerDAGMM"
   ]
  },
  {
   "cell_type": "code",
   "execution_count": 2,
   "metadata": {},
   "outputs": [
    {
     "name": "stdout",
     "output_type": "stream",
     "text": [
      "namespace(num_epochs=200, lr=0.0001, latent_dim=2, n_gmm=6, lambda_energy=0.1, lambda_cov=0.005, device='cuda')\n"
     ]
    }
   ],
   "source": [
    "args = SimpleNamespace(num_epochs=200)\n",
    "args.lr = 1e-4\n",
    "args.latent_dim = 2\n",
    "args.n_gmm = 6\n",
    "args.lambda_energy = 0.1\n",
    "args.lambda_cov = 0.005\n",
    "args.device = 'cuda' if torch.cuda.is_available() else 'cpu'\n",
    "print(args)"
   ]
  },
  {
   "cell_type": "code",
   "execution_count": 3,
   "metadata": {},
   "outputs": [],
   "source": [
    "path = Path.home().joinpath(\"Documents\",\"Data\",\"Rehabilitation\")\n",
    "path.mkdir(exist_ok=True)\n",
    "def get_data():\n",
    "    X = pd.read_csv(path.joinpath(\"Data_Correct.csv\"),header=None)\n",
    "    Y = pd.read_csv(path.joinpath(\"Data_Incorrect.csv\"),header=None)\n",
    "    X = X.to_numpy()\n",
    "    Y = Y.to_numpy()\n",
    "    return X, Y"
   ]
  },
  {
   "cell_type": "code",
   "execution_count": 4,
   "metadata": {},
   "outputs": [
    {
     "name": "stdout",
     "output_type": "stream",
     "text": [
      "(10530, 240)\n",
      "(10530, 240)\n"
     ]
    }
   ],
   "source": [
    "X, Y = get_data()\n",
    "print(X.shape)\n",
    "print(Y.shape)"
   ]
  },
  {
   "cell_type": "code",
   "execution_count": 5,
   "metadata": {},
   "outputs": [],
   "source": [
    "n_dim = 117\n",
    "T = X.shape[1]\n",
    "R = int(X.shape[0]/n_dim)\n",
    "def two2three(X, R, T, n_dim):\n",
    "    X_NN = np.zeros((R,T,n_dim))\n",
    "    for r in range(R):\n",
    "        X_NN[r,:,:] = X[r*n_dim:(r+1)*n_dim,:].T\n",
    "    X_NN = torch.tensor(X_NN).float()\n",
    "    return X_NN.reshape((-1,n_dim))"
   ]
  },
  {
   "cell_type": "code",
   "execution_count": 6,
   "metadata": {},
   "outputs": [
    {
     "name": "stdout",
     "output_type": "stream",
     "text": [
      "torch.Size([21600, 117])\n",
      "torch.Size([21600, 117])\n"
     ]
    }
   ],
   "source": [
    "X_NN = two2three(X, R, T, n_dim)\n",
    "Y_NN = two2three(Y, R, T, n_dim)\n",
    "print(X_NN.shape)\n",
    "print(Y_NN.shape)"
   ]
  },
  {
   "cell_type": "code",
   "execution_count": 7,
   "metadata": {},
   "outputs": [],
   "source": [
    "dagmm = TrainerDAGMM(args, X_NN)"
   ]
  },
  {
   "cell_type": "code",
   "execution_count": 8,
   "metadata": {},
   "outputs": [
    {
     "data": {
      "text/plain": [
       "(torch.Size([21600, 2]),\n",
       " torch.Size([21600, 117]),\n",
       " torch.Size([21600, 4]),\n",
       " torch.Size([21600, 6]))"
      ]
     },
     "execution_count": 8,
     "metadata": {},
     "output_type": "execute_result"
    }
   ],
   "source": [
    "z_c, x_hat, z, gamma = dagmm.model(X_NN.to(args.device))\n",
    "z_c.shape, x_hat.shape, z.shape, gamma.shape"
   ]
  },
  {
   "cell_type": "code",
   "execution_count": 9,
   "metadata": {},
   "outputs": [
    {
     "name": "stdout",
     "output_type": "stream",
     "text": [
      "Training DAGMM... Epoch: 0, Loss: 55.202\n",
      "Training DAGMM... Epoch: 1, Loss: 52.220\n",
      "Training DAGMM... Epoch: 2, Loss: 49.477\n",
      "Training DAGMM... Epoch: 3, Loss: 46.950\n",
      "Training DAGMM... Epoch: 4, Loss: 44.618\n",
      "Training DAGMM... Epoch: 5, Loss: 42.462\n",
      "Training DAGMM... Epoch: 6, Loss: 40.465\n",
      "Training DAGMM... Epoch: 7, Loss: 38.613\n",
      "Training DAGMM... Epoch: 8, Loss: 36.891\n",
      "Training DAGMM... Epoch: 9, Loss: 35.290\n",
      "Training DAGMM... Epoch: 10, Loss: 33.796\n",
      "Training DAGMM... Epoch: 11, Loss: 32.400\n",
      "Training DAGMM... Epoch: 12, Loss: 31.094\n",
      "Training DAGMM... Epoch: 13, Loss: 29.870\n",
      "Training DAGMM... Epoch: 14, Loss: 28.719\n",
      "Training DAGMM... Epoch: 15, Loss: 27.636\n",
      "Training DAGMM... Epoch: 16, Loss: 26.615\n",
      "Training DAGMM... Epoch: 17, Loss: 25.650\n",
      "Training DAGMM... Epoch: 18, Loss: 24.737\n",
      "Training DAGMM... Epoch: 19, Loss: 23.871\n",
      "Training DAGMM... Epoch: 20, Loss: 23.048\n",
      "Training DAGMM... Epoch: 21, Loss: 22.266\n",
      "Training DAGMM... Epoch: 22, Loss: 21.521\n",
      "Training DAGMM... Epoch: 23, Loss: 20.810\n",
      "Training DAGMM... Epoch: 24, Loss: 20.130\n",
      "Training DAGMM... Epoch: 25, Loss: 19.481\n",
      "Training DAGMM... Epoch: 26, Loss: 18.859\n",
      "Training DAGMM... Epoch: 27, Loss: 18.263\n",
      "Training DAGMM... Epoch: 28, Loss: 17.692\n",
      "Training DAGMM... Epoch: 29, Loss: 17.143\n",
      "Training DAGMM... Epoch: 30, Loss: 16.616\n",
      "Training DAGMM... Epoch: 31, Loss: 16.110\n",
      "Training DAGMM... Epoch: 32, Loss: 15.623\n",
      "Training DAGMM... Epoch: 33, Loss: 15.155\n",
      "Training DAGMM... Epoch: 34, Loss: 14.704\n",
      "Training DAGMM... Epoch: 35, Loss: 14.270\n",
      "Training DAGMM... Epoch: 36, Loss: 13.852\n",
      "Training DAGMM... Epoch: 37, Loss: 13.450\n",
      "Training DAGMM... Epoch: 38, Loss: 13.061\n",
      "Training DAGMM... Epoch: 39, Loss: 12.687\n",
      "Training DAGMM... Epoch: 40, Loss: 12.326\n",
      "Training DAGMM... Epoch: 41, Loss: 11.978\n",
      "Training DAGMM... Epoch: 42, Loss: 11.642\n",
      "Training DAGMM... Epoch: 43, Loss: 11.317\n",
      "Training DAGMM... Epoch: 44, Loss: 11.004\n",
      "Training DAGMM... Epoch: 45, Loss: 10.702\n",
      "Training DAGMM... Epoch: 46, Loss: 10.409\n",
      "Training DAGMM... Epoch: 47, Loss: 10.127\n",
      "Training DAGMM... Epoch: 48, Loss: 9.854\n",
      "Training DAGMM... Epoch: 49, Loss: 9.590\n",
      "Training DAGMM... Epoch: 50, Loss: 9.335\n",
      "Training DAGMM... Epoch: 51, Loss: 9.088\n",
      "Training DAGMM... Epoch: 52, Loss: 8.849\n",
      "Training DAGMM... Epoch: 53, Loss: 8.618\n",
      "Training DAGMM... Epoch: 54, Loss: 8.395\n",
      "Training DAGMM... Epoch: 55, Loss: 8.178\n",
      "Training DAGMM... Epoch: 56, Loss: 7.969\n",
      "Training DAGMM... Epoch: 57, Loss: 7.766\n",
      "Training DAGMM... Epoch: 58, Loss: 7.569\n",
      "Training DAGMM... Epoch: 59, Loss: 7.379\n",
      "Training DAGMM... Epoch: 60, Loss: 7.194\n",
      "Training DAGMM... Epoch: 61, Loss: 7.015\n",
      "Training DAGMM... Epoch: 62, Loss: 6.842\n",
      "Training DAGMM... Epoch: 63, Loss: 6.674\n",
      "Training DAGMM... Epoch: 64, Loss: 6.511\n",
      "Training DAGMM... Epoch: 65, Loss: 6.353\n",
      "Training DAGMM... Epoch: 66, Loss: 6.200\n",
      "Training DAGMM... Epoch: 67, Loss: 6.051\n",
      "Training DAGMM... Epoch: 68, Loss: 5.906\n",
      "Training DAGMM... Epoch: 69, Loss: 5.766\n",
      "Training DAGMM... Epoch: 70, Loss: 5.630\n",
      "Training DAGMM... Epoch: 71, Loss: 5.498\n",
      "Training DAGMM... Epoch: 72, Loss: 5.370\n",
      "Training DAGMM... Epoch: 73, Loss: 5.246\n",
      "Training DAGMM... Epoch: 74, Loss: 5.125\n",
      "Training DAGMM... Epoch: 75, Loss: 5.007\n",
      "Training DAGMM... Epoch: 76, Loss: 4.893\n",
      "Training DAGMM... Epoch: 77, Loss: 4.782\n",
      "Training DAGMM... Epoch: 78, Loss: 4.674\n",
      "Training DAGMM... Epoch: 79, Loss: 4.570\n",
      "Training DAGMM... Epoch: 80, Loss: 4.468\n",
      "Training DAGMM... Epoch: 81, Loss: 4.369\n",
      "Training DAGMM... Epoch: 82, Loss: 4.273\n",
      "Training DAGMM... Epoch: 83, Loss: 4.179\n",
      "Training DAGMM... Epoch: 84, Loss: 4.088\n",
      "Training DAGMM... Epoch: 85, Loss: 3.999\n",
      "Training DAGMM... Epoch: 86, Loss: 3.913\n",
      "Training DAGMM... Epoch: 87, Loss: 3.829\n",
      "Training DAGMM... Epoch: 88, Loss: 3.748\n",
      "Training DAGMM... Epoch: 89, Loss: 3.669\n",
      "Training DAGMM... Epoch: 90, Loss: 3.591\n",
      "Training DAGMM... Epoch: 91, Loss: 3.516\n",
      "Training DAGMM... Epoch: 92, Loss: 3.443\n",
      "Training DAGMM... Epoch: 93, Loss: 3.372\n",
      "Training DAGMM... Epoch: 94, Loss: 3.302\n",
      "Training DAGMM... Epoch: 95, Loss: 3.235\n",
      "Training DAGMM... Epoch: 96, Loss: 3.169\n",
      "Training DAGMM... Epoch: 97, Loss: 3.105\n",
      "Training DAGMM... Epoch: 98, Loss: 3.043\n",
      "Training DAGMM... Epoch: 99, Loss: 2.982\n",
      "Training DAGMM... Epoch: 100, Loss: 2.923\n",
      "Training DAGMM... Epoch: 101, Loss: 2.865\n",
      "Training DAGMM... Epoch: 102, Loss: 2.809\n",
      "Training DAGMM... Epoch: 103, Loss: 2.754\n",
      "Training DAGMM... Epoch: 104, Loss: 2.701\n",
      "Training DAGMM... Epoch: 105, Loss: 2.649\n",
      "Training DAGMM... Epoch: 106, Loss: 2.598\n",
      "Training DAGMM... Epoch: 107, Loss: 2.549\n",
      "Training DAGMM... Epoch: 108, Loss: 2.501\n",
      "Training DAGMM... Epoch: 109, Loss: 2.454\n",
      "Training DAGMM... Epoch: 110, Loss: 2.408\n",
      "Training DAGMM... Epoch: 111, Loss: 2.364\n",
      "Training DAGMM... Epoch: 112, Loss: 2.320\n",
      "Training DAGMM... Epoch: 113, Loss: 2.278\n",
      "Training DAGMM... Epoch: 114, Loss: 2.237\n",
      "Training DAGMM... Epoch: 115, Loss: 2.197\n",
      "Training DAGMM... Epoch: 116, Loss: 2.158\n",
      "Training DAGMM... Epoch: 117, Loss: 2.119\n",
      "Training DAGMM... Epoch: 118, Loss: 2.082\n",
      "Training DAGMM... Epoch: 119, Loss: 2.046\n",
      "Training DAGMM... Epoch: 120, Loss: 2.010\n",
      "Training DAGMM... Epoch: 121, Loss: 1.976\n",
      "Training DAGMM... Epoch: 122, Loss: 1.942\n",
      "Training DAGMM... Epoch: 123, Loss: 1.909\n",
      "Training DAGMM... Epoch: 124, Loss: 1.877\n",
      "Training DAGMM... Epoch: 125, Loss: 1.846\n",
      "Training DAGMM... Epoch: 126, Loss: 1.816\n",
      "Training DAGMM... Epoch: 127, Loss: 1.786\n",
      "Training DAGMM... Epoch: 128, Loss: 1.757\n",
      "Training DAGMM... Epoch: 129, Loss: 1.729\n",
      "Training DAGMM... Epoch: 130, Loss: 1.701\n",
      "Training DAGMM... Epoch: 131, Loss: 1.674\n",
      "Training DAGMM... Epoch: 132, Loss: 1.648\n",
      "Training DAGMM... Epoch: 133, Loss: 1.622\n",
      "Training DAGMM... Epoch: 134, Loss: 1.597\n",
      "Training DAGMM... Epoch: 135, Loss: 1.573\n",
      "Training DAGMM... Epoch: 136, Loss: 1.549\n",
      "Training DAGMM... Epoch: 137, Loss: 1.526\n",
      "Training DAGMM... Epoch: 138, Loss: 1.503\n",
      "Training DAGMM... Epoch: 139, Loss: 1.481\n",
      "Training DAGMM... Epoch: 140, Loss: 1.460\n",
      "Training DAGMM... Epoch: 141, Loss: 1.439\n",
      "Training DAGMM... Epoch: 142, Loss: 1.419\n",
      "Training DAGMM... Epoch: 143, Loss: 1.400\n",
      "Training DAGMM... Epoch: 144, Loss: 1.381\n",
      "Training DAGMM... Epoch: 145, Loss: 1.363\n",
      "Training DAGMM... Epoch: 146, Loss: 1.345\n",
      "Training DAGMM... Epoch: 147, Loss: 1.328\n",
      "Training DAGMM... Epoch: 148, Loss: 1.312\n",
      "Training DAGMM... Epoch: 149, Loss: 1.296\n",
      "Training DAGMM... Epoch: 150, Loss: 1.281\n",
      "Training DAGMM... Epoch: 151, Loss: 1.266\n",
      "Training DAGMM... Epoch: 152, Loss: 1.252\n",
      "Training DAGMM... Epoch: 153, Loss: 1.238\n",
      "Training DAGMM... Epoch: 154, Loss: 1.225\n",
      "Training DAGMM... Epoch: 155, Loss: 1.212\n",
      "Training DAGMM... Epoch: 156, Loss: 1.200\n",
      "Training DAGMM... Epoch: 157, Loss: 1.187\n",
      "Training DAGMM... Epoch: 158, Loss: 1.176\n",
      "Training DAGMM... Epoch: 159, Loss: 1.165\n",
      "Training DAGMM... Epoch: 160, Loss: 1.154\n",
      "Training DAGMM... Epoch: 161, Loss: 1.143\n",
      "Training DAGMM... Epoch: 162, Loss: 1.133\n",
      "Training DAGMM... Epoch: 163, Loss: 1.123\n",
      "Training DAGMM... Epoch: 164, Loss: 1.113\n",
      "Training DAGMM... Epoch: 165, Loss: 1.104\n",
      "Training DAGMM... Epoch: 166, Loss: 1.095\n",
      "Training DAGMM... Epoch: 167, Loss: 1.086\n",
      "Training DAGMM... Epoch: 168, Loss: 1.077\n",
      "Training DAGMM... Epoch: 169, Loss: 1.069\n",
      "Training DAGMM... Epoch: 170, Loss: 1.061\n",
      "Training DAGMM... Epoch: 171, Loss: 1.053\n",
      "Training DAGMM... Epoch: 172, Loss: 1.045\n",
      "Training DAGMM... Epoch: 173, Loss: 1.038\n",
      "Training DAGMM... Epoch: 174, Loss: 1.030\n",
      "Training DAGMM... Epoch: 175, Loss: 1.023\n",
      "Training DAGMM... Epoch: 176, Loss: 1.016\n",
      "Training DAGMM... Epoch: 177, Loss: 1.010\n",
      "Training DAGMM... Epoch: 178, Loss: 1.003\n",
      "Training DAGMM... Epoch: 179, Loss: 0.997\n",
      "Training DAGMM... Epoch: 180, Loss: 0.990\n",
      "Training DAGMM... Epoch: 181, Loss: 0.984\n",
      "Training DAGMM... Epoch: 182, Loss: 0.978\n",
      "Training DAGMM... Epoch: 183, Loss: 0.972\n",
      "Training DAGMM... Epoch: 184, Loss: 0.967\n",
      "Training DAGMM... Epoch: 185, Loss: 0.961\n",
      "Training DAGMM... Epoch: 186, Loss: 0.956\n",
      "Training DAGMM... Epoch: 187, Loss: 0.950\n",
      "Training DAGMM... Epoch: 188, Loss: 0.945\n",
      "Training DAGMM... Epoch: 189, Loss: 0.940\n",
      "Training DAGMM... Epoch: 190, Loss: 0.935\n",
      "Training DAGMM... Epoch: 191, Loss: 0.930\n",
      "Training DAGMM... Epoch: 192, Loss: 0.925\n",
      "Training DAGMM... Epoch: 193, Loss: 0.920\n",
      "Training DAGMM... Epoch: 194, Loss: 0.915\n",
      "Training DAGMM... Epoch: 195, Loss: 0.911\n",
      "Training DAGMM... Epoch: 196, Loss: 0.906\n",
      "Training DAGMM... Epoch: 197, Loss: 0.902\n",
      "Training DAGMM... Epoch: 198, Loss: 0.898\n",
      "Training DAGMM... Epoch: 199, Loss: 0.893\n"
     ]
    }
   ],
   "source": [
    "dagmm = TrainerDAGMM(args, X_NN)\n",
    "dagmm.train()"
   ]
  },
  {
   "cell_type": "code",
   "execution_count": 10,
   "metadata": {},
   "outputs": [
    {
     "name": "stdout",
     "output_type": "stream",
     "text": [
      "torch.Size([21600, 2]) torch.Size([21600, 117]) torch.Size([21600, 4]) torch.Size([21600, 6])\n",
      "torch.Size([6]) torch.Size([6, 4]) torch.Size([6, 4, 4])\n",
      "torch.Size([90, 240, 4]) torch.Size([90, 240, 4])\n"
     ]
    }
   ],
   "source": [
    "with torch.no_grad():\n",
    "    z, x_hat, aug_z, gamma = dagmm.model(X_NN.to(args.device))\n",
    "    print(z.shape, x_hat.shape, aug_z.shape, gamma.shape)\n",
    "    \n",
    "    # compute phi, mu, and cov using the training dataset\n",
    "    hp_gmm = dagmm.compute.compute_params(aug_z, gamma)\n",
    "    print(hp_gmm[0].shape, hp_gmm[1].shape, hp_gmm[2].shape)\n",
    "    \n",
    "    # reshape data to compute negative log likelihood\n",
    "    aug_z = aug_z.reshape((R,T,args.latent_dim+2))\n",
    "    zy, y_hat, aug_zy , _ = dagmm.model(Y_NN.to(args.device))\n",
    "    aug_zy = aug_zy.reshape((R,T,args.latent_dim+2))\n",
    "    print(aug_z.shape, aug_zy.shape)\n",
    "    \n",
    "    # compute likelihood for correct and incorrect motions\n",
    "    lik = {\"corr\":[],\"incorr\":[]}\n",
    "    for r in range(R):\n",
    "        cl,_ = dagmm.compute.compute_energy(aug_z[r], gamma, *hp_gmm)\n",
    "        lik[\"corr\"].append(-cl.cpu())\n",
    "        il,_ = dagmm.compute.compute_energy(aug_zy[r], gamma, *hp_gmm)\n",
    "        lik[\"incorr\"].append(-il.cpu())"
   ]
  },
  {
   "cell_type": "code",
   "execution_count": 11,
   "metadata": {},
   "outputs": [
    {
     "data": {
      "image/png": "[encoded data removed]",
      "text/plain": [
       "<Figure size 640x480 with 1 Axes>"
      ]
     },
     "metadata": {},
     "output_type": "display_data"
    }
   ],
   "source": [
    "plt.scatter(np.arange(1,91),lik[\"corr\"], label = \"Correct Sequences\")\n",
    "plt.scatter(np.arange(1,91),lik[\"incorr\"], label = \"Incorrect Sequences\")\n",
    "plt.xlabel(\"Sequence Number\")\n",
    "plt.ylabel(\"Log-Likelihood\")\n",
    "plt.legend()\n",
    "plt.show()"
   ]
  },
  {
   "cell_type": "code",
   "execution_count": null,
   "metadata": {},
   "outputs": [],
   "source": []
  }
 ],
 "metadata": {
  "kernelspec": {
   "display_name": "Python 3 (ipykernel)",
   "language": "python",
   "name": "python3"
  },
  "language_info": {
   "codemirror_mode": {
    "name": "ipython",
    "version": 3
   },
   "file_extension": ".py",
   "mimetype": "text/x-python",
   "name": "python",
   "nbconvert_exporter": "python",
   "pygments_lexer": "ipython3",
   "version": "3.11.9"
  }
 },
 "nbformat": 4,
 "nbformat_minor": 4
}
