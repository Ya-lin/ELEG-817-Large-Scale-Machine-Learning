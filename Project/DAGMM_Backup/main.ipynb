{
 "cells": [
  {
   "cell_type": "code",
   "execution_count": 1,
   "metadata": {},
   "outputs": [],
   "source": [
    "from pathlib import Path\n",
    "import numpy as np\n",
    "import torch\n",
    "\n",
    "import matplotlib.pyplot as plt\n",
    "import pandas as pd \n",
    "\n",
    "from train import TrainerDAGMM"
   ]
  },
  {
   "cell_type": "code",
   "execution_count": 2,
   "metadata": {},
   "outputs": [
    {
     "data": {
      "text/plain": [
       "{'num_epochs': 200,\n",
       " 'patience': 50,\n",
       " 'lr': 0.0001,\n",
       " 'lr_milestones': [50],\n",
       " 'latent_dim': 2,\n",
       " 'n_gmm': 6,\n",
       " 'lambda_energy': 0.1,\n",
       " 'lambda_cov': 0.005,\n",
       " 'device': 'cuda'}"
      ]
     },
     "execution_count": 2,
     "metadata": {},
     "output_type": "execute_result"
    }
   ],
   "source": [
    "class Args:\n",
    "    def __init__(self):\n",
    "        self.num_epochs = 200\n",
    "        self.patience = 50\n",
    "        self.lr = 1e-4\n",
    "        self.lr_milestones = [50]\n",
    "        self.latent_dim = 2\n",
    "        self.n_gmm = 6\n",
    "        self.lambda_energy = 0.1\n",
    "        self.lambda_cov = 0.005\n",
    "        self.device = 'cuda' if torch.cuda.is_available() else 'cpu'\n",
    "\n",
    "args = Args()\n",
    "vars(args)"
   ]
  },
  {
   "cell_type": "code",
   "execution_count": 3,
   "metadata": {},
   "outputs": [],
   "source": [
    "path = Path.home().joinpath(\"Documents\",\"Data\",\"Rehabilitation\")\n",
    "path.mkdir(exist_ok=True)\n",
    "def get_data():\n",
    "    X = pd.read_csv(path.joinpath(\"Data_Correct.csv\"),header=None)\n",
    "    Y = pd.read_csv(path.joinpath(\"Data_Incorrect.csv\"),header=None)\n",
    "    X = X.to_numpy()\n",
    "    Y = Y.to_numpy()\n",
    "    return X, Y"
   ]
  },
  {
   "cell_type": "code",
   "execution_count": 4,
   "metadata": {},
   "outputs": [
    {
     "name": "stdout",
     "output_type": "stream",
     "text": [
      "(10530, 240)\n",
      "(10530, 240)\n"
     ]
    }
   ],
   "source": [
    "X, Y = get_data()\n",
    "print(X.shape)\n",
    "print(Y.shape)"
   ]
  },
  {
   "cell_type": "code",
   "execution_count": 5,
   "metadata": {},
   "outputs": [],
   "source": [
    "n_dim = 117\n",
    "T = X.shape[1]\n",
    "R = int(X.shape[0]/n_dim)\n",
    "def two2three(X, R, T, n_dim):\n",
    "    X_NN = np.zeros((R,T,n_dim))\n",
    "    for r in range(R):\n",
    "        X_NN[r,:,:] = X[r*n_dim:(r+1)*n_dim,:].T\n",
    "    X_NN = torch.tensor(X_NN).float()\n",
    "    return X_NN.reshape((-1,n_dim))"
   ]
  },
  {
   "cell_type": "code",
   "execution_count": 6,
   "metadata": {},
   "outputs": [
    {
     "name": "stdout",
     "output_type": "stream",
     "text": [
      "torch.Size([21600, 117])\n",
      "torch.Size([21600, 117])\n"
     ]
    }
   ],
   "source": [
    "X_NN = two2three(X, R, T, n_dim)\n",
    "Y_NN = two2three(Y, R, T, n_dim)\n",
    "print(X_NN.shape)\n",
    "print(Y_NN.shape)"
   ]
  },
  {
   "cell_type": "code",
   "execution_count": 7,
   "metadata": {},
   "outputs": [],
   "source": [
    "dagmm = TrainerDAGMM(args, X_NN)"
   ]
  },
  {
   "cell_type": "code",
   "execution_count": 8,
   "metadata": {},
   "outputs": [
    {
     "data": {
      "text/plain": [
       "(torch.Size([21600, 2]),\n",
       " torch.Size([21600, 117]),\n",
       " torch.Size([21600, 4]),\n",
       " torch.Size([21600, 6]))"
      ]
     },
     "execution_count": 8,
     "metadata": {},
     "output_type": "execute_result"
    }
   ],
   "source": [
    "z_c, x_hat, z, gamma = dagmm.model(X_NN.to(args.device))\n",
    "z_c.shape, x_hat.shape, z.shape, gamma.shape"
   ]
  },
  {
   "cell_type": "code",
   "execution_count": 9,
   "metadata": {},
   "outputs": [
    {
     "name": "stdout",
     "output_type": "stream",
     "text": [
      "Training DAGMM... Epoch: 0, Loss: 1101.967\n",
      "Training DAGMM... Epoch: 1, Loss: 1018.101\n",
      "Training DAGMM... Epoch: 2, Loss: 934.569\n",
      "Training DAGMM... Epoch: 3, Loss: 852.984\n",
      "Training DAGMM... Epoch: 4, Loss: 774.894\n",
      "Training DAGMM... Epoch: 5, Loss: 701.490\n",
      "Training DAGMM... Epoch: 6, Loss: 633.543\n",
      "Training DAGMM... Epoch: 7, Loss: 571.417\n",
      "Training DAGMM... Epoch: 8, Loss: 515.157\n",
      "Training DAGMM... Epoch: 9, Loss: 464.573\n",
      "Training DAGMM... Epoch: 10, Loss: 419.321\n",
      "Training DAGMM... Epoch: 11, Loss: 378.977\n",
      "Training DAGMM... Epoch: 12, Loss: 343.081\n",
      "Training DAGMM... Epoch: 13, Loss: 311.174\n",
      "Training DAGMM... Epoch: 14, Loss: 282.815\n",
      "Training DAGMM... Epoch: 15, Loss: 257.594\n",
      "Training DAGMM... Epoch: 16, Loss: 235.139\n",
      "Training DAGMM... Epoch: 17, Loss: 215.119\n",
      "Training DAGMM... Epoch: 18, Loss: 197.237\n",
      "Training DAGMM... Epoch: 19, Loss: 181.233\n",
      "Training DAGMM... Epoch: 20, Loss: 166.879\n",
      "Training DAGMM... Epoch: 21, Loss: 153.977\n",
      "Training DAGMM... Epoch: 22, Loss: 142.354\n",
      "Training DAGMM... Epoch: 23, Loss: 131.858\n",
      "Training DAGMM... Epoch: 24, Loss: 122.359\n",
      "Training DAGMM... Epoch: 25, Loss: 113.743\n",
      "Training DAGMM... Epoch: 26, Loss: 105.910\n",
      "Training DAGMM... Epoch: 27, Loss: 98.773\n",
      "Training DAGMM... Epoch: 28, Loss: 92.256\n",
      "Training DAGMM... Epoch: 29, Loss: 86.294\n",
      "Training DAGMM... Epoch: 30, Loss: 80.828\n",
      "Training DAGMM... Epoch: 31, Loss: 75.808\n",
      "Training DAGMM... Epoch: 32, Loss: 71.187\n",
      "Training DAGMM... Epoch: 33, Loss: 66.928\n",
      "Training DAGMM... Epoch: 34, Loss: 62.994\n",
      "Training DAGMM... Epoch: 35, Loss: 59.355\n",
      "Training DAGMM... Epoch: 36, Loss: 55.983\n",
      "Training DAGMM... Epoch: 37, Loss: 52.854\n",
      "Training DAGMM... Epoch: 38, Loss: 49.947\n",
      "Training DAGMM... Epoch: 39, Loss: 47.241\n",
      "Training DAGMM... Epoch: 40, Loss: 44.719\n",
      "Training DAGMM... Epoch: 41, Loss: 42.367\n",
      "Training DAGMM... Epoch: 42, Loss: 40.169\n",
      "Training DAGMM... Epoch: 43, Loss: 38.113\n",
      "Training DAGMM... Epoch: 44, Loss: 36.188\n",
      "Training DAGMM... Epoch: 45, Loss: 34.384\n",
      "Training DAGMM... Epoch: 46, Loss: 32.692\n",
      "Training DAGMM... Epoch: 47, Loss: 31.102\n",
      "Training DAGMM... Epoch: 48, Loss: 29.607\n",
      "Training DAGMM... Epoch: 49, Loss: 28.201\n",
      "Training DAGMM... Epoch: 50, Loss: 26.877\n",
      "Training DAGMM... Epoch: 51, Loss: 25.628\n",
      "Training DAGMM... Epoch: 52, Loss: 24.451\n",
      "Training DAGMM... Epoch: 53, Loss: 23.340\n",
      "Training DAGMM... Epoch: 54, Loss: 22.290\n",
      "Training DAGMM... Epoch: 55, Loss: 21.298\n",
      "Training DAGMM... Epoch: 56, Loss: 20.359\n",
      "Training DAGMM... Epoch: 57, Loss: 19.470\n",
      "Training DAGMM... Epoch: 58, Loss: 18.629\n",
      "Training DAGMM... Epoch: 59, Loss: 17.831\n",
      "Training DAGMM... Epoch: 60, Loss: 17.075\n",
      "Training DAGMM... Epoch: 61, Loss: 16.358\n",
      "Training DAGMM... Epoch: 62, Loss: 15.677\n",
      "Training DAGMM... Epoch: 63, Loss: 15.030\n",
      "Training DAGMM... Epoch: 64, Loss: 14.415\n",
      "Training DAGMM... Epoch: 65, Loss: 13.831\n",
      "Training DAGMM... Epoch: 66, Loss: 13.276\n",
      "Training DAGMM... Epoch: 67, Loss: 12.747\n",
      "Training DAGMM... Epoch: 68, Loss: 12.244\n",
      "Training DAGMM... Epoch: 69, Loss: 11.765\n",
      "Training DAGMM... Epoch: 70, Loss: 11.309\n",
      "Training DAGMM... Epoch: 71, Loss: 10.874\n",
      "Training DAGMM... Epoch: 72, Loss: 10.460\n",
      "Training DAGMM... Epoch: 73, Loss: 10.065\n",
      "Training DAGMM... Epoch: 74, Loss: 9.688\n",
      "Training DAGMM... Epoch: 75, Loss: 9.329\n",
      "Training DAGMM... Epoch: 76, Loss: 8.986\n",
      "Training DAGMM... Epoch: 77, Loss: 8.658\n",
      "Training DAGMM... Epoch: 78, Loss: 8.346\n",
      "Training DAGMM... Epoch: 79, Loss: 8.047\n",
      "Training DAGMM... Epoch: 80, Loss: 7.762\n",
      "Training DAGMM... Epoch: 81, Loss: 7.490\n",
      "Training DAGMM... Epoch: 82, Loss: 7.230\n",
      "Training DAGMM... Epoch: 83, Loss: 6.981\n",
      "Training DAGMM... Epoch: 84, Loss: 6.743\n",
      "Training DAGMM... Epoch: 85, Loss: 6.516\n",
      "Training DAGMM... Epoch: 86, Loss: 6.298\n",
      "Training DAGMM... Epoch: 87, Loss: 6.090\n",
      "Training DAGMM... Epoch: 88, Loss: 5.891\n",
      "Training DAGMM... Epoch: 89, Loss: 5.701\n",
      "Training DAGMM... Epoch: 90, Loss: 5.519\n",
      "Training DAGMM... Epoch: 91, Loss: 5.344\n",
      "Training DAGMM... Epoch: 92, Loss: 5.177\n",
      "Training DAGMM... Epoch: 93, Loss: 5.017\n",
      "Training DAGMM... Epoch: 94, Loss: 4.863\n",
      "Training DAGMM... Epoch: 95, Loss: 4.716\n",
      "Training DAGMM... Epoch: 96, Loss: 4.575\n",
      "Training DAGMM... Epoch: 97, Loss: 4.440\n",
      "Training DAGMM... Epoch: 98, Loss: 4.311\n",
      "Training DAGMM... Epoch: 99, Loss: 4.186\n",
      "Training DAGMM... Epoch: 100, Loss: 4.067\n",
      "Training DAGMM... Epoch: 101, Loss: 3.953\n",
      "Training DAGMM... Epoch: 102, Loss: 3.843\n",
      "Training DAGMM... Epoch: 103, Loss: 3.737\n",
      "Training DAGMM... Epoch: 104, Loss: 3.636\n",
      "Training DAGMM... Epoch: 105, Loss: 3.539\n",
      "Training DAGMM... Epoch: 106, Loss: 3.446\n",
      "Training DAGMM... Epoch: 107, Loss: 3.356\n",
      "Training DAGMM... Epoch: 108, Loss: 3.269\n",
      "Training DAGMM... Epoch: 109, Loss: 3.186\n",
      "Training DAGMM... Epoch: 110, Loss: 3.106\n",
      "Training DAGMM... Epoch: 111, Loss: 3.029\n",
      "Training DAGMM... Epoch: 112, Loss: 2.955\n",
      "Training DAGMM... Epoch: 113, Loss: 2.884\n",
      "Training DAGMM... Epoch: 114, Loss: 2.815\n",
      "Training DAGMM... Epoch: 115, Loss: 2.748\n",
      "Training DAGMM... Epoch: 116, Loss: 2.684\n",
      "Training DAGMM... Epoch: 117, Loss: 2.622\n",
      "Training DAGMM... Epoch: 118, Loss: 2.563\n",
      "Training DAGMM... Epoch: 119, Loss: 2.505\n",
      "Training DAGMM... Epoch: 120, Loss: 2.449\n",
      "Training DAGMM... Epoch: 121, Loss: 2.395\n",
      "Training DAGMM... Epoch: 122, Loss: 2.343\n",
      "Training DAGMM... Epoch: 123, Loss: 2.293\n",
      "Training DAGMM... Epoch: 124, Loss: 2.244\n",
      "Training DAGMM... Epoch: 125, Loss: 2.197\n",
      "Training DAGMM... Epoch: 126, Loss: 2.151\n",
      "Training DAGMM... Epoch: 127, Loss: 2.107\n",
      "Training DAGMM... Epoch: 128, Loss: 2.064\n",
      "Training DAGMM... Epoch: 129, Loss: 2.023\n",
      "Training DAGMM... Epoch: 130, Loss: 1.983\n",
      "Training DAGMM... Epoch: 131, Loss: 1.944\n",
      "Training DAGMM... Epoch: 132, Loss: 1.906\n",
      "Training DAGMM... Epoch: 133, Loss: 1.869\n",
      "Training DAGMM... Epoch: 134, Loss: 1.834\n",
      "Training DAGMM... Epoch: 135, Loss: 1.799\n",
      "Training DAGMM... Epoch: 136, Loss: 1.766\n",
      "Training DAGMM... Epoch: 137, Loss: 1.733\n",
      "Training DAGMM... Epoch: 138, Loss: 1.702\n",
      "Training DAGMM... Epoch: 139, Loss: 1.671\n",
      "Training DAGMM... Epoch: 140, Loss: 1.641\n",
      "Training DAGMM... Epoch: 141, Loss: 1.613\n",
      "Training DAGMM... Epoch: 142, Loss: 1.585\n",
      "Training DAGMM... Epoch: 143, Loss: 1.557\n",
      "Training DAGMM... Epoch: 144, Loss: 1.531\n",
      "Training DAGMM... Epoch: 145, Loss: 1.506\n",
      "Training DAGMM... Epoch: 146, Loss: 1.481\n",
      "Training DAGMM... Epoch: 147, Loss: 1.458\n",
      "Training DAGMM... Epoch: 148, Loss: 1.435\n",
      "Training DAGMM... Epoch: 149, Loss: 1.413\n",
      "Training DAGMM... Epoch: 150, Loss: 1.392\n",
      "Training DAGMM... Epoch: 151, Loss: 1.372\n",
      "Training DAGMM... Epoch: 152, Loss: 1.352\n",
      "Training DAGMM... Epoch: 153, Loss: 1.334\n",
      "Training DAGMM... Epoch: 154, Loss: 1.316\n",
      "Training DAGMM... Epoch: 155, Loss: 1.299\n",
      "Training DAGMM... Epoch: 156, Loss: 1.283\n",
      "Training DAGMM... Epoch: 157, Loss: 1.267\n",
      "Training DAGMM... Epoch: 158, Loss: 1.252\n",
      "Training DAGMM... Epoch: 159, Loss: 1.237\n",
      "Training DAGMM... Epoch: 160, Loss: 1.223\n",
      "Training DAGMM... Epoch: 161, Loss: 1.210\n",
      "Training DAGMM... Epoch: 162, Loss: 1.197\n",
      "Training DAGMM... Epoch: 163, Loss: 1.185\n",
      "Training DAGMM... Epoch: 164, Loss: 1.173\n",
      "Training DAGMM... Epoch: 165, Loss: 1.161\n",
      "Training DAGMM... Epoch: 166, Loss: 1.150\n",
      "Training DAGMM... Epoch: 167, Loss: 1.140\n",
      "Training DAGMM... Epoch: 168, Loss: 1.129\n",
      "Training DAGMM... Epoch: 169, Loss: 1.119\n",
      "Training DAGMM... Epoch: 170, Loss: 1.110\n",
      "Training DAGMM... Epoch: 171, Loss: 1.101\n",
      "Training DAGMM... Epoch: 172, Loss: 1.092\n",
      "Training DAGMM... Epoch: 173, Loss: 1.083\n",
      "Training DAGMM... Epoch: 174, Loss: 1.075\n",
      "Training DAGMM... Epoch: 175, Loss: 1.066\n",
      "Training DAGMM... Epoch: 176, Loss: 1.059\n",
      "Training DAGMM... Epoch: 177, Loss: 1.051\n",
      "Training DAGMM... Epoch: 178, Loss: 1.044\n",
      "Training DAGMM... Epoch: 179, Loss: 1.036\n",
      "Training DAGMM... Epoch: 180, Loss: 1.029\n",
      "Training DAGMM... Epoch: 181, Loss: 1.023\n",
      "Training DAGMM... Epoch: 182, Loss: 1.016\n",
      "Training DAGMM... Epoch: 183, Loss: 1.010\n",
      "Training DAGMM... Epoch: 184, Loss: 1.003\n",
      "Training DAGMM... Epoch: 185, Loss: 0.997\n",
      "Training DAGMM... Epoch: 186, Loss: 0.991\n",
      "Training DAGMM... Epoch: 187, Loss: 0.985\n",
      "Training DAGMM... Epoch: 188, Loss: 0.980\n",
      "Training DAGMM... Epoch: 189, Loss: 0.974\n",
      "Training DAGMM... Epoch: 190, Loss: 0.969\n",
      "Training DAGMM... Epoch: 191, Loss: 0.964\n",
      "Training DAGMM... Epoch: 192, Loss: 0.958\n",
      "Training DAGMM... Epoch: 193, Loss: 0.953\n",
      "Training DAGMM... Epoch: 194, Loss: 0.948\n",
      "Training DAGMM... Epoch: 195, Loss: 0.944\n",
      "Training DAGMM... Epoch: 196, Loss: 0.939\n",
      "Training DAGMM... Epoch: 197, Loss: 0.934\n",
      "Training DAGMM... Epoch: 198, Loss: 0.930\n",
      "Training DAGMM... Epoch: 199, Loss: 0.925\n"
     ]
    }
   ],
   "source": [
    "dagmm = TrainerDAGMM(args, X_NN)\n",
    "dagmm.train()"
   ]
  },
  {
   "cell_type": "code",
   "execution_count": 10,
   "metadata": {},
   "outputs": [
    {
     "name": "stdout",
     "output_type": "stream",
     "text": [
      "torch.Size([21600, 2]) torch.Size([21600, 117]) torch.Size([21600, 4]) torch.Size([21600, 6])\n",
      "torch.Size([6]) torch.Size([6, 4]) torch.Size([6, 4, 4])\n",
      "torch.Size([90, 240, 4]) torch.Size([90, 240, 4])\n"
     ]
    }
   ],
   "source": [
    "with torch.no_grad():\n",
    "    z, x_hat, aug_z, gamma = dagmm.model(X_NN.to(args.device))\n",
    "    print(z.shape, x_hat.shape, aug_z.shape, gamma.shape)\n",
    "    \n",
    "    # compute phi, mu, and cov using the training dataset\n",
    "    hp_gmm = dagmm.compute.compute_params(aug_z, gamma)\n",
    "    print(hp_gmm[0].shape, hp_gmm[1].shape, hp_gmm[2].shape)\n",
    "    \n",
    "    # reshape data to compute negative log likelihood\n",
    "    aug_z = aug_z.reshape((R,T,args.latent_dim+2))\n",
    "    zy, y_hat, aug_zy , _ = dagmm.model(Y_NN.to(args.device))\n",
    "    aug_zy = aug_zy.reshape((R,T,args.latent_dim+2))\n",
    "    print(aug_z.shape, aug_zy.shape)\n",
    "    \n",
    "    # compute likelihood for correct and incorrect motions\n",
    "    lik = {\"corr\":[],\"incorr\":[]}\n",
    "    for r in range(R):\n",
    "        cl,_ = dagmm.compute.compute_energy(aug_z[r], gamma, *hp_gmm)\n",
    "        lik[\"corr\"].append(-cl.cpu())\n",
    "        il,_ = dagmm.compute.compute_energy(aug_zy[r], gamma, *hp_gmm)\n",
    "        lik[\"incorr\"].append(-il.cpu())"
   ]
  },
  {
   "cell_type": "code",
   "execution_count": 11,
   "metadata": {},
   "outputs": [
    {
     "data": {
      "image/png": "[encoded data removed]",
      "text/plain": [
       "<Figure size 640x480 with 1 Axes>"
      ]
     },
     "metadata": {},
     "output_type": "display_data"
    }
   ],
   "source": [
    "plt.scatter(np.arange(1,91),lik[\"corr\"], label = \"Correct Sequences\")\n",
    "plt.scatter(np.arange(1,91),lik[\"incorr\"], label = \"Incorrect Sequences\")\n",
    "plt.xlabel(\"Sequence Number\")\n",
    "plt.ylabel(\"Log-Likelihood\")\n",
    "plt.legend()\n",
    "plt.show()"
   ]
  },
  {
   "cell_type": "code",
   "execution_count": null,
   "metadata": {},
   "outputs": [],
   "source": []
  }
 ],
 "metadata": {
  "kernelspec": {
   "display_name": "Python 3 (ipykernel)",
   "language": "python",
   "name": "python3"
  },
  "language_info": {
   "codemirror_mode": {
    "name": "ipython",
    "version": 3
   },
   "file_extension": ".py",
   "mimetype": "text/x-python",
   "name": "python",
   "nbconvert_exporter": "python",
   "pygments_lexer": "ipython3",
   "version": "3.11.9"
  }
 },
 "nbformat": 4,
 "nbformat_minor": 4
}
