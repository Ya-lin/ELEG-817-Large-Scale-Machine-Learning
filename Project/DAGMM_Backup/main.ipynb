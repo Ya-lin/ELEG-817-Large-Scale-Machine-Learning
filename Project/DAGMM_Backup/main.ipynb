{
 "cells": [
  {
   "cell_type": "code",
   "execution_count": 1,
   "metadata": {},
   "outputs": [],
   "source": [
    "from pathlib import Path\n",
    "from types import SimpleNamespace\n",
    "import numpy as np\n",
    "import torch\n",
    "\n",
    "import matplotlib.pyplot as plt\n",
    "import pandas as pd \n",
    "\n",
    "from train import TrainerDAGMM"
   ]
  },
  {
   "cell_type": "code",
   "execution_count": 2,
   "metadata": {},
   "outputs": [
    {
     "name": "stdout",
     "output_type": "stream",
     "text": [
      "namespace(num_epochs=200, lr=0.0001, latent_dim=2, n_gmm=6, lambda_energy=0.1, lambda_cov=0.005, device='cuda')\n"
     ]
    }
   ],
   "source": [
    "args = {}\n",
    "args[\"num_epochs\"] = 200\n",
    "args[\"lr\"] = 1e-4\n",
    "args[\"latent_dim\"] = 2\n",
    "args[\"n_gmm\"] = 6\n",
    "args[\"lambda_energy\"] = 0.1\n",
    "args[\"lambda_cov\"] = 0.005\n",
    "args[\"device\"] = 'cuda' if torch.cuda.is_available() else 'cpu'\n",
    "args = SimpleNamespace(**args)\n",
    "print(args)"
   ]
  },
  {
   "cell_type": "code",
   "execution_count": 3,
   "metadata": {},
   "outputs": [],
   "source": [
    "path = Path.home().joinpath(\"Documents\",\"Data\",\"Rehabilitation\")\n",
    "path.mkdir(exist_ok=True)\n",
    "def get_data():\n",
    "    X = pd.read_csv(path.joinpath(\"Data_Correct.csv\"),header=None)\n",
    "    Y = pd.read_csv(path.joinpath(\"Data_Incorrect.csv\"),header=None)\n",
    "    X = X.to_numpy()\n",
    "    Y = Y.to_numpy()\n",
    "    return X, Y"
   ]
  },
  {
   "cell_type": "code",
   "execution_count": 4,
   "metadata": {},
   "outputs": [
    {
     "name": "stdout",
     "output_type": "stream",
     "text": [
      "(10530, 240)\n",
      "(10530, 240)\n"
     ]
    }
   ],
   "source": [
    "X, Y = get_data()\n",
    "print(X.shape)\n",
    "print(Y.shape)"
   ]
  },
  {
   "cell_type": "code",
   "execution_count": 5,
   "metadata": {},
   "outputs": [],
   "source": [
    "n_dim = 117\n",
    "T = X.shape[1]\n",
    "R = int(X.shape[0]/n_dim)\n",
    "def two2three(X, R, T, n_dim):\n",
    "    X_NN = np.zeros((R,T,n_dim))\n",
    "    for r in range(R):\n",
    "        X_NN[r,:,:] = X[r*n_dim:(r+1)*n_dim,:].T\n",
    "    X_NN = torch.tensor(X_NN).float()\n",
    "    return X_NN.reshape((-1,n_dim))"
   ]
  },
  {
   "cell_type": "code",
   "execution_count": 6,
   "metadata": {},
   "outputs": [
    {
     "name": "stdout",
     "output_type": "stream",
     "text": [
      "torch.Size([21600, 117])\n",
      "torch.Size([21600, 117])\n"
     ]
    }
   ],
   "source": [
    "X_NN = two2three(X, R, T, n_dim)\n",
    "Y_NN = two2three(Y, R, T, n_dim)\n",
    "print(X_NN.shape)\n",
    "print(Y_NN.shape)"
   ]
  },
  {
   "cell_type": "code",
   "execution_count": 7,
   "metadata": {},
   "outputs": [],
   "source": [
    "dagmm = TrainerDAGMM(args, X_NN)"
   ]
  },
  {
   "cell_type": "code",
   "execution_count": 8,
   "metadata": {},
   "outputs": [
    {
     "data": {
      "text/plain": [
       "(torch.Size([21600, 2]),\n",
       " torch.Size([21600, 117]),\n",
       " torch.Size([21600, 4]),\n",
       " torch.Size([21600, 6]))"
      ]
     },
     "execution_count": 8,
     "metadata": {},
     "output_type": "execute_result"
    }
   ],
   "source": [
    "z_c, x_hat, z, gamma = dagmm.model(X_NN.to(args.device))\n",
    "z_c.shape, x_hat.shape, z.shape, gamma.shape"
   ]
  },
  {
   "cell_type": "code",
   "execution_count": 9,
   "metadata": {},
   "outputs": [
    {
     "name": "stdout",
     "output_type": "stream",
     "text": [
      "Training DAGMM... Epoch: 0, Loss: 706.000\n",
      "Training DAGMM... Epoch: 1, Loss: 626.183\n",
      "Training DAGMM... Epoch: 2, Loss: 546.313\n",
      "Training DAGMM... Epoch: 3, Loss: 472.836\n",
      "Training DAGMM... Epoch: 4, Loss: 408.715\n",
      "Training DAGMM... Epoch: 5, Loss: 354.415\n",
      "Training DAGMM... Epoch: 6, Loss: 309.116\n",
      "Training DAGMM... Epoch: 7, Loss: 271.521\n",
      "Training DAGMM... Epoch: 8, Loss: 240.292\n",
      "Training DAGMM... Epoch: 9, Loss: 214.232\n",
      "Training DAGMM... Epoch: 10, Loss: 192.337\n",
      "Training DAGMM... Epoch: 11, Loss: 173.797\n",
      "Training DAGMM... Epoch: 12, Loss: 157.963\n",
      "Training DAGMM... Epoch: 13, Loss: 144.323\n",
      "Training DAGMM... Epoch: 14, Loss: 132.471\n",
      "Training DAGMM... Epoch: 15, Loss: 122.089\n",
      "Training DAGMM... Epoch: 16, Loss: 112.924\n",
      "Training DAGMM... Epoch: 17, Loss: 104.775\n",
      "Training DAGMM... Epoch: 18, Loss: 97.484\n",
      "Training DAGMM... Epoch: 19, Loss: 90.923\n",
      "Training DAGMM... Epoch: 20, Loss: 84.987\n",
      "Training DAGMM... Epoch: 21, Loss: 79.595\n",
      "Training DAGMM... Epoch: 22, Loss: 74.675\n",
      "Training DAGMM... Epoch: 23, Loss: 70.173\n",
      "Training DAGMM... Epoch: 24, Loss: 66.039\n",
      "Training DAGMM... Epoch: 25, Loss: 62.234\n",
      "Training DAGMM... Epoch: 26, Loss: 58.724\n",
      "Training DAGMM... Epoch: 27, Loss: 55.478\n",
      "Training DAGMM... Epoch: 28, Loss: 52.471\n",
      "Training DAGMM... Epoch: 29, Loss: 49.681\n",
      "Training DAGMM... Epoch: 30, Loss: 47.088\n",
      "Training DAGMM... Epoch: 31, Loss: 44.675\n",
      "Training DAGMM... Epoch: 32, Loss: 42.425\n",
      "Training DAGMM... Epoch: 33, Loss: 40.325\n",
      "Training DAGMM... Epoch: 34, Loss: 38.363\n",
      "Training DAGMM... Epoch: 35, Loss: 36.527\n",
      "Training DAGMM... Epoch: 36, Loss: 34.807\n",
      "Training DAGMM... Epoch: 37, Loss: 33.194\n",
      "Training DAGMM... Epoch: 38, Loss: 31.680\n",
      "Training DAGMM... Epoch: 39, Loss: 30.256\n",
      "Training DAGMM... Epoch: 40, Loss: 28.917\n",
      "Training DAGMM... Epoch: 41, Loss: 27.656\n",
      "Training DAGMM... Epoch: 42, Loss: 26.467\n",
      "Training DAGMM... Epoch: 43, Loss: 25.345\n",
      "Training DAGMM... Epoch: 44, Loss: 24.285\n",
      "Training DAGMM... Epoch: 45, Loss: 23.283\n",
      "Training DAGMM... Epoch: 46, Loss: 22.335\n",
      "Training DAGMM... Epoch: 47, Loss: 21.437\n",
      "Training DAGMM... Epoch: 48, Loss: 20.586\n",
      "Training DAGMM... Epoch: 49, Loss: 19.779\n",
      "Training DAGMM... Epoch: 50, Loss: 19.013\n",
      "Training DAGMM... Epoch: 51, Loss: 18.285\n",
      "Training DAGMM... Epoch: 52, Loss: 17.593\n",
      "Training DAGMM... Epoch: 53, Loss: 16.935\n",
      "Training DAGMM... Epoch: 54, Loss: 16.309\n",
      "Training DAGMM... Epoch: 55, Loss: 15.712\n",
      "Training DAGMM... Epoch: 56, Loss: 15.143\n",
      "Training DAGMM... Epoch: 57, Loss: 14.601\n",
      "Training DAGMM... Epoch: 58, Loss: 14.083\n",
      "Training DAGMM... Epoch: 59, Loss: 13.589\n",
      "Training DAGMM... Epoch: 60, Loss: 13.117\n",
      "Training DAGMM... Epoch: 61, Loss: 12.666\n",
      "Training DAGMM... Epoch: 62, Loss: 12.235\n",
      "Training DAGMM... Epoch: 63, Loss: 11.822\n",
      "Training DAGMM... Epoch: 64, Loss: 11.427\n",
      "Training DAGMM... Epoch: 65, Loss: 11.049\n",
      "Training DAGMM... Epoch: 66, Loss: 10.687\n",
      "Training DAGMM... Epoch: 67, Loss: 10.339\n",
      "Training DAGMM... Epoch: 68, Loss: 10.006\n",
      "Training DAGMM... Epoch: 69, Loss: 9.687\n",
      "Training DAGMM... Epoch: 70, Loss: 9.380\n",
      "Training DAGMM... Epoch: 71, Loss: 9.086\n",
      "Training DAGMM... Epoch: 72, Loss: 8.803\n",
      "Training DAGMM... Epoch: 73, Loss: 8.532\n",
      "Training DAGMM... Epoch: 74, Loss: 8.271\n",
      "Training DAGMM... Epoch: 75, Loss: 8.020\n",
      "Training DAGMM... Epoch: 76, Loss: 7.779\n",
      "Training DAGMM... Epoch: 77, Loss: 7.547\n",
      "Training DAGMM... Epoch: 78, Loss: 7.324\n",
      "Training DAGMM... Epoch: 79, Loss: 7.109\n",
      "Training DAGMM... Epoch: 80, Loss: 6.902\n",
      "Training DAGMM... Epoch: 81, Loss: 6.702\n",
      "Training DAGMM... Epoch: 82, Loss: 6.510\n",
      "Training DAGMM... Epoch: 83, Loss: 6.325\n",
      "Training DAGMM... Epoch: 84, Loss: 6.146\n",
      "Training DAGMM... Epoch: 85, Loss: 5.974\n",
      "Training DAGMM... Epoch: 86, Loss: 5.807\n",
      "Training DAGMM... Epoch: 87, Loss: 5.647\n",
      "Training DAGMM... Epoch: 88, Loss: 5.492\n",
      "Training DAGMM... Epoch: 89, Loss: 5.342\n",
      "Training DAGMM... Epoch: 90, Loss: 5.198\n",
      "Training DAGMM... Epoch: 91, Loss: 5.058\n",
      "Training DAGMM... Epoch: 92, Loss: 4.923\n",
      "Training DAGMM... Epoch: 93, Loss: 4.793\n",
      "Training DAGMM... Epoch: 94, Loss: 4.667\n",
      "Training DAGMM... Epoch: 95, Loss: 4.545\n",
      "Training DAGMM... Epoch: 96, Loss: 4.427\n",
      "Training DAGMM... Epoch: 97, Loss: 4.313\n",
      "Training DAGMM... Epoch: 98, Loss: 4.203\n",
      "Training DAGMM... Epoch: 99, Loss: 4.096\n",
      "Training DAGMM... Epoch: 100, Loss: 3.992\n",
      "Training DAGMM... Epoch: 101, Loss: 3.892\n",
      "Training DAGMM... Epoch: 102, Loss: 3.795\n",
      "Training DAGMM... Epoch: 103, Loss: 3.701\n",
      "Training DAGMM... Epoch: 104, Loss: 3.610\n",
      "Training DAGMM... Epoch: 105, Loss: 3.522\n",
      "Training DAGMM... Epoch: 106, Loss: 3.436\n",
      "Training DAGMM... Epoch: 107, Loss: 3.353\n",
      "Training DAGMM... Epoch: 108, Loss: 3.273\n",
      "Training DAGMM... Epoch: 109, Loss: 3.195\n",
      "Training DAGMM... Epoch: 110, Loss: 3.120\n",
      "Training DAGMM... Epoch: 111, Loss: 3.047\n",
      "Training DAGMM... Epoch: 112, Loss: 2.976\n",
      "Training DAGMM... Epoch: 113, Loss: 2.907\n",
      "Training DAGMM... Epoch: 114, Loss: 2.840\n",
      "Training DAGMM... Epoch: 115, Loss: 2.775\n",
      "Training DAGMM... Epoch: 116, Loss: 2.712\n",
      "Training DAGMM... Epoch: 117, Loss: 2.651\n",
      "Training DAGMM... Epoch: 118, Loss: 2.591\n",
      "Training DAGMM... Epoch: 119, Loss: 2.534\n",
      "Training DAGMM... Epoch: 120, Loss: 2.478\n",
      "Training DAGMM... Epoch: 121, Loss: 2.423\n",
      "Training DAGMM... Epoch: 122, Loss: 2.371\n",
      "Training DAGMM... Epoch: 123, Loss: 2.319\n",
      "Training DAGMM... Epoch: 124, Loss: 2.269\n",
      "Training DAGMM... Epoch: 125, Loss: 2.221\n",
      "Training DAGMM... Epoch: 126, Loss: 2.174\n",
      "Training DAGMM... Epoch: 127, Loss: 2.128\n",
      "Training DAGMM... Epoch: 128, Loss: 2.084\n",
      "Training DAGMM... Epoch: 129, Loss: 2.041\n",
      "Training DAGMM... Epoch: 130, Loss: 1.999\n",
      "Training DAGMM... Epoch: 131, Loss: 1.958\n",
      "Training DAGMM... Epoch: 132, Loss: 1.918\n",
      "Training DAGMM... Epoch: 133, Loss: 1.879\n",
      "Training DAGMM... Epoch: 134, Loss: 1.842\n",
      "Training DAGMM... Epoch: 135, Loss: 1.805\n",
      "Training DAGMM... Epoch: 136, Loss: 1.770\n",
      "Training DAGMM... Epoch: 137, Loss: 1.735\n",
      "Training DAGMM... Epoch: 138, Loss: 1.701\n",
      "Training DAGMM... Epoch: 139, Loss: 1.669\n",
      "Training DAGMM... Epoch: 140, Loss: 1.637\n",
      "Training DAGMM... Epoch: 141, Loss: 1.606\n",
      "Training DAGMM... Epoch: 142, Loss: 1.576\n",
      "Training DAGMM... Epoch: 143, Loss: 1.546\n",
      "Training DAGMM... Epoch: 144, Loss: 1.518\n",
      "Training DAGMM... Epoch: 145, Loss: 1.490\n",
      "Training DAGMM... Epoch: 146, Loss: 1.463\n",
      "Training DAGMM... Epoch: 147, Loss: 1.437\n",
      "Training DAGMM... Epoch: 148, Loss: 1.411\n",
      "Training DAGMM... Epoch: 149, Loss: 1.386\n",
      "Training DAGMM... Epoch: 150, Loss: 1.362\n",
      "Training DAGMM... Epoch: 151, Loss: 1.339\n",
      "Training DAGMM... Epoch: 152, Loss: 1.316\n",
      "Training DAGMM... Epoch: 153, Loss: 1.294\n",
      "Training DAGMM... Epoch: 154, Loss: 1.273\n",
      "Training DAGMM... Epoch: 155, Loss: 1.253\n",
      "Training DAGMM... Epoch: 156, Loss: 1.233\n",
      "Training DAGMM... Epoch: 157, Loss: 1.215\n",
      "Training DAGMM... Epoch: 158, Loss: 1.197\n",
      "Training DAGMM... Epoch: 159, Loss: 1.179\n",
      "Training DAGMM... Epoch: 160, Loss: 1.162\n",
      "Training DAGMM... Epoch: 161, Loss: 1.146\n",
      "Training DAGMM... Epoch: 162, Loss: 1.131\n",
      "Training DAGMM... Epoch: 163, Loss: 1.116\n",
      "Training DAGMM... Epoch: 164, Loss: 1.101\n",
      "Training DAGMM... Epoch: 165, Loss: 1.087\n",
      "Training DAGMM... Epoch: 166, Loss: 1.074\n",
      "Training DAGMM... Epoch: 167, Loss: 1.061\n",
      "Training DAGMM... Epoch: 168, Loss: 1.048\n",
      "Training DAGMM... Epoch: 169, Loss: 1.036\n",
      "Training DAGMM... Epoch: 170, Loss: 1.025\n",
      "Training DAGMM... Epoch: 171, Loss: 1.013\n",
      "Training DAGMM... Epoch: 172, Loss: 1.003\n",
      "Training DAGMM... Epoch: 173, Loss: 0.992\n",
      "Training DAGMM... Epoch: 174, Loss: 0.982\n",
      "Training DAGMM... Epoch: 175, Loss: 0.972\n",
      "Training DAGMM... Epoch: 176, Loss: 0.962\n",
      "Training DAGMM... Epoch: 177, Loss: 0.953\n",
      "Training DAGMM... Epoch: 178, Loss: 0.944\n",
      "Training DAGMM... Epoch: 179, Loss: 0.935\n",
      "Training DAGMM... Epoch: 180, Loss: 0.927\n",
      "Training DAGMM... Epoch: 181, Loss: 0.919\n",
      "Training DAGMM... Epoch: 182, Loss: 0.911\n",
      "Training DAGMM... Epoch: 183, Loss: 0.903\n",
      "Training DAGMM... Epoch: 184, Loss: 0.895\n",
      "Training DAGMM... Epoch: 185, Loss: 0.888\n",
      "Training DAGMM... Epoch: 186, Loss: 0.881\n",
      "Training DAGMM... Epoch: 187, Loss: 0.874\n",
      "Training DAGMM... Epoch: 188, Loss: 0.867\n",
      "Training DAGMM... Epoch: 189, Loss: 0.860\n",
      "Training DAGMM... Epoch: 190, Loss: 0.854\n",
      "Training DAGMM... Epoch: 191, Loss: 0.847\n",
      "Training DAGMM... Epoch: 192, Loss: 0.841\n",
      "Training DAGMM... Epoch: 193, Loss: 0.835\n",
      "Training DAGMM... Epoch: 194, Loss: 0.829\n",
      "Training DAGMM... Epoch: 195, Loss: 0.824\n",
      "Training DAGMM... Epoch: 196, Loss: 0.818\n",
      "Training DAGMM... Epoch: 197, Loss: 0.812\n",
      "Training DAGMM... Epoch: 198, Loss: 0.807\n",
      "Training DAGMM... Epoch: 199, Loss: 0.802\n"
     ]
    }
   ],
   "source": [
    "dagmm = TrainerDAGMM(args, X_NN)\n",
    "dagmm.train()"
   ]
  },
  {
   "cell_type": "code",
   "execution_count": 10,
   "metadata": {},
   "outputs": [
    {
     "name": "stdout",
     "output_type": "stream",
     "text": [
      "torch.Size([21600, 2]) torch.Size([21600, 117]) torch.Size([21600, 4]) torch.Size([21600, 6])\n",
      "torch.Size([6]) torch.Size([6, 4]) torch.Size([6, 4, 4])\n",
      "torch.Size([90, 240, 4]) torch.Size([90, 240, 4])\n"
     ]
    }
   ],
   "source": [
    "with torch.no_grad():\n",
    "    z, x_hat, aug_z, gamma = dagmm.model(X_NN.to(args.device))\n",
    "    print(z.shape, x_hat.shape, aug_z.shape, gamma.shape)\n",
    "    \n",
    "    # compute phi, mu, and cov using the training dataset\n",
    "    hp_gmm = dagmm.compute.compute_params(aug_z, gamma)\n",
    "    print(hp_gmm[0].shape, hp_gmm[1].shape, hp_gmm[2].shape)\n",
    "    \n",
    "    # reshape data to compute negative log likelihood\n",
    "    aug_z = aug_z.reshape((R,T,args.latent_dim+2))\n",
    "    zy, y_hat, aug_zy , _ = dagmm.model(Y_NN.to(args.device))\n",
    "    aug_zy = aug_zy.reshape((R,T,args.latent_dim+2))\n",
    "    print(aug_z.shape, aug_zy.shape)\n",
    "    \n",
    "    # compute likelihood for correct and incorrect motions\n",
    "    lik = {\"corr\":[],\"incorr\":[]}\n",
    "    for r in range(R):\n",
    "        cl,_ = dagmm.compute.compute_energy(aug_z[r], gamma, *hp_gmm)\n",
    "        lik[\"corr\"].append(-cl.cpu())\n",
    "        il,_ = dagmm.compute.compute_energy(aug_zy[r], gamma, *hp_gmm)\n",
    "        lik[\"incorr\"].append(-il.cpu())"
   ]
  },
  {
   "cell_type": "code",
   "execution_count": 11,
   "metadata": {},
   "outputs": [
    {
     "data": {
      "image/png": "[encoded data removed]",
      "text/plain": [
       "<Figure size 640x480 with 1 Axes>"
      ]
     },
     "metadata": {},
     "output_type": "display_data"
    }
   ],
   "source": [
    "plt.scatter(np.arange(1,91),lik[\"corr\"], label = \"Correct Sequences\")\n",
    "plt.scatter(np.arange(1,91),lik[\"incorr\"], label = \"Incorrect Sequences\")\n",
    "plt.xlabel(\"Sequence Number\")\n",
    "plt.ylabel(\"Log-Likelihood\")\n",
    "plt.legend()\n",
    "plt.show()"
   ]
  },
  {
   "cell_type": "code",
   "execution_count": null,
   "metadata": {},
   "outputs": [],
   "source": []
  }
 ],
 "metadata": {
  "kernelspec": {
   "display_name": "Python 3 (ipykernel)",
   "language": "python",
   "name": "python3"
  },
  "language_info": {
   "codemirror_mode": {
    "name": "ipython",
    "version": 3
   },
   "file_extension": ".py",
   "mimetype": "text/x-python",
   "name": "python",
   "nbconvert_exporter": "python",
   "pygments_lexer": "ipython3",
   "version": "3.11.9"
  }
 },
 "nbformat": 4,
 "nbformat_minor": 4
}
