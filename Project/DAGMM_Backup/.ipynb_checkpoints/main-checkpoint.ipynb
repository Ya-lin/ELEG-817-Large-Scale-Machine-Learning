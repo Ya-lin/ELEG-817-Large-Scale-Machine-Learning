{
 "cells": [
  {
   "cell_type": "code",
   "execution_count": 1,
   "metadata": {},
   "outputs": [],
   "source": [
    "from pathlib import Path\n",
    "import numpy as np\n",
    "import torch\n",
    "\n",
    "import matplotlib.pyplot as plt\n",
    "import pandas as pd \n",
    "\n",
    "from train import TrainerDAGMM"
   ]
  },
  {
   "cell_type": "code",
   "execution_count": 2,
   "metadata": {},
   "outputs": [
    {
     "data": {
      "text/plain": [
       "{'num_epochs': 200,\n",
       " 'lr': 0.0001,\n",
       " 'latent_dim': 2,\n",
       " 'n_gmm': 6,\n",
       " 'lambda_energy': 0.1,\n",
       " 'lambda_cov': 0.005,\n",
       " 'device': 'cuda'}"
      ]
     },
     "execution_count": 2,
     "metadata": {},
     "output_type": "execute_result"
    }
   ],
   "source": [
    "class Args:\n",
    "    def __init__(self):\n",
    "        self.num_epochs = 200\n",
    "        self.lr = 1e-4\n",
    "        self.latent_dim = 2\n",
    "        self.n_gmm = 6\n",
    "        self.lambda_energy = 0.1\n",
    "        self.lambda_cov = 0.005\n",
    "        self.device = 'cuda' if torch.cuda.is_available() else 'cpu'\n",
    "\n",
    "args = Args()\n",
    "vars(args)"
   ]
  },
  {
   "cell_type": "code",
   "execution_count": 3,
   "metadata": {},
   "outputs": [],
   "source": [
    "path = Path.home().joinpath(\"Documents\",\"Data\",\"Rehabilitation\")\n",
    "path.mkdir(exist_ok=True)\n",
    "def get_data():\n",
    "    X = pd.read_csv(path.joinpath(\"Data_Correct.csv\"),header=None)\n",
    "    Y = pd.read_csv(path.joinpath(\"Data_Incorrect.csv\"),header=None)\n",
    "    X = X.to_numpy()\n",
    "    Y = Y.to_numpy()\n",
    "    return X, Y"
   ]
  },
  {
   "cell_type": "code",
   "execution_count": 4,
   "metadata": {},
   "outputs": [
    {
     "name": "stdout",
     "output_type": "stream",
     "text": [
      "(10530, 240)\n",
      "(10530, 240)\n"
     ]
    }
   ],
   "source": [
    "X, Y = get_data()\n",
    "print(X.shape)\n",
    "print(Y.shape)"
   ]
  },
  {
   "cell_type": "code",
   "execution_count": 5,
   "metadata": {},
   "outputs": [],
   "source": [
    "n_dim = 117\n",
    "T = X.shape[1]\n",
    "R = int(X.shape[0]/n_dim)\n",
    "def two2three(X, R, T, n_dim):\n",
    "    X_NN = np.zeros((R,T,n_dim))\n",
    "    for r in range(R):\n",
    "        X_NN[r,:,:] = X[r*n_dim:(r+1)*n_dim,:].T\n",
    "    X_NN = torch.tensor(X_NN).float()\n",
    "    return X_NN.reshape((-1,n_dim))"
   ]
  },
  {
   "cell_type": "code",
   "execution_count": 6,
   "metadata": {},
   "outputs": [
    {
     "name": "stdout",
     "output_type": "stream",
     "text": [
      "torch.Size([21600, 117])\n",
      "torch.Size([21600, 117])\n"
     ]
    }
   ],
   "source": [
    "X_NN = two2three(X, R, T, n_dim)\n",
    "Y_NN = two2three(Y, R, T, n_dim)\n",
    "print(X_NN.shape)\n",
    "print(Y_NN.shape)"
   ]
  },
  {
   "cell_type": "code",
   "execution_count": 7,
   "metadata": {},
   "outputs": [],
   "source": [
    "dagmm = TrainerDAGMM(args, X_NN)"
   ]
  },
  {
   "cell_type": "code",
   "execution_count": 8,
   "metadata": {},
   "outputs": [
    {
     "data": {
      "text/plain": [
       "(torch.Size([21600, 2]),\n",
       " torch.Size([21600, 117]),\n",
       " torch.Size([21600, 4]),\n",
       " torch.Size([21600, 6]))"
      ]
     },
     "execution_count": 8,
     "metadata": {},
     "output_type": "execute_result"
    }
   ],
   "source": [
    "z_c, x_hat, z, gamma = dagmm.model(X_NN.to(args.device))\n",
    "z_c.shape, x_hat.shape, z.shape, gamma.shape"
   ]
  },
  {
   "cell_type": "code",
   "execution_count": 9,
   "metadata": {},
   "outputs": [
    {
     "name": "stdout",
     "output_type": "stream",
     "text": [
      "Training DAGMM... Epoch: 0, Loss: 319.693\n",
      "Training DAGMM... Epoch: 1, Loss: 296.027\n",
      "Training DAGMM... Epoch: 2, Loss: 274.540\n",
      "Training DAGMM... Epoch: 3, Loss: 254.993\n",
      "Training DAGMM... Epoch: 4, Loss: 237.179\n",
      "Training DAGMM... Epoch: 5, Loss: 220.920\n",
      "Training DAGMM... Epoch: 6, Loss: 206.060\n",
      "Training DAGMM... Epoch: 7, Loss: 192.460\n",
      "Training DAGMM... Epoch: 8, Loss: 179.999\n",
      "Training DAGMM... Epoch: 9, Loss: 168.569\n",
      "Training DAGMM... Epoch: 10, Loss: 158.071\n",
      "Training DAGMM... Epoch: 11, Loss: 148.418\n",
      "Training DAGMM... Epoch: 12, Loss: 139.531\n",
      "Training DAGMM... Epoch: 13, Loss: 131.339\n",
      "Training DAGMM... Epoch: 14, Loss: 123.777\n",
      "Training DAGMM... Epoch: 15, Loss: 116.788\n",
      "Training DAGMM... Epoch: 16, Loss: 110.318\n",
      "Training DAGMM... Epoch: 17, Loss: 104.322\n",
      "Training DAGMM... Epoch: 18, Loss: 98.756\n",
      "Training DAGMM... Epoch: 19, Loss: 93.582\n",
      "Training DAGMM... Epoch: 20, Loss: 88.766\n",
      "Training DAGMM... Epoch: 21, Loss: 84.277\n",
      "Training DAGMM... Epoch: 22, Loss: 80.088\n",
      "Training DAGMM... Epoch: 23, Loss: 76.173\n",
      "Training DAGMM... Epoch: 24, Loss: 72.510\n",
      "Training DAGMM... Epoch: 25, Loss: 69.078\n",
      "Training DAGMM... Epoch: 26, Loss: 65.859\n",
      "Training DAGMM... Epoch: 27, Loss: 62.836\n",
      "Training DAGMM... Epoch: 28, Loss: 59.994\n",
      "Training DAGMM... Epoch: 29, Loss: 57.319\n",
      "Training DAGMM... Epoch: 30, Loss: 54.799\n",
      "Training DAGMM... Epoch: 31, Loss: 52.422\n",
      "Training DAGMM... Epoch: 32, Loss: 50.179\n",
      "Training DAGMM... Epoch: 33, Loss: 48.059\n",
      "Training DAGMM... Epoch: 34, Loss: 46.054\n",
      "Training DAGMM... Epoch: 35, Loss: 44.157\n",
      "Training DAGMM... Epoch: 36, Loss: 42.359\n",
      "Training DAGMM... Epoch: 37, Loss: 40.654\n",
      "Training DAGMM... Epoch: 38, Loss: 39.037\n",
      "Training DAGMM... Epoch: 39, Loss: 37.501\n",
      "Training DAGMM... Epoch: 40, Loss: 36.042\n",
      "Training DAGMM... Epoch: 41, Loss: 34.654\n",
      "Training DAGMM... Epoch: 42, Loss: 33.334\n",
      "Training DAGMM... Epoch: 43, Loss: 32.076\n",
      "Training DAGMM... Epoch: 44, Loss: 30.879\n",
      "Training DAGMM... Epoch: 45, Loss: 29.736\n",
      "Training DAGMM... Epoch: 46, Loss: 28.647\n",
      "Training DAGMM... Epoch: 47, Loss: 27.607\n",
      "Training DAGMM... Epoch: 48, Loss: 26.614\n",
      "Training DAGMM... Epoch: 49, Loss: 25.665\n",
      "Training DAGMM... Epoch: 50, Loss: 24.758\n",
      "Training DAGMM... Epoch: 51, Loss: 23.891\n",
      "Training DAGMM... Epoch: 52, Loss: 23.061\n",
      "Training DAGMM... Epoch: 53, Loss: 22.266\n",
      "Training DAGMM... Epoch: 54, Loss: 21.505\n",
      "Training DAGMM... Epoch: 55, Loss: 20.776\n",
      "Training DAGMM... Epoch: 56, Loss: 20.077\n",
      "Training DAGMM... Epoch: 57, Loss: 19.406\n",
      "Training DAGMM... Epoch: 58, Loss: 18.763\n",
      "Training DAGMM... Epoch: 59, Loss: 18.146\n",
      "Training DAGMM... Epoch: 60, Loss: 17.554\n",
      "Training DAGMM... Epoch: 61, Loss: 16.985\n",
      "Training DAGMM... Epoch: 62, Loss: 16.438\n",
      "Training DAGMM... Epoch: 63, Loss: 15.913\n",
      "Training DAGMM... Epoch: 64, Loss: 15.408\n",
      "Training DAGMM... Epoch: 65, Loss: 14.923\n",
      "Training DAGMM... Epoch: 66, Loss: 14.456\n",
      "Training DAGMM... Epoch: 67, Loss: 14.006\n",
      "Training DAGMM... Epoch: 68, Loss: 13.574\n",
      "Training DAGMM... Epoch: 69, Loss: 13.158\n",
      "Training DAGMM... Epoch: 70, Loss: 12.757\n",
      "Training DAGMM... Epoch: 71, Loss: 12.370\n",
      "Training DAGMM... Epoch: 72, Loss: 11.998\n",
      "Training DAGMM... Epoch: 73, Loss: 11.640\n",
      "Training DAGMM... Epoch: 74, Loss: 11.294\n",
      "Training DAGMM... Epoch: 75, Loss: 10.961\n",
      "Training DAGMM... Epoch: 76, Loss: 10.639\n",
      "Training DAGMM... Epoch: 77, Loss: 10.329\n",
      "Training DAGMM... Epoch: 78, Loss: 10.030\n",
      "Training DAGMM... Epoch: 79, Loss: 9.741\n",
      "Training DAGMM... Epoch: 80, Loss: 9.463\n",
      "Training DAGMM... Epoch: 81, Loss: 9.194\n",
      "Training DAGMM... Epoch: 82, Loss: 8.934\n",
      "Training DAGMM... Epoch: 83, Loss: 8.683\n",
      "Training DAGMM... Epoch: 84, Loss: 8.441\n",
      "Training DAGMM... Epoch: 85, Loss: 8.207\n",
      "Training DAGMM... Epoch: 86, Loss: 7.980\n",
      "Training DAGMM... Epoch: 87, Loss: 7.762\n",
      "Training DAGMM... Epoch: 88, Loss: 7.550\n",
      "Training DAGMM... Epoch: 89, Loss: 7.346\n",
      "Training DAGMM... Epoch: 90, Loss: 7.148\n",
      "Training DAGMM... Epoch: 91, Loss: 6.957\n",
      "Training DAGMM... Epoch: 92, Loss: 6.772\n",
      "Training DAGMM... Epoch: 93, Loss: 6.593\n",
      "Training DAGMM... Epoch: 94, Loss: 6.420\n",
      "Training DAGMM... Epoch: 95, Loss: 6.252\n",
      "Training DAGMM... Epoch: 96, Loss: 6.089\n",
      "Training DAGMM... Epoch: 97, Loss: 5.932\n",
      "Training DAGMM... Epoch: 98, Loss: 5.779\n",
      "Training DAGMM... Epoch: 99, Loss: 5.631\n",
      "Training DAGMM... Epoch: 100, Loss: 5.488\n",
      "Training DAGMM... Epoch: 101, Loss: 5.349\n",
      "Training DAGMM... Epoch: 102, Loss: 5.214\n",
      "Training DAGMM... Epoch: 103, Loss: 5.083\n",
      "Training DAGMM... Epoch: 104, Loss: 4.956\n",
      "Training DAGMM... Epoch: 105, Loss: 4.833\n",
      "Training DAGMM... Epoch: 106, Loss: 4.714\n",
      "Training DAGMM... Epoch: 107, Loss: 4.598\n",
      "Training DAGMM... Epoch: 108, Loss: 4.486\n",
      "Training DAGMM... Epoch: 109, Loss: 4.377\n",
      "Training DAGMM... Epoch: 110, Loss: 4.271\n",
      "Training DAGMM... Epoch: 111, Loss: 4.168\n",
      "Training DAGMM... Epoch: 112, Loss: 4.069\n",
      "Training DAGMM... Epoch: 113, Loss: 3.972\n",
      "Training DAGMM... Epoch: 114, Loss: 3.878\n",
      "Training DAGMM... Epoch: 115, Loss: 3.787\n",
      "Training DAGMM... Epoch: 116, Loss: 3.699\n",
      "Training DAGMM... Epoch: 117, Loss: 3.613\n",
      "Training DAGMM... Epoch: 118, Loss: 3.529\n",
      "Training DAGMM... Epoch: 119, Loss: 3.448\n",
      "Training DAGMM... Epoch: 120, Loss: 3.370\n",
      "Training DAGMM... Epoch: 121, Loss: 3.293\n",
      "Training DAGMM... Epoch: 122, Loss: 3.219\n",
      "Training DAGMM... Epoch: 123, Loss: 3.147\n",
      "Training DAGMM... Epoch: 124, Loss: 3.077\n",
      "Training DAGMM... Epoch: 125, Loss: 3.008\n",
      "Training DAGMM... Epoch: 126, Loss: 2.942\n",
      "Training DAGMM... Epoch: 127, Loss: 2.878\n",
      "Training DAGMM... Epoch: 128, Loss: 2.815\n",
      "Training DAGMM... Epoch: 129, Loss: 2.754\n",
      "Training DAGMM... Epoch: 130, Loss: 2.695\n",
      "Training DAGMM... Epoch: 131, Loss: 2.638\n",
      "Training DAGMM... Epoch: 132, Loss: 2.582\n",
      "Training DAGMM... Epoch: 133, Loss: 2.528\n",
      "Training DAGMM... Epoch: 134, Loss: 2.475\n",
      "Training DAGMM... Epoch: 135, Loss: 2.424\n",
      "Training DAGMM... Epoch: 136, Loss: 2.374\n",
      "Training DAGMM... Epoch: 137, Loss: 2.325\n",
      "Training DAGMM... Epoch: 138, Loss: 2.278\n",
      "Training DAGMM... Epoch: 139, Loss: 2.232\n",
      "Training DAGMM... Epoch: 140, Loss: 2.187\n",
      "Training DAGMM... Epoch: 141, Loss: 2.144\n",
      "Training DAGMM... Epoch: 142, Loss: 2.102\n",
      "Training DAGMM... Epoch: 143, Loss: 2.061\n",
      "Training DAGMM... Epoch: 144, Loss: 2.021\n",
      "Training DAGMM... Epoch: 145, Loss: 1.982\n",
      "Training DAGMM... Epoch: 146, Loss: 1.944\n",
      "Training DAGMM... Epoch: 147, Loss: 1.907\n",
      "Training DAGMM... Epoch: 148, Loss: 1.872\n",
      "Training DAGMM... Epoch: 149, Loss: 1.837\n",
      "Training DAGMM... Epoch: 150, Loss: 1.803\n",
      "Training DAGMM... Epoch: 151, Loss: 1.770\n",
      "Training DAGMM... Epoch: 152, Loss: 1.738\n",
      "Training DAGMM... Epoch: 153, Loss: 1.707\n",
      "Training DAGMM... Epoch: 154, Loss: 1.677\n",
      "Training DAGMM... Epoch: 155, Loss: 1.647\n",
      "Training DAGMM... Epoch: 156, Loss: 1.619\n",
      "Training DAGMM... Epoch: 157, Loss: 1.591\n",
      "Training DAGMM... Epoch: 158, Loss: 1.564\n",
      "Training DAGMM... Epoch: 159, Loss: 1.538\n",
      "Training DAGMM... Epoch: 160, Loss: 1.512\n",
      "Training DAGMM... Epoch: 161, Loss: 1.487\n",
      "Training DAGMM... Epoch: 162, Loss: 1.463\n",
      "Training DAGMM... Epoch: 163, Loss: 1.440\n",
      "Training DAGMM... Epoch: 164, Loss: 1.417\n",
      "Training DAGMM... Epoch: 165, Loss: 1.396\n",
      "Training DAGMM... Epoch: 166, Loss: 1.375\n",
      "Training DAGMM... Epoch: 167, Loss: 1.355\n",
      "Training DAGMM... Epoch: 168, Loss: 1.335\n",
      "Training DAGMM... Epoch: 169, Loss: 1.317\n",
      "Training DAGMM... Epoch: 170, Loss: 1.299\n",
      "Training DAGMM... Epoch: 171, Loss: 1.281\n",
      "Training DAGMM... Epoch: 172, Loss: 1.265\n",
      "Training DAGMM... Epoch: 173, Loss: 1.249\n",
      "Training DAGMM... Epoch: 174, Loss: 1.233\n",
      "Training DAGMM... Epoch: 175, Loss: 1.219\n",
      "Training DAGMM... Epoch: 176, Loss: 1.205\n",
      "Training DAGMM... Epoch: 177, Loss: 1.191\n",
      "Training DAGMM... Epoch: 178, Loss: 1.178\n",
      "Training DAGMM... Epoch: 179, Loss: 1.165\n",
      "Training DAGMM... Epoch: 180, Loss: 1.153\n",
      "Training DAGMM... Epoch: 181, Loss: 1.141\n",
      "Training DAGMM... Epoch: 182, Loss: 1.129\n",
      "Training DAGMM... Epoch: 183, Loss: 1.118\n",
      "Training DAGMM... Epoch: 184, Loss: 1.108\n",
      "Training DAGMM... Epoch: 185, Loss: 1.098\n",
      "Training DAGMM... Epoch: 186, Loss: 1.088\n",
      "Training DAGMM... Epoch: 187, Loss: 1.078\n",
      "Training DAGMM... Epoch: 188, Loss: 1.069\n",
      "Training DAGMM... Epoch: 189, Loss: 1.060\n",
      "Training DAGMM... Epoch: 190, Loss: 1.051\n",
      "Training DAGMM... Epoch: 191, Loss: 1.043\n",
      "Training DAGMM... Epoch: 192, Loss: 1.034\n",
      "Training DAGMM... Epoch: 193, Loss: 1.026\n",
      "Training DAGMM... Epoch: 194, Loss: 1.019\n",
      "Training DAGMM... Epoch: 195, Loss: 1.011\n",
      "Training DAGMM... Epoch: 196, Loss: 1.004\n",
      "Training DAGMM... Epoch: 197, Loss: 0.997\n",
      "Training DAGMM... Epoch: 198, Loss: 0.990\n",
      "Training DAGMM... Epoch: 199, Loss: 0.983\n"
     ]
    }
   ],
   "source": [
    "dagmm = TrainerDAGMM(args, X_NN)\n",
    "dagmm.train()"
   ]
  },
  {
   "cell_type": "code",
   "execution_count": 10,
   "metadata": {},
   "outputs": [
    {
     "name": "stdout",
     "output_type": "stream",
     "text": [
      "torch.Size([21600, 2]) torch.Size([21600, 117]) torch.Size([21600, 4]) torch.Size([21600, 6])\n",
      "torch.Size([6]) torch.Size([6, 4]) torch.Size([6, 4, 4])\n",
      "torch.Size([90, 240, 4]) torch.Size([90, 240, 4])\n"
     ]
    }
   ],
   "source": [
    "with torch.no_grad():\n",
    "    z, x_hat, aug_z, gamma = dagmm.model(X_NN.to(args.device))\n",
    "    print(z.shape, x_hat.shape, aug_z.shape, gamma.shape)\n",
    "    \n",
    "    # compute phi, mu, and cov using the training dataset\n",
    "    hp_gmm = dagmm.compute.compute_params(aug_z, gamma)\n",
    "    print(hp_gmm[0].shape, hp_gmm[1].shape, hp_gmm[2].shape)\n",
    "    \n",
    "    # reshape data to compute negative log likelihood\n",
    "    aug_z = aug_z.reshape((R,T,args.latent_dim+2))\n",
    "    zy, y_hat, aug_zy , _ = dagmm.model(Y_NN.to(args.device))\n",
    "    aug_zy = aug_zy.reshape((R,T,args.latent_dim+2))\n",
    "    print(aug_z.shape, aug_zy.shape)\n",
    "    \n",
    "    # compute likelihood for correct and incorrect motions\n",
    "    lik = {\"corr\":[],\"incorr\":[]}\n",
    "    for r in range(R):\n",
    "        cl,_ = dagmm.compute.compute_energy(aug_z[r], gamma, *hp_gmm)\n",
    "        lik[\"corr\"].append(-cl.cpu())\n",
    "        il,_ = dagmm.compute.compute_energy(aug_zy[r], gamma, *hp_gmm)\n",
    "        lik[\"incorr\"].append(-il.cpu())"
   ]
  },
  {
   "cell_type": "code",
   "execution_count": 11,
   "metadata": {},
   "outputs": [
    {
     "data": {
      "image/png": "[encoded data removed]",
      "text/plain": [
       "<Figure size 640x480 with 1 Axes>"
      ]
     },
     "metadata": {},
     "output_type": "display_data"
    }
   ],
   "source": [
    "plt.scatter(np.arange(1,91),lik[\"corr\"], label = \"Correct Sequences\")\n",
    "plt.scatter(np.arange(1,91),lik[\"incorr\"], label = \"Incorrect Sequences\")\n",
    "plt.xlabel(\"Sequence Number\")\n",
    "plt.ylabel(\"Log-Likelihood\")\n",
    "plt.legend()\n",
    "plt.show()"
   ]
  },
  {
   "cell_type": "code",
   "execution_count": null,
   "metadata": {},
   "outputs": [],
   "source": []
  }
 ],
 "metadata": {
  "kernelspec": {
   "display_name": "Python 3 (ipykernel)",
   "language": "python",
   "name": "python3"
  },
  "language_info": {
   "codemirror_mode": {
    "name": "ipython",
    "version": 3
   },
   "file_extension": ".py",
   "mimetype": "text/x-python",
   "name": "python",
   "nbconvert_exporter": "python",
   "pygments_lexer": "ipython3",
   "version": "3.11.9"
  }
 },
 "nbformat": 4,
 "nbformat_minor": 4
}
