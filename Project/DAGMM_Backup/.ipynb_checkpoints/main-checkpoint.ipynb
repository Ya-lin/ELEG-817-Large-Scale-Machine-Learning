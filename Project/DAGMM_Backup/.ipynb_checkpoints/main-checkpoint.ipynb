{
 "cells": [
  {
   "cell_type": "code",
   "execution_count": 1,
   "metadata": {},
   "outputs": [],
   "source": [
    "from pathlib import Path\n",
    "from types import SimpleNamespace\n",
    "import numpy as np\n",
    "import matplotlib.pyplot as plt\n",
    "import pandas as pd \n",
    "\n",
    "import torch\n",
    "from training import TrainerDAGMM"
   ]
  },
  {
   "cell_type": "code",
   "execution_count": 2,
   "metadata": {},
   "outputs": [
    {
     "name": "stdout",
     "output_type": "stream",
     "text": [
      "namespace(num_epochs=200, lr=0.0001, latent_dim=2, n_gmm=6, lambda_energy=0.1, lambda_cov=0.005, device='cuda')\n"
     ]
    }
   ],
   "source": [
    "args = SimpleNamespace(num_epochs=200)\n",
    "args.lr = 1e-4\n",
    "args.latent_dim = 2\n",
    "args.n_gmm = 6\n",
    "args.lambda_energy = 0.1\n",
    "args.lambda_cov = 0.005\n",
    "args.device = 'cuda' if torch.cuda.is_available() else 'cpu'\n",
    "print(args)"
   ]
  },
  {
   "cell_type": "code",
   "execution_count": 3,
   "metadata": {},
   "outputs": [],
   "source": [
    "path = Path.home().joinpath(\"Documents\",\"Data\",\"Rehabilitation\")\n",
    "path.mkdir(exist_ok=True)\n",
    "def get_data():\n",
    "    X = pd.read_csv(path.joinpath(\"Data_Correct.csv\"),header=None)\n",
    "    Y = pd.read_csv(path.joinpath(\"Data_Incorrect.csv\"),header=None)\n",
    "    X = X.to_numpy()\n",
    "    Y = Y.to_numpy()\n",
    "    return X, Y"
   ]
  },
  {
   "cell_type": "code",
   "execution_count": 4,
   "metadata": {},
   "outputs": [
    {
     "name": "stdout",
     "output_type": "stream",
     "text": [
      "(10530, 240)\n",
      "(10530, 240)\n"
     ]
    }
   ],
   "source": [
    "X, Y = get_data()\n",
    "print(X.shape)\n",
    "print(Y.shape)"
   ]
  },
  {
   "cell_type": "code",
   "execution_count": 5,
   "metadata": {},
   "outputs": [],
   "source": [
    "n_dim = 117\n",
    "T = X.shape[1]\n",
    "R = int(X.shape[0]/n_dim)\n",
    "def two2three(X, R, T, n_dim):\n",
    "    X_NN = np.zeros((R,T,n_dim))\n",
    "    for r in range(R):\n",
    "        X_NN[r,:,:] = X[r*n_dim:(r+1)*n_dim,:].T\n",
    "    X_NN = torch.tensor(X_NN).float()\n",
    "    return X_NN.reshape((-1,n_dim))"
   ]
  },
  {
   "cell_type": "code",
   "execution_count": 6,
   "metadata": {},
   "outputs": [
    {
     "name": "stdout",
     "output_type": "stream",
     "text": [
      "torch.Size([21600, 117])\n",
      "torch.Size([21600, 117])\n"
     ]
    }
   ],
   "source": [
    "X_NN = two2three(X, R, T, n_dim)\n",
    "Y_NN = two2three(Y, R, T, n_dim)\n",
    "print(X_NN.shape)\n",
    "print(Y_NN.shape)"
   ]
  },
  {
   "cell_type": "code",
   "execution_count": 7,
   "metadata": {},
   "outputs": [],
   "source": [
    "dagmm = TrainerDAGMM(args, X_NN)"
   ]
  },
  {
   "cell_type": "code",
   "execution_count": 8,
   "metadata": {},
   "outputs": [
    {
     "data": {
      "text/plain": [
       "(torch.Size([21600, 2]),\n",
       " torch.Size([21600, 117]),\n",
       " torch.Size([21600, 4]),\n",
       " torch.Size([21600, 6]))"
      ]
     },
     "execution_count": 8,
     "metadata": {},
     "output_type": "execute_result"
    }
   ],
   "source": [
    "z_c, x_hat, z, gamma = dagmm.model(X_NN.to(args.device))\n",
    "z_c.shape, x_hat.shape, z.shape, gamma.shape"
   ]
  },
  {
   "cell_type": "code",
   "execution_count": 9,
   "metadata": {},
   "outputs": [
    {
     "name": "stdout",
     "output_type": "stream",
     "text": [
      "Training DAGMM... Epoch: 0, Loss: 195.336\n",
      "Training DAGMM... Epoch: 1, Loss: 183.230\n",
      "Training DAGMM... Epoch: 2, Loss: 172.122\n",
      "Training DAGMM... Epoch: 3, Loss: 161.910\n",
      "Training DAGMM... Epoch: 4, Loss: 152.504\n",
      "Training DAGMM... Epoch: 5, Loss: 143.825\n",
      "Training DAGMM... Epoch: 6, Loss: 135.801\n",
      "Training DAGMM... Epoch: 7, Loss: 128.371\n",
      "Training DAGMM... Epoch: 8, Loss: 121.479\n",
      "Training DAGMM... Epoch: 9, Loss: 115.076\n",
      "Training DAGMM... Epoch: 10, Loss: 109.118\n",
      "Training DAGMM... Epoch: 11, Loss: 103.566\n",
      "Training DAGMM... Epoch: 12, Loss: 98.384\n",
      "Training DAGMM... Epoch: 13, Loss: 93.542\n",
      "Training DAGMM... Epoch: 14, Loss: 89.011\n",
      "Training DAGMM... Epoch: 15, Loss: 84.766\n",
      "Training DAGMM... Epoch: 16, Loss: 80.783\n",
      "Training DAGMM... Epoch: 17, Loss: 77.042\n",
      "Training DAGMM... Epoch: 18, Loss: 73.524\n",
      "Training DAGMM... Epoch: 19, Loss: 70.213\n",
      "Training DAGMM... Epoch: 20, Loss: 67.092\n",
      "Training DAGMM... Epoch: 21, Loss: 64.148\n",
      "Training DAGMM... Epoch: 22, Loss: 61.369\n",
      "Training DAGMM... Epoch: 23, Loss: 58.741\n",
      "Training DAGMM... Epoch: 24, Loss: 56.256\n",
      "Training DAGMM... Epoch: 25, Loss: 53.902\n",
      "Training DAGMM... Epoch: 26, Loss: 51.672\n",
      "Training DAGMM... Epoch: 27, Loss: 49.556\n",
      "Training DAGMM... Epoch: 28, Loss: 47.548\n",
      "Training DAGMM... Epoch: 29, Loss: 45.640\n",
      "Training DAGMM... Epoch: 30, Loss: 43.826\n",
      "Training DAGMM... Epoch: 31, Loss: 42.101\n",
      "Training DAGMM... Epoch: 32, Loss: 40.458\n",
      "Training DAGMM... Epoch: 33, Loss: 38.893\n",
      "Training DAGMM... Epoch: 34, Loss: 37.402\n",
      "Training DAGMM... Epoch: 35, Loss: 35.979\n",
      "Training DAGMM... Epoch: 36, Loss: 34.621\n",
      "Training DAGMM... Epoch: 37, Loss: 33.324\n",
      "Training DAGMM... Epoch: 38, Loss: 32.085\n",
      "Training DAGMM... Epoch: 39, Loss: 30.900\n",
      "Training DAGMM... Epoch: 40, Loss: 29.767\n",
      "Training DAGMM... Epoch: 41, Loss: 28.683\n",
      "Training DAGMM... Epoch: 42, Loss: 27.645\n",
      "Training DAGMM... Epoch: 43, Loss: 26.651\n",
      "Training DAGMM... Epoch: 44, Loss: 25.699\n",
      "Training DAGMM... Epoch: 45, Loss: 24.786\n",
      "Training DAGMM... Epoch: 46, Loss: 23.910\n",
      "Training DAGMM... Epoch: 47, Loss: 23.071\n",
      "Training DAGMM... Epoch: 48, Loss: 22.265\n",
      "Training DAGMM... Epoch: 49, Loss: 21.491\n",
      "Training DAGMM... Epoch: 50, Loss: 20.748\n",
      "Training DAGMM... Epoch: 51, Loss: 20.035\n",
      "Training DAGMM... Epoch: 52, Loss: 19.349\n",
      "Training DAGMM... Epoch: 53, Loss: 18.690\n",
      "Training DAGMM... Epoch: 54, Loss: 18.056\n",
      "Training DAGMM... Epoch: 55, Loss: 17.447\n",
      "Training DAGMM... Epoch: 56, Loss: 16.861\n",
      "Training DAGMM... Epoch: 57, Loss: 16.296\n",
      "Training DAGMM... Epoch: 58, Loss: 15.754\n",
      "Training DAGMM... Epoch: 59, Loss: 15.231\n",
      "Training DAGMM... Epoch: 60, Loss: 14.728\n",
      "Training DAGMM... Epoch: 61, Loss: 14.243\n",
      "Training DAGMM... Epoch: 62, Loss: 13.776\n",
      "Training DAGMM... Epoch: 63, Loss: 13.326\n",
      "Training DAGMM... Epoch: 64, Loss: 12.893\n",
      "Training DAGMM... Epoch: 65, Loss: 12.475\n",
      "Training DAGMM... Epoch: 66, Loss: 12.072\n",
      "Training DAGMM... Epoch: 67, Loss: 11.684\n",
      "Training DAGMM... Epoch: 68, Loss: 11.309\n",
      "Training DAGMM... Epoch: 69, Loss: 10.948\n",
      "Training DAGMM... Epoch: 70, Loss: 10.599\n",
      "Training DAGMM... Epoch: 71, Loss: 10.263\n",
      "Training DAGMM... Epoch: 72, Loss: 9.938\n",
      "Training DAGMM... Epoch: 73, Loss: 9.625\n",
      "Training DAGMM... Epoch: 74, Loss: 9.322\n",
      "Training DAGMM... Epoch: 75, Loss: 9.030\n",
      "Training DAGMM... Epoch: 76, Loss: 8.748\n",
      "Training DAGMM... Epoch: 77, Loss: 8.476\n",
      "Training DAGMM... Epoch: 78, Loss: 8.213\n",
      "Training DAGMM... Epoch: 79, Loss: 7.959\n",
      "Training DAGMM... Epoch: 80, Loss: 7.714\n",
      "Training DAGMM... Epoch: 81, Loss: 7.477\n",
      "Training DAGMM... Epoch: 82, Loss: 7.248\n",
      "Training DAGMM... Epoch: 83, Loss: 7.027\n",
      "Training DAGMM... Epoch: 84, Loss: 6.813\n",
      "Training DAGMM... Epoch: 85, Loss: 6.606\n",
      "Training DAGMM... Epoch: 86, Loss: 6.406\n",
      "Training DAGMM... Epoch: 87, Loss: 6.213\n",
      "Training DAGMM... Epoch: 88, Loss: 6.026\n",
      "Training DAGMM... Epoch: 89, Loss: 5.846\n",
      "Training DAGMM... Epoch: 90, Loss: 5.671\n",
      "Training DAGMM... Epoch: 91, Loss: 5.503\n",
      "Training DAGMM... Epoch: 92, Loss: 5.340\n",
      "Training DAGMM... Epoch: 93, Loss: 5.182\n",
      "Training DAGMM... Epoch: 94, Loss: 5.030\n",
      "Training DAGMM... Epoch: 95, Loss: 4.882\n",
      "Training DAGMM... Epoch: 96, Loss: 4.740\n",
      "Training DAGMM... Epoch: 97, Loss: 4.602\n",
      "Training DAGMM... Epoch: 98, Loss: 4.469\n",
      "Training DAGMM... Epoch: 99, Loss: 4.340\n",
      "Training DAGMM... Epoch: 100, Loss: 4.215\n",
      "Training DAGMM... Epoch: 101, Loss: 4.095\n",
      "Training DAGMM... Epoch: 102, Loss: 3.979\n",
      "Training DAGMM... Epoch: 103, Loss: 3.866\n",
      "Training DAGMM... Epoch: 104, Loss: 3.757\n",
      "Training DAGMM... Epoch: 105, Loss: 3.652\n",
      "Training DAGMM... Epoch: 106, Loss: 3.551\n",
      "Training DAGMM... Epoch: 107, Loss: 3.452\n",
      "Training DAGMM... Epoch: 108, Loss: 3.357\n",
      "Training DAGMM... Epoch: 109, Loss: 3.266\n",
      "Training DAGMM... Epoch: 110, Loss: 3.177\n",
      "Training DAGMM... Epoch: 111, Loss: 3.091\n",
      "Training DAGMM... Epoch: 112, Loss: 3.008\n",
      "Training DAGMM... Epoch: 113, Loss: 2.928\n",
      "Training DAGMM... Epoch: 114, Loss: 2.851\n",
      "Training DAGMM... Epoch: 115, Loss: 2.776\n",
      "Training DAGMM... Epoch: 116, Loss: 2.704\n",
      "Training DAGMM... Epoch: 117, Loss: 2.634\n",
      "Training DAGMM... Epoch: 118, Loss: 2.567\n",
      "Training DAGMM... Epoch: 119, Loss: 2.502\n",
      "Training DAGMM... Epoch: 120, Loss: 2.439\n",
      "Training DAGMM... Epoch: 121, Loss: 2.378\n",
      "Training DAGMM... Epoch: 122, Loss: 2.320\n",
      "Training DAGMM... Epoch: 123, Loss: 2.263\n",
      "Training DAGMM... Epoch: 124, Loss: 2.208\n",
      "Training DAGMM... Epoch: 125, Loss: 2.156\n",
      "Training DAGMM... Epoch: 126, Loss: 2.105\n",
      "Training DAGMM... Epoch: 127, Loss: 2.055\n",
      "Training DAGMM... Epoch: 128, Loss: 2.008\n",
      "Training DAGMM... Epoch: 129, Loss: 1.962\n",
      "Training DAGMM... Epoch: 130, Loss: 1.918\n",
      "Training DAGMM... Epoch: 131, Loss: 1.875\n",
      "Training DAGMM... Epoch: 132, Loss: 1.833\n",
      "Training DAGMM... Epoch: 133, Loss: 1.794\n",
      "Training DAGMM... Epoch: 134, Loss: 1.755\n",
      "Training DAGMM... Epoch: 135, Loss: 1.718\n",
      "Training DAGMM... Epoch: 136, Loss: 1.682\n",
      "Training DAGMM... Epoch: 137, Loss: 1.647\n",
      "Training DAGMM... Epoch: 138, Loss: 1.613\n",
      "Training DAGMM... Epoch: 139, Loss: 1.581\n",
      "Training DAGMM... Epoch: 140, Loss: 1.550\n",
      "Training DAGMM... Epoch: 141, Loss: 1.519\n",
      "Training DAGMM... Epoch: 142, Loss: 1.490\n",
      "Training DAGMM... Epoch: 143, Loss: 1.462\n",
      "Training DAGMM... Epoch: 144, Loss: 1.435\n",
      "Training DAGMM... Epoch: 145, Loss: 1.408\n",
      "Training DAGMM... Epoch: 146, Loss: 1.383\n",
      "Training DAGMM... Epoch: 147, Loss: 1.358\n",
      "Training DAGMM... Epoch: 148, Loss: 1.334\n",
      "Training DAGMM... Epoch: 149, Loss: 1.311\n",
      "Training DAGMM... Epoch: 150, Loss: 1.289\n",
      "Training DAGMM... Epoch: 151, Loss: 1.268\n",
      "Training DAGMM... Epoch: 152, Loss: 1.248\n",
      "Training DAGMM... Epoch: 153, Loss: 1.229\n",
      "Training DAGMM... Epoch: 154, Loss: 1.210\n",
      "Training DAGMM... Epoch: 155, Loss: 1.192\n",
      "Training DAGMM... Epoch: 156, Loss: 1.176\n",
      "Training DAGMM... Epoch: 157, Loss: 1.159\n",
      "Training DAGMM... Epoch: 158, Loss: 1.144\n",
      "Training DAGMM... Epoch: 159, Loss: 1.129\n",
      "Training DAGMM... Epoch: 160, Loss: 1.115\n",
      "Training DAGMM... Epoch: 161, Loss: 1.101\n",
      "Training DAGMM... Epoch: 162, Loss: 1.088\n",
      "Training DAGMM... Epoch: 163, Loss: 1.076\n",
      "Training DAGMM... Epoch: 164, Loss: 1.064\n",
      "Training DAGMM... Epoch: 165, Loss: 1.052\n",
      "Training DAGMM... Epoch: 166, Loss: 1.041\n",
      "Training DAGMM... Epoch: 167, Loss: 1.031\n",
      "Training DAGMM... Epoch: 168, Loss: 1.020\n",
      "Training DAGMM... Epoch: 169, Loss: 1.011\n",
      "Training DAGMM... Epoch: 170, Loss: 1.001\n",
      "Training DAGMM... Epoch: 171, Loss: 0.992\n",
      "Training DAGMM... Epoch: 172, Loss: 0.983\n",
      "Training DAGMM... Epoch: 173, Loss: 0.975\n",
      "Training DAGMM... Epoch: 174, Loss: 0.967\n",
      "Training DAGMM... Epoch: 175, Loss: 0.959\n",
      "Training DAGMM... Epoch: 176, Loss: 0.951\n",
      "Training DAGMM... Epoch: 177, Loss: 0.944\n",
      "Training DAGMM... Epoch: 178, Loss: 0.937\n",
      "Training DAGMM... Epoch: 179, Loss: 0.930\n",
      "Training DAGMM... Epoch: 180, Loss: 0.923\n",
      "Training DAGMM... Epoch: 181, Loss: 0.916\n",
      "Training DAGMM... Epoch: 182, Loss: 0.910\n",
      "Training DAGMM... Epoch: 183, Loss: 0.904\n",
      "Training DAGMM... Epoch: 184, Loss: 0.898\n",
      "Training DAGMM... Epoch: 185, Loss: 0.892\n",
      "Training DAGMM... Epoch: 186, Loss: 0.887\n",
      "Training DAGMM... Epoch: 187, Loss: 0.881\n",
      "Training DAGMM... Epoch: 188, Loss: 0.876\n",
      "Training DAGMM... Epoch: 189, Loss: 0.870\n",
      "Training DAGMM... Epoch: 190, Loss: 0.865\n",
      "Training DAGMM... Epoch: 191, Loss: 0.860\n",
      "Training DAGMM... Epoch: 192, Loss: 0.856\n",
      "Training DAGMM... Epoch: 193, Loss: 0.851\n",
      "Training DAGMM... Epoch: 194, Loss: 0.846\n",
      "Training DAGMM... Epoch: 195, Loss: 0.842\n",
      "Training DAGMM... Epoch: 196, Loss: 0.837\n",
      "Training DAGMM... Epoch: 197, Loss: 0.833\n",
      "Training DAGMM... Epoch: 198, Loss: 0.829\n",
      "Training DAGMM... Epoch: 199, Loss: 0.825\n"
     ]
    }
   ],
   "source": [
    "dagmm = TrainerDAGMM(args, X_NN)\n",
    "dagmm.train()"
   ]
  },
  {
   "cell_type": "code",
   "execution_count": 10,
   "metadata": {},
   "outputs": [
    {
     "name": "stdout",
     "output_type": "stream",
     "text": [
      "torch.Size([21600, 2]) torch.Size([21600, 117]) torch.Size([21600, 4]) torch.Size([21600, 6])\n",
      "torch.Size([6]) torch.Size([6, 4]) torch.Size([6, 4, 4])\n",
      "torch.Size([90, 240, 4]) torch.Size([90, 240, 4])\n"
     ]
    }
   ],
   "source": [
    "with torch.no_grad():\n",
    "    z, x_hat, aug_z, gamma = dagmm.model(X_NN.to(args.device))\n",
    "    print(z.shape, x_hat.shape, aug_z.shape, gamma.shape)\n",
    "    \n",
    "    # compute phi, mu, and cov using the training dataset\n",
    "    hp_gmm = dagmm.compute.compute_params(aug_z, gamma)\n",
    "    print(hp_gmm[0].shape, hp_gmm[1].shape, hp_gmm[2].shape)\n",
    "    \n",
    "    # reshape data to compute negative log likelihood\n",
    "    aug_z = aug_z.reshape((R,T,args.latent_dim+2))\n",
    "    zy, y_hat, aug_zy , _ = dagmm.model(Y_NN.to(args.device))\n",
    "    aug_zy = aug_zy.reshape((R,T,args.latent_dim+2))\n",
    "    print(aug_z.shape, aug_zy.shape)\n",
    "    \n",
    "    # compute likelihood for correct and incorrect motions\n",
    "    lik = {\"corr\":[],\"incorr\":[]}\n",
    "    for r in range(R):\n",
    "        cl,_ = dagmm.compute.compute_energy(aug_z[r], gamma, *hp_gmm)\n",
    "        lik[\"corr\"].append(-cl.cpu())\n",
    "        il,_ = dagmm.compute.compute_energy(aug_zy[r], gamma, *hp_gmm)\n",
    "        lik[\"incorr\"].append(-il.cpu())"
   ]
  },
  {
   "cell_type": "code",
   "execution_count": 11,
   "metadata": {},
   "outputs": [
    {
     "data": {
      "image/png": "[encoded data removed]",
      "text/plain": [
       "<Figure size 640x480 with 1 Axes>"
      ]
     },
     "metadata": {},
     "output_type": "display_data"
    }
   ],
   "source": [
    "plt.scatter(np.arange(1,91),lik[\"corr\"], label = \"Correct Sequences\")\n",
    "plt.scatter(np.arange(1,91),lik[\"incorr\"], label = \"Incorrect Sequences\")\n",
    "plt.xlabel(\"Sequence Number\")\n",
    "plt.ylabel(\"Log-Likelihood\")\n",
    "plt.legend()\n",
    "plt.show()"
   ]
  },
  {
   "cell_type": "code",
   "execution_count": null,
   "metadata": {},
   "outputs": [],
   "source": []
  }
 ],
 "metadata": {
  "kernelspec": {
   "display_name": "Python 3 (ipykernel)",
   "language": "python",
   "name": "python3"
  },
  "language_info": {
   "codemirror_mode": {
    "name": "ipython",
    "version": 3
   },
   "file_extension": ".py",
   "mimetype": "text/x-python",
   "name": "python",
   "nbconvert_exporter": "python",
   "pygments_lexer": "ipython3",
   "version": "3.11.9"
  }
 },
 "nbformat": 4,
 "nbformat_minor": 4
}
